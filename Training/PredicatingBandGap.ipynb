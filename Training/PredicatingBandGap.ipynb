{
 "cells": [
  {
   "cell_type": "code",
   "execution_count": 1,
   "metadata": {},
   "outputs": [],
   "source": [
    "import Data_Preprocessing.Graph_Data as gd\n",
    "from Data_Preprocessing.Graph_Data import Molecule_data\n",
    "from models.AttentiveFPModel import AttentiveFP\n",
    "import matplotlib.pyplot as plt\n",
    "import torch\n",
    "from torch_geometric.loader import DataLoader\n",
    "import os"
   ]
  },
  {
   "cell_type": "markdown",
   "metadata": {},
   "source": [
    "# Check Cuda"
   ]
  },
  {
   "cell_type": "code",
   "execution_count": 2,
   "metadata": {},
   "outputs": [
    {
     "name": "stdout",
     "output_type": "stream",
     "text": [
      "cuda:1\n"
     ]
    }
   ],
   "source": [
    "if torch.cuda.is_available():  \n",
    "    device = \"cuda:1\"\n",
    "    print(\"cuda:1\")\n",
    "else:  \n",
    "    device = \"cpu\" \n",
    "    print(torch.cuda.is_available())"
   ]
  },
  {
   "cell_type": "markdown",
   "metadata": {},
   "source": [
    "# Import Model"
   ]
  },
  {
   "cell_type": "code",
   "execution_count": 3,
   "metadata": {},
   "outputs": [],
   "source": [
    "model = AttentiveFP(in_channels=114, hidden_channels=292, out_channels=1,\n",
    "                    num_layers=3, num_timesteps=1,\n",
    "                    dropout= 0.05115077176824934).to(device)"
   ]
  },
  {
   "cell_type": "code",
   "execution_count": 4,
   "metadata": {},
   "outputs": [
    {
     "data": {
      "text/plain": [
       "<All keys matched successfully>"
      ]
     },
     "execution_count": 4,
     "metadata": {},
     "output_type": "execute_result"
    }
   ],
   "source": [
    "model_file_name = 'Graph_attention_best_12.model'\n",
    "model.load_state_dict(torch.load(model_file_name))"
   ]
  },
  {
   "cell_type": "markdown",
   "metadata": {},
   "source": [
    "# BandGap Predication"
   ]
  },
  {
   "cell_type": "code",
   "execution_count": 5,
   "metadata": {},
   "outputs": [],
   "source": [
    "def smilePredication(smile):\n",
    "    smile_graph = {}\n",
    "    band_gap_arr = []\n",
    "    \n",
    "    g = gd.smile_to_graph(smile)\n",
    "    if g != None:\n",
    "        smile_graph[smile] = g\n",
    "        band_gap_arr.append(0.00)\n",
    "        smiles_array.append(smile)\n",
    "        #Check the file if exists then delete \n",
    "        if os.path.exists(\"data/processed/predicate_data_set.pt\"):\n",
    "            os.remove(\"data/processed/predicate_data_set.pt\")\n",
    "            \n",
    "        pred_data = Molecule_data(root='data', dataset='predicate_data_set',\n",
    "                                 y=band_gap_arr,smile_graph=smile_graph,smiles=smiles_array)\n",
    "        TRAIN_BATCH_SIZE = 17\n",
    "        pred_loder   = DataLoader(pred_data,batch_size=TRAIN_BATCH_SIZE,shuffle=True)\n",
    "        \n",
    "        for data in pred_loder:\n",
    "            data = data.to(device)\n",
    "            return model(data.x.float(), data.edge_index,data.batch)\n",
    "    else: \n",
    "        print(\"Error while converting smile into graph\")\n",
    "        return\n"
   ]
  },
  {
   "cell_type": "code",
   "execution_count": 12,
   "metadata": {},
   "outputs": [
    {
     "name": "stdout",
     "output_type": "stream",
     "text": [
      "Pre-processed data data/processed/predicate_data_set.pt not found, doing pre-processing...\n",
      "Converting SMILES to graph: 1/1\n",
      "Graph construction done. Saving to file.\n"
     ]
    }
   ],
   "source": [
    "band_gap = smilePredication('C1(=O)N(C(CN1Cc1ccccc1)COC(=O)C)S(=O)(=O)c1ccc(cc1)C')"
   ]
  },
  {
   "cell_type": "code",
   "execution_count": 23,
   "metadata": {},
   "outputs": [
    {
     "name": "stdout",
     "output_type": "stream",
     "text": [
      "Predicated BandGap:  tensor([[3.6471]], device='cuda:1', grad_fn=<AddmmBackward>)\n"
     ]
    }
   ],
   "source": [
    "print('Predicated BandGap: ',band_gap)"
   ]
  },
  {
   "cell_type": "code",
   "execution_count": null,
   "metadata": {},
   "outputs": [],
   "source": []
  }
 ],
 "metadata": {
  "kernelspec": {
   "display_name": "Python 3",
   "language": "python",
   "name": "python3"
  },
  "language_info": {
   "codemirror_mode": {
    "name": "ipython",
    "version": 3
   },
   "file_extension": ".py",
   "mimetype": "text/x-python",
   "name": "python",
   "nbconvert_exporter": "python",
   "pygments_lexer": "ipython3",
   "version": "3.6.13"
  }
 },
 "nbformat": 4,
 "nbformat_minor": 4
}
