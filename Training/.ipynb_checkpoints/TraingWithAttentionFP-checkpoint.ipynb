{
 "cells": [
  {
   "cell_type": "code",
   "execution_count": 1,
   "metadata": {},
   "outputs": [],
   "source": [
    "import pandas as pd\n",
    "import numpy as np\n",
    "\n",
    "from rdkit import Chem\n",
    "from rdkit.Chem import Draw\n",
    "import networkx as nx\n",
    "from torch_geometric.datasets import MoleculeNet\n",
    "import matplotlib.pyplot as plt\n",
    "\n",
    "import torch\n",
    "import os\n",
    "import pandas as pd\n",
    "import numpy as np\n",
    "import json,pickle\n",
    "from collections import OrderedDict\n",
    "from rdkit import Chem\n",
    "from rdkit.Chem import MolFromSmiles\n",
    "import networkx as nx\n",
    "\n",
    "from torch_geometric.data import InMemoryDataset, Data\n",
    "from torch_geometric.loader import DataLoader\n",
    "\n",
    "from sklearn.model_selection import train_test_split\n",
    "from tqdm.notebook import tqdm\n",
    "import torch\n",
    "import torch.nn as nn\n",
    "\n",
    "import Data_Preprocessing.Graph_Data as gd\n",
    "from Data_Preprocessing.Graph_Data import Molecule_data\n",
    "from models.AttentiveFPModel import AttentiveFP\n",
    "import seaborn as sns"
   ]
  },
  {
   "cell_type": "code",
   "execution_count": 2,
   "metadata": {},
   "outputs": [],
   "source": [
    "df = pd.read_csv('Data_Preprocessing/omdb_smile_data_set.csv')"
   ]
  },
  {
   "cell_type": "code",
   "execution_count": 3,
   "metadata": {},
   "outputs": [],
   "source": [
    "smiles = df['SMILE']\n",
    "codIds = df['CODID']\n",
    "band_gap = df['bgs']"
   ]
  },
  {
   "cell_type": "code",
   "execution_count": 4,
   "metadata": {},
   "outputs": [
    {
     "name": "stdout",
     "output_type": "stream",
     "text": [
      "3.0630082776213756\n",
      "0.0\n",
      "8.54\n"
     ]
    }
   ],
   "source": [
    "print(band_gap.mean())\n",
    "print(band_gap.min())\n",
    "print(band_gap.max())"
   ]
  },
  {
   "cell_type": "code",
   "execution_count": 5,
   "metadata": {},
   "outputs": [
    {
     "data": {
      "image/png": "[encoded data removed]",
      "text/plain": [
       "<Figure size 432x288 with 1 Axes>"
      ]
     },
     "metadata": {},
     "output_type": "display_data"
    }
   ],
   "source": [
    "sns.set_theme(style=\"whitegrid\")\n",
    "tips = sns.load_dataset(\"tips\")\n",
    "ax = sns.violinplot(x=band_gap)"
   ]
  },
  {
   "cell_type": "code",
   "execution_count": null,
   "metadata": {},
   "outputs": [],
   "source": []
  },
  {
   "cell_type": "code",
   "execution_count": 6,
   "metadata": {},
   "outputs": [],
   "source": [
    "train_ratio = 0.70\n",
    "validation_ratio = 0.10\n",
    "test_ratio = 0.20\n",
    "\n",
    "# train is now 75% of the entire data set\n",
    "# the _junk suffix means that we drop that variable completely\n",
    "x_train, x_test, y_train, y_test = train_test_split(smiles, band_gap, test_size=1 - train_ratio)\n",
    "\n",
    "# test is now 10% of the initial data set\n",
    "# validation is now 15% of the initial data set\n",
    "x_val, x_test, y_val, y_test = train_test_split(x_test, y_test, test_size=test_ratio/(test_ratio + validation_ratio)) \n"
   ]
  },
  {
   "cell_type": "code",
   "execution_count": 7,
   "metadata": {},
   "outputs": [],
   "source": [
    "# X_train, X_val, y_train, y_val = train_test_split(smiles, band_gap, test_size=0.2)"
   ]
  },
  {
   "cell_type": "code",
   "execution_count": 8,
   "metadata": {},
   "outputs": [],
   "source": [
    "# X_train, X_test, y_train, y_test = train_test_split(X_train, y_train, test_size=0.2)"
   ]
  },
  {
   "cell_type": "code",
   "execution_count": null,
   "metadata": {},
   "outputs": [],
   "source": []
  },
  {
   "cell_type": "code",
   "execution_count": 9,
   "metadata": {},
   "outputs": [],
   "source": [
    "y_train = y_train.to_numpy()\n",
    "y_val = y_val.to_numpy()\n",
    "y_test = y_test.to_numpy()"
   ]
  },
  {
   "cell_type": "code",
   "execution_count": 10,
   "metadata": {},
   "outputs": [
    {
     "name": "stdout",
     "output_type": "stream",
     "text": [
      "11368\n"
     ]
    }
   ],
   "source": [
    "print(len(band_gap))"
   ]
  },
  {
   "cell_type": "markdown",
   "metadata": {},
   "source": [
    "# Train"
   ]
  },
  {
   "cell_type": "code",
   "execution_count": 11,
   "metadata": {},
   "outputs": [
    {
     "data": {
      "application/vnd.jupyter.widget-view+json": {
       "model_id": "a192851d3c7942b395bfaf01d83e2ada",
       "version_major": 2,
       "version_minor": 0
      },
      "text/plain": [
       "HBox(children=(HTML(value=''), FloatProgress(value=1.0, bar_style='info', layout=Layout(width='20px'), max=1.0…"
      ]
     },
     "metadata": {},
     "output_type": "display_data"
    },
    {
     "name": "stdout",
     "output_type": "stream",
     "text": [
      "\n"
     ]
    }
   ],
   "source": [
    "smile_graph = {}\n",
    "band_gap_arr = []\n",
    "smiles_array = []\n",
    "\n",
    "for i,smile in tqdm(enumerate(x_train)):\n",
    "    g = gd.smile_to_graph(smile)\n",
    "    if g != None:\n",
    "        smile_graph[smile] = g\n",
    "        band_gap_arr.append(y_train[i])\n",
    "        smiles_array.append(smile)"
   ]
  },
  {
   "cell_type": "code",
   "execution_count": 12,
   "metadata": {},
   "outputs": [
    {
     "name": "stdout",
     "output_type": "stream",
     "text": [
      "7334\n"
     ]
    }
   ],
   "source": [
    "print(len(band_gap_arr))"
   ]
  },
  {
   "cell_type": "markdown",
   "metadata": {},
   "source": [
    "# Validation"
   ]
  },
  {
   "cell_type": "code",
   "execution_count": 13,
   "metadata": {},
   "outputs": [],
   "source": [
    "smile_graph_val = {}\n",
    "band_gap_arr_val = []\n",
    "smiles_array_val = []\n",
    "for i,smile in enumerate(x_val):\n",
    "    g = gd.smile_to_graph(smile)\n",
    "    if g != None:\n",
    "        smile_graph_val[smile] = g\n",
    "        band_gap_arr_val.append(y_val[i])\n",
    "        smiles_array_val.append(smile)"
   ]
  },
  {
   "cell_type": "markdown",
   "metadata": {},
   "source": [
    "# Test"
   ]
  },
  {
   "cell_type": "code",
   "execution_count": 14,
   "metadata": {},
   "outputs": [],
   "source": [
    "smile_graph_test = {}\n",
    "band_gap_arr_test = []\n",
    "smiles_array_test = []\n",
    "for i,smile in enumerate(x_test):\n",
    "    g = gd.smile_to_graph(smile)\n",
    "    if g != None:\n",
    "        smile_graph_test[smile] = g\n",
    "        band_gap_arr_test.append(y_test[i])\n",
    "        smiles_array_test.append(smile)"
   ]
  },
  {
   "cell_type": "code",
   "execution_count": null,
   "metadata": {},
   "outputs": [],
   "source": []
  },
  {
   "cell_type": "markdown",
   "metadata": {},
   "source": [
    "# Train Graph"
   ]
  },
  {
   "cell_type": "code",
   "execution_count": 15,
   "metadata": {},
   "outputs": [],
   "source": [
    "train_data = Molecule_data(root='data', dataset='train_data_set',y=band_gap_arr,smile_graph=smile_graph,smiles=smiles_array)"
   ]
  },
  {
   "cell_type": "markdown",
   "metadata": {},
   "source": [
    "# Validation Graph"
   ]
  },
  {
   "cell_type": "code",
   "execution_count": 16,
   "metadata": {},
   "outputs": [],
   "source": [
    "val_data = Molecule_data(root='data', dataset='val_data_set',y=band_gap_arr_val,smile_graph=smile_graph_val,smiles=smiles_array_val)"
   ]
  },
  {
   "cell_type": "markdown",
   "metadata": {},
   "source": [
    "# Test Graph"
   ]
  },
  {
   "cell_type": "code",
   "execution_count": 17,
   "metadata": {},
   "outputs": [],
   "source": [
    "test_data = Molecule_data(root='data', dataset='test_data_set',y=band_gap_arr_test,smile_graph=smile_graph_test,smiles=smiles_array_test)"
   ]
  },
  {
   "cell_type": "code",
   "execution_count": 18,
   "metadata": {},
   "outputs": [],
   "source": [
    "TRAIN_BATCH_SIZE = 17"
   ]
  },
  {
   "cell_type": "code",
   "execution_count": 19,
   "metadata": {},
   "outputs": [],
   "source": [
    "train_loder   = DataLoader(train_data,batch_size=TRAIN_BATCH_SIZE,shuffle=True)\n",
    "test_loder  = DataLoader(test_data,batch_size=TRAIN_BATCH_SIZE,shuffle=True)\n",
    "val_loder  = DataLoader(val_data,batch_size=TRAIN_BATCH_SIZE,shuffle=True)"
   ]
  },
  {
   "cell_type": "code",
   "execution_count": 20,
   "metadata": {},
   "outputs": [
    {
     "data": {
      "text/plain": [
       "Batch(x=[271, 114], edge_index=[2, 558], y=[17], c_size=[17], batch=[271], ptr=[18])"
      ]
     },
     "execution_count": 20,
     "metadata": {},
     "output_type": "execute_result"
    }
   ],
   "source": [
    "next(iter(train_loder))"
   ]
  },
  {
   "cell_type": "code",
   "execution_count": 21,
   "metadata": {},
   "outputs": [
    {
     "name": "stdout",
     "output_type": "stream",
     "text": [
      "cuda:6\n"
     ]
    }
   ],
   "source": [
    "if torch.cuda.is_available():  \n",
    "    device = \"cuda:6\"\n",
    "    print(\"cuda:6\")\n",
    "else:  \n",
    "    device = \"cpu\" \n",
    "    print(torch.cuda.is_available())"
   ]
  },
  {
   "cell_type": "code",
   "execution_count": 22,
   "metadata": {},
   "outputs": [],
   "source": [
    "# training function at each epoch\n",
    "def train(model, device, train_loader, optimizer, epoch,loss_fn):\n",
    "    #print('Training on {} samples...'.format(len(train_loader1.dataset)))\n",
    "    model.train()\n",
    "    Loss = []\n",
    "    for data in train_loader:\n",
    "        data = data.to(device)\n",
    "        optimizer.zero_grad()\n",
    "        output = model(data.x.float(), data.edge_index,data.batch)\n",
    "        loss = loss_fn(output, data.y.view(-1, 1).float().to(device))\n",
    "        loss.backward()\n",
    "        optimizer.step()\n",
    "        Loss.append(loss.item())\n",
    "    nploss = np.asarray(Loss)\n",
    "    avg_loss = np.average(nploss)\n",
    "    return avg_loss"
   ]
  },
  {
   "cell_type": "code",
   "execution_count": 23,
   "metadata": {},
   "outputs": [],
   "source": [
    "def predicting(model, device, loader,loss_fn):\n",
    "    model.eval()\n",
    "    total_loss=total_example=0\n",
    "    with torch.no_grad():\n",
    "        for data in loader:\n",
    "            data = data.to(device)\n",
    "            output = model(data.x.float(), data.edge_index,data.batch)\n",
    "            loss = loss_fn(output, data.y.view(-1, 1).float().to(device))\n",
    "            total_loss+=loss\n",
    "            total_example+=1\n",
    "    return total_loss/total_example"
   ]
  },
  {
   "cell_type": "code",
   "execution_count": 24,
   "metadata": {},
   "outputs": [],
   "source": [
    "model = AttentiveFP(in_channels=114, hidden_channels=292, out_channels=1,\n",
    "                    num_layers=3, num_timesteps=1,\n",
    "                    dropout= 0.05115077176824934).to(device)"
   ]
  },
  {
   "cell_type": "code",
   "execution_count": 25,
   "metadata": {},
   "outputs": [],
   "source": [
    "#LR = 0.005\n",
    "LR = 8.28967316828403e-05\n",
    "eps_rate = 1.7687722582665366e-05\n",
    "weight_decay = 1.3459636454913954e-06\n",
    "LOG_INTERVAL = 20\n",
    "NUM_EPOCHS = 3000\n",
    "results = []"
   ]
  },
  {
   "cell_type": "code",
   "execution_count": 26,
   "metadata": {},
   "outputs": [],
   "source": [
    "class RMSELoss(nn.Module):\n",
    "    def __init__(self):\n",
    "        super().__init__()\n",
    "        self.mse = nn.MSELoss()\n",
    "        \n",
    "    def forward(self,yhat,y):\n",
    "        return torch.sqrt(self.mse(yhat,y))"
   ]
  },
  {
   "cell_type": "code",
   "execution_count": 27,
   "metadata": {},
   "outputs": [],
   "source": [
    "#loss_fn = nn.MSELoss()\n",
    "#loss_fn = RMSELoss()\n",
    "loss_fn = nn.L1Loss()\n",
    "model = model.cuda(device)\n",
    "#optimizer = torch.optim.Adam(model.parameters(), lr=LR)\n",
    "optimizer = torch.optim.Adam(model.parameters(),lr=LR,betas=(0.9,0.999),\n",
    "                                 eps=eps_rate,weight_decay=weight_decay,amsgrad=False)"
   ]
  },
  {
   "cell_type": "code",
   "execution_count": 28,
   "metadata": {
    "scrolled": true
   },
   "outputs": [
    {
     "name": "stdout",
     "output_type": "stream",
     "text": [
      "Epoch 0: Train mae: 0.89822\t val mae: 0.75918\t\n",
      "Epoch 1: Train mae: 0.63873\t val mae: 0.61343\t\n",
      "Epoch 2: Train mae: 0.58730\t val mae: 0.57166\t\n",
      "Epoch 3: Train mae: 0.55834\t val mae: 0.58909\t\n",
      "trigger times: 1\n",
      "Epoch 4: Train mae: 0.53097\t val mae: 0.49776\t\n",
      "Epoch 5: Train mae: 0.49077\t val mae: 0.48204\t\n",
      "Epoch 6: Train mae: 0.47544\t val mae: 0.47186\t\n",
      "Epoch 7: Train mae: 0.45739\t val mae: 0.42703\t\n",
      "Epoch 8: Train mae: 0.44658\t val mae: 0.41904\t\n",
      "Epoch 9: Train mae: 0.43859\t val mae: 0.44544\t\n",
      "trigger times: 1\n",
      "Epoch 10: Train mae: 0.42929\t val mae: 0.40942\t\n",
      "Epoch 11: Train mae: 0.42521\t val mae: 0.41129\t\n",
      "trigger times: 1\n",
      "Epoch 12: Train mae: 0.42100\t val mae: 0.39996\t\n",
      "Epoch 13: Train mae: 0.41634\t val mae: 0.40128\t\n",
      "trigger times: 1\n",
      "Epoch 14: Train mae: 0.41498\t val mae: 0.41560\t\n",
      "trigger times: 2\n",
      "Epoch 15: Train mae: 0.40804\t val mae: 0.38611\t\n",
      "Epoch 16: Train mae: 0.40192\t val mae: 0.39819\t\n",
      "trigger times: 1\n",
      "Epoch 17: Train mae: 0.40296\t val mae: 0.38838\t\n",
      "trigger times: 2\n",
      "Epoch 18: Train mae: 0.39830\t val mae: 0.39847\t\n",
      "trigger times: 3\n",
      "Epoch 19: Train mae: 0.39805\t val mae: 0.36882\t\n",
      "Epoch 20: Train mae: 0.39173\t val mae: 0.40338\t\n",
      "trigger times: 1\n",
      "Epoch 21: Train mae: 0.38652\t val mae: 0.35925\t\n",
      "Epoch 22: Train mae: 0.38389\t val mae: 0.38101\t\n",
      "trigger times: 1\n",
      "Epoch 23: Train mae: 0.38344\t val mae: 0.37103\t\n",
      "trigger times: 2\n",
      "Epoch 24: Train mae: 0.37891\t val mae: 0.37207\t\n",
      "trigger times: 3\n",
      "Epoch 25: Train mae: 0.37123\t val mae: 0.34108\t\n",
      "Epoch 26: Train mae: 0.37231\t val mae: 0.35078\t\n",
      "trigger times: 1\n",
      "Epoch 27: Train mae: 0.36507\t val mae: 0.34478\t\n",
      "trigger times: 2\n",
      "Epoch 28: Train mae: 0.36824\t val mae: 0.33625\t\n",
      "Epoch 29: Train mae: 0.36178\t val mae: 0.34513\t\n",
      "trigger times: 1\n",
      "Epoch 30: Train mae: 0.35575\t val mae: 0.33647\t\n",
      "trigger times: 2\n",
      "Epoch 31: Train mae: 0.35447\t val mae: 0.33815\t\n",
      "trigger times: 3\n",
      "Epoch 32: Train mae: 0.35250\t val mae: 0.33783\t\n",
      "trigger times: 4\n",
      "Epoch 33: Train mae: 0.35051\t val mae: 0.36128\t\n",
      "trigger times: 5\n",
      "Epoch 34: Train mae: 0.35105\t val mae: 0.34484\t\n",
      "trigger times: 6\n",
      "Epoch 35: Train mae: 0.34267\t val mae: 0.35391\t\n",
      "trigger times: 7\n",
      "Epoch 36: Train mae: 0.34793\t val mae: 0.34108\t\n",
      "trigger times: 8\n",
      "Epoch 37: Train mae: 0.34112\t val mae: 0.33995\t\n",
      "trigger times: 9\n",
      "Epoch 38: Train mae: 0.33682\t val mae: 0.32102\t\n",
      "Epoch 39: Train mae: 0.34093\t val mae: 0.33710\t\n",
      "trigger times: 1\n",
      "Epoch 40: Train mae: 0.33590\t val mae: 0.32010\t\n",
      "Epoch 41: Train mae: 0.33152\t val mae: 0.32687\t\n",
      "trigger times: 1\n",
      "Epoch 42: Train mae: 0.33233\t val mae: 0.33846\t\n",
      "trigger times: 2\n",
      "Epoch 43: Train mae: 0.33040\t val mae: 0.32243\t\n",
      "trigger times: 3\n",
      "Epoch 44: Train mae: 0.32717\t val mae: 0.33972\t\n",
      "trigger times: 4\n",
      "Epoch 45: Train mae: 0.32600\t val mae: 0.31985\t\n",
      "Epoch 46: Train mae: 0.32312\t val mae: 0.32888\t\n",
      "trigger times: 1\n",
      "Epoch 47: Train mae: 0.31697\t val mae: 0.32789\t\n",
      "trigger times: 2\n",
      "Epoch 48: Train mae: 0.32287\t val mae: 0.31458\t\n",
      "Epoch 49: Train mae: 0.32030\t val mae: 0.31411\t\n",
      "Epoch 50: Train mae: 0.31838\t val mae: 0.31149\t\n",
      "Epoch 51: Train mae: 0.31981\t val mae: 0.32374\t\n",
      "trigger times: 1\n",
      "Epoch 52: Train mae: 0.31225\t val mae: 0.31953\t\n",
      "trigger times: 2\n",
      "Epoch 53: Train mae: 0.31387\t val mae: 0.32720\t\n",
      "trigger times: 3\n",
      "Epoch 54: Train mae: 0.31145\t val mae: 0.30615\t\n",
      "Epoch 55: Train mae: 0.31411\t val mae: 0.31287\t\n",
      "trigger times: 1\n",
      "Epoch 56: Train mae: 0.30810\t val mae: 0.31871\t\n",
      "trigger times: 2\n",
      "Epoch 57: Train mae: 0.31347\t val mae: 0.31696\t\n",
      "trigger times: 3\n",
      "Epoch 58: Train mae: 0.31117\t val mae: 0.33008\t\n",
      "trigger times: 4\n",
      "Epoch 59: Train mae: 0.30914\t val mae: 0.30973\t\n",
      "trigger times: 5\n",
      "Epoch 60: Train mae: 0.30777\t val mae: 0.30064\t\n",
      "Epoch 61: Train mae: 0.30145\t val mae: 0.30336\t\n",
      "trigger times: 1\n",
      "Epoch 62: Train mae: 0.30285\t val mae: 0.29891\t\n",
      "Epoch 63: Train mae: 0.30138\t val mae: 0.31039\t\n",
      "trigger times: 1\n",
      "Epoch 64: Train mae: 0.30009\t val mae: 0.30308\t\n",
      "trigger times: 2\n",
      "Epoch 65: Train mae: 0.30017\t val mae: 0.30706\t\n",
      "trigger times: 3\n",
      "Epoch 66: Train mae: 0.29807\t val mae: 0.30769\t\n",
      "trigger times: 4\n",
      "Epoch 67: Train mae: 0.29780\t val mae: 0.29764\t\n",
      "Epoch 68: Train mae: 0.29629\t val mae: 0.30152\t\n",
      "trigger times: 1\n",
      "Epoch 69: Train mae: 0.29518\t val mae: 0.30031\t\n",
      "trigger times: 2\n",
      "Epoch 70: Train mae: 0.29307\t val mae: 0.29365\t\n",
      "Epoch 71: Train mae: 0.29498\t val mae: 0.29727\t\n",
      "trigger times: 1\n",
      "Epoch 72: Train mae: 0.29119\t val mae: 0.28866\t\n",
      "Epoch 73: Train mae: 0.29158\t val mae: 0.29505\t\n",
      "trigger times: 1\n",
      "Epoch 74: Train mae: 0.29068\t val mae: 0.29027\t\n",
      "trigger times: 2\n",
      "Epoch 75: Train mae: 0.28895\t val mae: 0.29524\t\n",
      "trigger times: 3\n",
      "Epoch 76: Train mae: 0.29023\t val mae: 0.31852\t\n",
      "trigger times: 4\n",
      "Epoch 77: Train mae: 0.29058\t val mae: 0.29145\t\n",
      "trigger times: 5\n",
      "Epoch 78: Train mae: 0.28414\t val mae: 0.30074\t\n",
      "trigger times: 6\n",
      "Epoch 79: Train mae: 0.28249\t val mae: 0.29721\t\n",
      "trigger times: 7\n",
      "Epoch 80: Train mae: 0.28483\t val mae: 0.28745\t\n",
      "Epoch 81: Train mae: 0.28004\t val mae: 0.28416\t\n",
      "Epoch 82: Train mae: 0.28085\t val mae: 0.28920\t\n",
      "trigger times: 1\n",
      "Epoch 83: Train mae: 0.27649\t val mae: 0.28286\t\n",
      "Epoch 84: Train mae: 0.27760\t val mae: 0.28822\t\n",
      "trigger times: 1\n",
      "Epoch 85: Train mae: 0.27834\t val mae: 0.29269\t\n",
      "trigger times: 2\n",
      "Epoch 86: Train mae: 0.27689\t val mae: 0.29384\t\n",
      "trigger times: 3\n",
      "Epoch 87: Train mae: 0.27510\t val mae: 0.27721\t\n",
      "Epoch 88: Train mae: 0.27296\t val mae: 0.28754\t\n",
      "trigger times: 1\n",
      "Epoch 89: Train mae: 0.27250\t val mae: 0.28303\t\n",
      "trigger times: 2\n",
      "Epoch 90: Train mae: 0.27113\t val mae: 0.28207\t\n",
      "trigger times: 3\n",
      "Epoch 91: Train mae: 0.27485\t val mae: 0.27626\t\n",
      "Epoch 92: Train mae: 0.26984\t val mae: 0.27852\t\n",
      "trigger times: 1\n",
      "Epoch 93: Train mae: 0.26710\t val mae: 0.28549\t\n",
      "trigger times: 2\n",
      "Epoch 94: Train mae: 0.27044\t val mae: 0.28492\t\n",
      "trigger times: 3\n",
      "Epoch 95: Train mae: 0.26633\t val mae: 0.27252\t\n",
      "Epoch 96: Train mae: 0.26527\t val mae: 0.27293\t\n",
      "trigger times: 1\n",
      "Epoch 97: Train mae: 0.26646\t val mae: 0.27022\t\n",
      "Epoch 98: Train mae: 0.26778\t val mae: 0.27899\t\n",
      "trigger times: 1\n",
      "Epoch 99: Train mae: 0.26733\t val mae: 0.27829\t\n",
      "trigger times: 2\n",
      "Epoch 100: Train mae: 0.26352\t val mae: 0.27676\t\n",
      "trigger times: 3\n",
      "Epoch 101: Train mae: 0.26567\t val mae: 0.26801\t\n",
      "Epoch 102: Train mae: 0.25710\t val mae: 0.29160\t\n",
      "trigger times: 1\n",
      "Epoch 103: Train mae: 0.26152\t val mae: 0.27166\t\n",
      "trigger times: 2\n",
      "Epoch 104: Train mae: 0.25820\t val mae: 0.26767\t\n",
      "Epoch 105: Train mae: 0.26178\t val mae: 0.27711\t\n",
      "trigger times: 1\n",
      "Epoch 106: Train mae: 0.26160\t val mae: 0.27039\t\n",
      "trigger times: 2\n",
      "Epoch 107: Train mae: 0.25797\t val mae: 0.27214\t\n",
      "trigger times: 3\n",
      "Epoch 108: Train mae: 0.25829\t val mae: 0.26612\t\n",
      "Epoch 109: Train mae: 0.25717\t val mae: 0.26771\t\n",
      "trigger times: 1\n",
      "Epoch 110: Train mae: 0.25533\t val mae: 0.26848\t\n",
      "trigger times: 2\n",
      "Epoch 111: Train mae: 0.25412\t val mae: 0.26658\t\n",
      "trigger times: 3\n",
      "Epoch 112: Train mae: 0.25550\t val mae: 0.25987\t\n",
      "Epoch 113: Train mae: 0.25310\t val mae: 0.26184\t\n",
      "trigger times: 1\n",
      "Epoch 114: Train mae: 0.25065\t val mae: 0.27102\t\n",
      "trigger times: 2\n",
      "Epoch 115: Train mae: 0.24973\t val mae: 0.28223\t\n",
      "trigger times: 3\n",
      "Epoch 116: Train mae: 0.25173\t val mae: 0.26083\t\n",
      "trigger times: 4\n",
      "Epoch 117: Train mae: 0.24655\t val mae: 0.26504\t\n",
      "trigger times: 5\n",
      "Epoch 118: Train mae: 0.24667\t val mae: 0.26769\t\n",
      "trigger times: 6\n",
      "Epoch 119: Train mae: 0.24962\t val mae: 0.26719\t\n",
      "trigger times: 7\n",
      "Epoch 120: Train mae: 0.24424\t val mae: 0.26778\t\n",
      "trigger times: 8\n",
      "Epoch 121: Train mae: 0.24968\t val mae: 0.27061\t\n",
      "trigger times: 9\n",
      "Epoch 122: Train mae: 0.24392\t val mae: 0.26986\t\n",
      "trigger times: 10\n",
      "Epoch 123: Train mae: 0.24423\t val mae: 0.25914\t\n",
      "Epoch 124: Train mae: 0.24357\t val mae: 0.26579\t\n",
      "trigger times: 1\n",
      "Epoch 125: Train mae: 0.24493\t val mae: 0.26294\t\n",
      "trigger times: 2\n",
      "Epoch 126: Train mae: 0.24304\t val mae: 0.26359\t\n",
      "trigger times: 3\n",
      "Epoch 127: Train mae: 0.24370\t val mae: 0.27203\t\n",
      "trigger times: 4\n",
      "Epoch 128: Train mae: 0.24177\t val mae: 0.26741\t\n",
      "trigger times: 5\n",
      "Epoch 129: Train mae: 0.24091\t val mae: 0.27556\t\n",
      "trigger times: 6\n",
      "Epoch 130: Train mae: 0.23956\t val mae: 0.25916\t\n",
      "trigger times: 7\n",
      "Epoch 131: Train mae: 0.23926\t val mae: 0.26557\t\n",
      "trigger times: 8\n",
      "Epoch 132: Train mae: 0.23745\t val mae: 0.26059\t\n",
      "trigger times: 9\n",
      "Epoch 133: Train mae: 0.23888\t val mae: 0.26633\t\n",
      "trigger times: 10\n",
      "Epoch 134: Train mae: 0.23635\t val mae: 0.27578\t\n",
      "trigger times: 11\n",
      "Epoch 135: Train mae: 0.23842\t val mae: 0.25823\t\n",
      "Epoch 136: Train mae: 0.23163\t val mae: 0.26148\t\n",
      "trigger times: 1\n",
      "Epoch 137: Train mae: 0.23225\t val mae: 0.26930\t\n",
      "trigger times: 2\n",
      "Epoch 138: Train mae: 0.23250\t val mae: 0.27543\t\n",
      "trigger times: 3\n",
      "Epoch 139: Train mae: 0.23472\t val mae: 0.26148\t\n",
      "trigger times: 4\n",
      "Epoch 140: Train mae: 0.23436\t val mae: 0.25954\t\n",
      "trigger times: 5\n",
      "Epoch 141: Train mae: 0.23174\t val mae: 0.27034\t\n",
      "trigger times: 6\n",
      "Epoch 142: Train mae: 0.23037\t val mae: 0.26003\t\n",
      "trigger times: 7\n",
      "Epoch 143: Train mae: 0.23137\t val mae: 0.27197\t\n",
      "trigger times: 8\n",
      "Epoch 144: Train mae: 0.22871\t val mae: 0.26689\t\n",
      "trigger times: 9\n",
      "Epoch 145: Train mae: 0.22875\t val mae: 0.25902\t\n",
      "trigger times: 10\n",
      "Epoch 146: Train mae: 0.23016\t val mae: 0.25745\t\n",
      "Epoch 147: Train mae: 0.22831\t val mae: 0.27360\t\n",
      "trigger times: 1\n",
      "Epoch 148: Train mae: 0.22502\t val mae: 0.25333\t\n",
      "Epoch 149: Train mae: 0.22884\t val mae: 0.28171\t\n",
      "trigger times: 1\n",
      "Epoch 150: Train mae: 0.22644\t val mae: 0.25888\t\n",
      "trigger times: 2\n",
      "Epoch 151: Train mae: 0.22282\t val mae: 0.26079\t\n",
      "trigger times: 3\n",
      "Epoch 152: Train mae: 0.22433\t val mae: 0.27042\t\n",
      "trigger times: 4\n",
      "Epoch 153: Train mae: 0.22279\t val mae: 0.25671\t\n",
      "trigger times: 5\n",
      "Epoch 154: Train mae: 0.22467\t val mae: 0.25716\t\n",
      "trigger times: 6\n",
      "Epoch 155: Train mae: 0.22017\t val mae: 0.25412\t\n",
      "trigger times: 7\n",
      "Epoch 156: Train mae: 0.21930\t val mae: 0.25543\t\n",
      "trigger times: 8\n",
      "Epoch 157: Train mae: 0.22179\t val mae: 0.27377\t\n",
      "trigger times: 9\n",
      "Epoch 158: Train mae: 0.22179\t val mae: 0.27438\t\n",
      "trigger times: 10\n",
      "Epoch 159: Train mae: 0.21914\t val mae: 0.26135\t\n",
      "trigger times: 11\n",
      "Epoch 160: Train mae: 0.21724\t val mae: 0.25303\t\n",
      "Epoch 161: Train mae: 0.21990\t val mae: 0.26763\t\n",
      "trigger times: 1\n",
      "Epoch 162: Train mae: 0.21894\t val mae: 0.26021\t\n",
      "trigger times: 2\n",
      "Epoch 163: Train mae: 0.21801\t val mae: 0.24997\t\n",
      "Epoch 164: Train mae: 0.22053\t val mae: 0.25501\t\n",
      "trigger times: 1\n",
      "Epoch 165: Train mae: 0.21719\t val mae: 0.25395\t\n",
      "trigger times: 2\n",
      "Epoch 166: Train mae: 0.21483\t val mae: 0.27014\t\n",
      "trigger times: 3\n",
      "Epoch 167: Train mae: 0.21427\t val mae: 0.26005\t\n",
      "trigger times: 4\n",
      "Epoch 168: Train mae: 0.21281\t val mae: 0.26393\t\n",
      "trigger times: 5\n",
      "Epoch 169: Train mae: 0.21512\t val mae: 0.27072\t\n",
      "trigger times: 6\n",
      "Epoch 170: Train mae: 0.21377\t val mae: 0.25771\t\n",
      "trigger times: 7\n",
      "Epoch 171: Train mae: 0.21639\t val mae: 0.27091\t\n",
      "trigger times: 8\n",
      "Epoch 172: Train mae: 0.21338\t val mae: 0.25029\t\n",
      "trigger times: 9\n",
      "Epoch 173: Train mae: 0.20930\t val mae: 0.25962\t\n",
      "trigger times: 10\n",
      "Epoch 174: Train mae: 0.20820\t val mae: 0.25864\t\n",
      "trigger times: 11\n",
      "Epoch 175: Train mae: 0.20872\t val mae: 0.25645\t\n",
      "trigger times: 12\n",
      "Epoch 176: Train mae: 0.20814\t val mae: 0.25417\t\n",
      "trigger times: 13\n",
      "Epoch 177: Train mae: 0.20868\t val mae: 0.26344\t\n",
      "trigger times: 14\n",
      "Epoch 178: Train mae: 0.20908\t val mae: 0.25575\t\n",
      "trigger times: 15\n",
      "Epoch 179: Train mae: 0.20727\t val mae: 0.25565\t\n",
      "trigger times: 16\n",
      "Epoch 180: Train mae: 0.20470\t val mae: 0.25136\t\n",
      "trigger times: 17\n",
      "Epoch 181: Train mae: 0.20778\t val mae: 0.25448\t\n",
      "trigger times: 18\n",
      "Epoch 182: Train mae: 0.20815\t val mae: 0.24897\t\n",
      "Epoch 183: Train mae: 0.20379\t val mae: 0.25505\t\n",
      "trigger times: 1\n",
      "Epoch 184: Train mae: 0.20380\t val mae: 0.26434\t\n",
      "trigger times: 2\n",
      "Epoch 185: Train mae: 0.20891\t val mae: 0.25991\t\n",
      "trigger times: 3\n",
      "Epoch 186: Train mae: 0.20455\t val mae: 0.25322\t\n",
      "trigger times: 4\n",
      "Epoch 187: Train mae: 0.20234\t val mae: 0.25222\t\n",
      "trigger times: 5\n",
      "Epoch 188: Train mae: 0.20215\t val mae: 0.26065\t\n",
      "trigger times: 6\n",
      "Epoch 189: Train mae: 0.20480\t val mae: 0.24791\t\n",
      "Epoch 190: Train mae: 0.20169\t val mae: 0.25074\t\n",
      "trigger times: 1\n",
      "Epoch 191: Train mae: 0.20045\t val mae: 0.25231\t\n",
      "trigger times: 2\n",
      "Epoch 192: Train mae: 0.20031\t val mae: 0.25490\t\n",
      "trigger times: 3\n",
      "Epoch 193: Train mae: 0.19588\t val mae: 0.28041\t\n",
      "trigger times: 4\n",
      "Epoch 194: Train mae: 0.19968\t val mae: 0.25330\t\n",
      "trigger times: 5\n",
      "Epoch 195: Train mae: 0.19971\t val mae: 0.26265\t\n",
      "trigger times: 6\n",
      "Epoch 196: Train mae: 0.19967\t val mae: 0.24820\t\n",
      "trigger times: 7\n",
      "Epoch 197: Train mae: 0.19687\t val mae: 0.25615\t\n",
      "trigger times: 8\n",
      "Epoch 198: Train mae: 0.19882\t val mae: 0.25094\t\n",
      "trigger times: 9\n",
      "Epoch 199: Train mae: 0.19547\t val mae: 0.24691\t\n",
      "Epoch 200: Train mae: 0.19698\t val mae: 0.26974\t\n",
      "trigger times: 1\n",
      "Epoch 201: Train mae: 0.19632\t val mae: 0.25280\t\n",
      "trigger times: 2\n",
      "Epoch 202: Train mae: 0.19550\t val mae: 0.25373\t\n",
      "trigger times: 3\n",
      "Epoch 203: Train mae: 0.19219\t val mae: 0.24769\t\n",
      "trigger times: 4\n",
      "Epoch 204: Train mae: 0.19291\t val mae: 0.24872\t\n",
      "trigger times: 5\n",
      "Epoch 205: Train mae: 0.19419\t val mae: 0.24664\t\n",
      "Epoch 206: Train mae: 0.19319\t val mae: 0.26146\t\n",
      "trigger times: 1\n",
      "Epoch 207: Train mae: 0.19487\t val mae: 0.25296\t\n",
      "trigger times: 2\n",
      "Epoch 208: Train mae: 0.19132\t val mae: 0.24994\t\n",
      "trigger times: 3\n",
      "Epoch 209: Train mae: 0.19165\t val mae: 0.25158\t\n",
      "trigger times: 4\n",
      "Epoch 210: Train mae: 0.19226\t val mae: 0.24788\t\n",
      "trigger times: 5\n",
      "Epoch 211: Train mae: 0.18846\t val mae: 0.24633\t\n",
      "Epoch 212: Train mae: 0.19033\t val mae: 0.25149\t\n",
      "trigger times: 1\n",
      "Epoch 213: Train mae: 0.19305\t val mae: 0.24477\t\n",
      "Epoch 214: Train mae: 0.18849\t val mae: 0.24913\t\n",
      "trigger times: 1\n",
      "Epoch 215: Train mae: 0.18805\t val mae: 0.24829\t\n",
      "trigger times: 2\n",
      "Epoch 216: Train mae: 0.18818\t val mae: 0.24732\t\n",
      "trigger times: 3\n",
      "Epoch 217: Train mae: 0.18896\t val mae: 0.25481\t\n",
      "trigger times: 4\n",
      "Epoch 218: Train mae: 0.19020\t val mae: 0.25158\t\n",
      "trigger times: 5\n",
      "Epoch 219: Train mae: 0.18813\t val mae: 0.24600\t\n",
      "trigger times: 6\n",
      "Epoch 220: Train mae: 0.18886\t val mae: 0.24197\t\n",
      "Epoch 221: Train mae: 0.18508\t val mae: 0.24958\t\n",
      "trigger times: 1\n",
      "Epoch 222: Train mae: 0.18414\t val mae: 0.24791\t\n",
      "trigger times: 2\n",
      "Epoch 223: Train mae: 0.18612\t val mae: 0.24644\t\n",
      "trigger times: 3\n",
      "Epoch 224: Train mae: 0.18327\t val mae: 0.25117\t\n",
      "trigger times: 4\n",
      "Epoch 225: Train mae: 0.18270\t val mae: 0.25116\t\n",
      "trigger times: 5\n",
      "Epoch 226: Train mae: 0.18437\t val mae: 0.24086\t\n",
      "Epoch 227: Train mae: 0.18597\t val mae: 0.25172\t\n",
      "trigger times: 1\n",
      "Epoch 228: Train mae: 0.18191\t val mae: 0.24801\t\n",
      "trigger times: 2\n",
      "Epoch 229: Train mae: 0.18354\t val mae: 0.24580\t\n",
      "trigger times: 3\n",
      "Epoch 230: Train mae: 0.18355\t val mae: 0.24603\t\n",
      "trigger times: 4\n",
      "Epoch 231: Train mae: 0.18333\t val mae: 0.25777\t\n",
      "trigger times: 5\n",
      "Epoch 232: Train mae: 0.18161\t val mae: 0.24590\t\n",
      "trigger times: 6\n",
      "Epoch 233: Train mae: 0.18092\t val mae: 0.24575\t\n",
      "trigger times: 7\n",
      "Epoch 234: Train mae: 0.17998\t val mae: 0.24385\t\n",
      "trigger times: 8\n",
      "Epoch 235: Train mae: 0.17961\t val mae: 0.24956\t\n",
      "trigger times: 9\n",
      "Epoch 236: Train mae: 0.18080\t val mae: 0.24592\t\n",
      "trigger times: 10\n",
      "Epoch 237: Train mae: 0.17968\t val mae: 0.24577\t\n",
      "trigger times: 11\n",
      "Epoch 238: Train mae: 0.17950\t val mae: 0.25309\t\n",
      "trigger times: 12\n",
      "Epoch 239: Train mae: 0.17825\t val mae: 0.24659\t\n",
      "trigger times: 13\n",
      "Epoch 240: Train mae: 0.17714\t val mae: 0.24946\t\n",
      "trigger times: 14\n",
      "Epoch 241: Train mae: 0.17763\t val mae: 0.25816\t\n",
      "trigger times: 15\n",
      "Epoch 242: Train mae: 0.17485\t val mae: 0.24753\t\n",
      "trigger times: 16\n",
      "Epoch 243: Train mae: 0.17525\t val mae: 0.25306\t\n",
      "trigger times: 17\n",
      "Epoch 244: Train mae: 0.17629\t val mae: 0.24478\t\n",
      "trigger times: 18\n",
      "Epoch 245: Train mae: 0.17706\t val mae: 0.24649\t\n",
      "trigger times: 19\n",
      "Epoch 246: Train mae: 0.17555\t val mae: 0.25100\t\n",
      "trigger times: 20\n",
      "Epoch 247: Train mae: 0.17566\t val mae: 0.25567\t\n",
      "trigger times: 21\n",
      "Epoch 248: Train mae: 0.17384\t val mae: 0.25203\t\n",
      "trigger times: 22\n",
      "Epoch 249: Train mae: 0.17604\t val mae: 0.24521\t\n",
      "trigger times: 23\n",
      "Epoch 250: Train mae: 0.17538\t val mae: 0.24499\t\n",
      "trigger times: 24\n",
      "Epoch 251: Train mae: 0.17503\t val mae: 0.24728\t\n",
      "trigger times: 25\n",
      "Epoch 252: Train mae: 0.17455\t val mae: 0.25087\t\n",
      "trigger times: 26\n",
      "Early stopping!\n",
      "Start to test process.\n"
     ]
    }
   ],
   "source": [
    "best_ret = []\n",
    "best_mse = 0.80\n",
    "best_ci = 0\n",
    "patience=0\n",
    "best_epoch = -1\n",
    "model_st = \"GCNNet\"\n",
    "model_file_name = 'model_New' + model_st  +  '.model'\n",
    "result_file_name = 'result_' + model_st +  '.csv'\n",
    "\n",
    "val_losses = []\n",
    "train_losses = []\n",
    "\n",
    "the_last_loss = 100\n",
    "patience = 26\n",
    "trigger_times = 0\n",
    "count_loss_difference = 0\n",
    "\n",
    "for epoch in range(NUM_EPOCHS):\n",
    "    train_loss=train(model, device, train_loder, optimizer, epoch+1,loss_fn)\n",
    "    test_loss = predicting(model, device, val_loder,loss_fn)\n",
    "#     test_loss = predicting(model, device, test_loder,loss_fn)\n",
    "#     print('Epoch% d: Train mae: %2.5f\\t val mae: %2.5f\\t test mae: %2.5f\\t'\n",
    "#           %(epoch, train_loss, val_loss.item(),test_loss.item()))\n",
    "\n",
    "    print('Epoch% d: Train mae: %2.5f\\t val mae: %2.5f\\t'\n",
    "          %(epoch, train_loss,test_loss.item()))\n",
    "    ret = [epoch,train_loss,test_loss.item()]\n",
    "    \n",
    "    train_losses.append(train_loss)\n",
    "    val_losses.append(test_loss.item())\n",
    "    # Early stopping\n",
    "    the_current_loss = test_loss.item()\n",
    "    \n",
    "    if the_current_loss > the_last_loss:\n",
    "        trigger_times += 1\n",
    "        print('trigger times:', trigger_times)\n",
    "\n",
    "        if trigger_times >= patience:\n",
    "            print('Early stopping!\\nStart to test process.')\n",
    "            break\n",
    "    else:\n",
    "        \n",
    "        trigger_times = 0\n",
    "        the_last_loss = the_current_loss\n",
    "        torch.save(model.state_dict(), 'Graph_attention_best_12.model')\n",
    "\n",
    "\n",
    "    with open(result_file_name,'w') as f:\n",
    "        f.write(','.join(map(str,ret)))\n"
   ]
  },
  {
   "cell_type": "markdown",
   "metadata": {},
   "source": [
    "# visualization"
   ]
  },
  {
   "cell_type": "code",
   "execution_count": 29,
   "metadata": {},
   "outputs": [
    {
     "data": {
      "text/plain": [
       "253"
      ]
     },
     "execution_count": 29,
     "metadata": {},
     "output_type": "execute_result"
    }
   ],
   "source": [
    "len(train_losses)"
   ]
  },
  {
   "cell_type": "code",
   "execution_count": 30,
   "metadata": {},
   "outputs": [
    {
     "data": {
      "image/png": "[encoded data removed]",
      "text/plain": [
       "<Figure size 720x360 with 1 Axes>"
      ]
     },
     "metadata": {},
     "output_type": "display_data"
    }
   ],
   "source": [
    "plt.figure(figsize=(10,5))\n",
    "plt.title(\"Training and Validation Loss\")\n",
    "plt.plot(val_losses,label=\"val\")\n",
    "plt.plot(train_losses,label=\"train\")\n",
    "plt.xlabel(\"iterations\")\n",
    "plt.ylabel(\"Loss\")\n",
    "plt.legend()\n",
    "plt.ylim(0, 4)\n",
    "plt.show()"
   ]
  },
  {
   "cell_type": "code",
   "execution_count": 31,
   "metadata": {},
   "outputs": [
    {
     "data": {
      "text/plain": [
       "<matplotlib.legend.Legend at 0x7f8004574ef0>"
      ]
     },
     "execution_count": 31,
     "metadata": {},
     "output_type": "execute_result"
    },
    {
     "data": {
      "image/png": "[encoded data removed]",
      "text/plain": [
       "<Figure size 432x288 with 1 Axes>"
      ]
     },
     "metadata": {},
     "output_type": "display_data"
    }
   ],
   "source": [
    "ax = plt.subplot(1,1,1)\n",
    "ax.plot([e for e in range(1,len(train_losses) + 1)], train_losses, label=\"train_loss\")\n",
    "ax.plot([e for e in range(1,len(val_losses) + 1)], val_losses, label=\"val_loss\")\n",
    "plt.xlabel(\"epoch\")\n",
    "ax.legend()"
   ]
  },
  {
   "cell_type": "code",
   "execution_count": 32,
   "metadata": {},
   "outputs": [],
   "source": [
    "y_pred_arr = []\n",
    "target_array = []\n",
    "for data in test_loder:\n",
    "    data = data.to(device)\n",
    "    y_pred = model(data.x.float(), data.edge_index,data.batch)\n",
    "    y_pred_arr.append(y_pred)\n",
    "    target_array.append(data.y.float())"
   ]
  },
  {
   "cell_type": "code",
   "execution_count": 33,
   "metadata": {},
   "outputs": [],
   "source": [
    "y_ped=torch.cat(y_pred_arr).view(-1).cpu().detach().numpy()\n",
    "y_true=torch.cat(target_array).cpu().detach().numpy()"
   ]
  },
  {
   "cell_type": "code",
   "execution_count": 34,
   "metadata": {},
   "outputs": [
    {
     "data": {
      "image/png": "[encoded data removed]",
      "text/plain": [
       "<Figure size 432x288 with 1 Axes>"
      ]
     },
     "metadata": {},
     "output_type": "display_data"
    }
   ],
   "source": [
    "# plt.scatter(y_ped,y_true,s=10,marker =\"s\",c=y_true,cmap=plt.get_cmap('plasma'))\n",
    "plt.scatter(y_ped,y_true,s=10,marker =\"s\",c=y_true,cmap=plt.get_cmap('plasma'))\n",
    "plt.plot(y_true,y_true)\n",
    "plt.show()"
   ]
  },
  {
   "cell_type": "code",
   "execution_count": 35,
   "metadata": {},
   "outputs": [],
   "source": [
    "from sklearn.metrics import r2_score,mean_absolute_error,mean_squared_error\n",
    "import math"
   ]
  },
  {
   "cell_type": "code",
   "execution_count": 36,
   "metadata": {},
   "outputs": [
    {
     "name": "stdout",
     "output_type": "stream",
     "text": [
      "0.12730193\n"
     ]
    }
   ],
   "source": [
    "MSE = mean_squared_error(y_true, y_ped)\n",
    "print(MSE)"
   ]
  },
  {
   "cell_type": "code",
   "execution_count": 37,
   "metadata": {},
   "outputs": [],
   "source": [
    "#r2_score(y_true, y_pred)"
   ]
  },
  {
   "cell_type": "code",
   "execution_count": 38,
   "metadata": {},
   "outputs": [
    {
     "name": "stdout",
     "output_type": "stream",
     "text": [
      "0.25293386\n"
     ]
    }
   ],
   "source": [
    "print(mean_absolute_error(y_true,y_ped))"
   ]
  },
  {
   "cell_type": "code",
   "execution_count": 39,
   "metadata": {},
   "outputs": [
    {
     "name": "stdout",
     "output_type": "stream",
     "text": [
      "Root Mean Square Error:\n",
      "\n",
      "0.35679396208627967\n"
     ]
    }
   ],
   "source": [
    "RMSE = math.sqrt(MSE)\n",
    "print(\"Root Mean Square Error:\\n\")\n",
    "print(RMSE)"
   ]
  },
  {
   "cell_type": "markdown",
   "metadata": {},
   "source": [
    "# Train"
   ]
  },
  {
   "cell_type": "code",
   "execution_count": null,
   "metadata": {},
   "outputs": [],
   "source": []
  },
  {
   "cell_type": "code",
   "execution_count": null,
   "metadata": {},
   "outputs": [],
   "source": []
  },
  {
   "cell_type": "code",
   "execution_count": null,
   "metadata": {},
   "outputs": [],
   "source": []
  },
  {
   "cell_type": "code",
   "execution_count": null,
   "metadata": {},
   "outputs": [],
   "source": []
  },
  {
   "cell_type": "code",
   "execution_count": 40,
   "metadata": {},
   "outputs": [],
   "source": [
    "from rdkit.Chem import Draw\n",
    "from rdkit.Chem.Draw import IPythonConsole"
   ]
  },
  {
   "cell_type": "code",
   "execution_count": 41,
   "metadata": {},
   "outputs": [],
   "source": [
    "smile = \"OC(=O)Cc1c[nH]c2cc(ccc12)CC\""
   ]
  },
  {
   "cell_type": "code",
   "execution_count": 42,
   "metadata": {},
   "outputs": [],
   "source": [
    "smile_graph = {}\n",
    "band_gap_arr = []\n",
    "smiles_array = []\n",
    "\n",
    "g = gd.smile_to_graph(smile)\n",
    "if g != None:\n",
    "    smile_graph[smile] = g\n",
    "    band_gap_arr.append(0.00)\n",
    "    smiles_array.append(smile)"
   ]
  },
  {
   "cell_type": "code",
   "execution_count": 43,
   "metadata": {},
   "outputs": [],
   "source": [
    "one_data = Molecule_data(root='data', dataset='one_data_set',y=band_gap_arr,smile_graph=smile_graph,smiles=smiles_array)"
   ]
  },
  {
   "cell_type": "code",
   "execution_count": 44,
   "metadata": {},
   "outputs": [],
   "source": [
    "one_loder   = DataLoader(one_data,batch_size=TRAIN_BATCH_SIZE,shuffle=True)"
   ]
  },
  {
   "cell_type": "code",
   "execution_count": 45,
   "metadata": {},
   "outputs": [
    {
     "data": {
      "text/plain": [
       "Batch(x=[15, 114], edge_index=[2, 32], y=[1], c_size=[1], batch=[15], ptr=[2])"
      ]
     },
     "execution_count": 45,
     "metadata": {},
     "output_type": "execute_result"
    }
   ],
   "source": [
    "next(iter(one_loder))"
   ]
  },
  {
   "cell_type": "code",
   "execution_count": 46,
   "metadata": {},
   "outputs": [
    {
     "name": "stdout",
     "output_type": "stream",
     "text": [
      "tensor([[3.0298]], device='cuda:6', grad_fn=<AddmmBackward>)\n"
     ]
    }
   ],
   "source": [
    "for data in one_loder:\n",
    "    data = data.to(device)\n",
    "    y_pred = model(data.x.float(), data.edge_index,data.batch)\n",
    "    print(y_pred)"
   ]
  },
  {
   "cell_type": "code",
   "execution_count": 47,
   "metadata": {},
   "outputs": [
    {
     "data": {
      "image/png": "[encoded data removed]",
      "text/plain": [
       "<Figure size 360x288 with 1 Axes>"
      ]
     },
     "metadata": {},
     "output_type": "display_data"
    }
   ],
   "source": [
    "import networkx as nx\n",
    "from torch_geometric import torch_geometric\n",
    "for data in one_loder:\n",
    "    data = data.to(device)\n",
    "    gdata = torch_geometric.data.Data(x=data.x.float(), edge_index=data.edge_index)\n",
    "    g = torch_geometric.utils.to_networkx(gdata, to_undirected=True)\n",
    "    plt.figure(1,figsize=(5,4)) \n",
    "    nx.draw(g, cmap=plt.get_cmap('Set1'),node_size=50,linewidths=6)\n",
    "#     plt.show()\n",
    "#     nx.draw(g)\n",
    "    break"
   ]
  },
  {
   "cell_type": "markdown",
   "metadata": {},
   "source": [
    "#### "
   ]
  },
  {
   "cell_type": "code",
   "execution_count": null,
   "metadata": {},
   "outputs": [],
   "source": []
  }
 ],
 "metadata": {
  "kernelspec": {
   "display_name": "Python 3",
   "language": "python",
   "name": "python3"
  },
  "language_info": {
   "codemirror_mode": {
    "name": "ipython",
    "version": 3
   },
   "file_extension": ".py",
   "mimetype": "text/x-python",
   "name": "python",
   "nbconvert_exporter": "python",
   "pygments_lexer": "ipython3",
   "version": "3.6.13"
  }
 },
 "nbformat": 4,
 "nbformat_minor": 4
}
