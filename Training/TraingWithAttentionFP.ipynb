{
 "cells": [
  {
   "cell_type": "code",
   "execution_count": 1,
   "metadata": {},
   "outputs": [],
   "source": [
    "import pandas as pd\n",
    "import numpy as np\n",
    "\n",
    "from rdkit import Chem\n",
    "from rdkit.Chem import Draw\n",
    "import networkx as nx\n",
    "from torch_geometric.datasets import MoleculeNet\n",
    "import matplotlib.pyplot as plt\n",
    "\n",
    "import torch\n",
    "import os\n",
    "import pandas as pd\n",
    "import numpy as np\n",
    "import json,pickle\n",
    "from collections import OrderedDict\n",
    "from rdkit import Chem\n",
    "from rdkit.Chem import MolFromSmiles\n",
    "import networkx as nx\n",
    "\n",
    "from torch_geometric.data import InMemoryDataset, Data\n",
    "from torch_geometric.loader import DataLoader\n",
    "\n",
    "from sklearn.model_selection import train_test_split\n",
    "from tqdm.notebook import tqdm\n",
    "import torch\n",
    "import torch.nn as nn\n",
    "\n",
    "import Data_Preprocessing.Graph_Data as gd\n",
    "from Data_Preprocessing.Graph_Data import Molecule_data\n",
    "from models.AttentiveFPModel import AttentiveFP\n",
    "import seaborn as sns\n",
    "\n",
    "\n",
    "\n"
   ]
  },
  {
   "cell_type": "code",
   "execution_count": 2,
   "metadata": {},
   "outputs": [],
   "source": [
    "df = pd.read_csv('Data_Preprocessing/omdb_smile_data_set.csv')"
   ]
  },
  {
   "cell_type": "code",
   "execution_count": 3,
   "metadata": {},
   "outputs": [],
   "source": [
    "smiles = df['SMILE']\n",
    "codIds = df['CODID']\n",
    "band_gap = df['bgs']"
   ]
  },
  {
   "cell_type": "code",
   "execution_count": 4,
   "metadata": {},
   "outputs": [
    {
     "name": "stdout",
     "output_type": "stream",
     "text": [
      "3.0630082776213756\n",
      "0.0\n",
      "8.54\n"
     ]
    }
   ],
   "source": [
    "print(band_gap.mean())\n",
    "print(band_gap.min())\n",
    "print(band_gap.max())"
   ]
  },
  {
   "cell_type": "code",
   "execution_count": 5,
   "metadata": {},
   "outputs": [
    {
     "data": {
      "image/png": "[encoded data removed]",
      "text/plain": [
       "<Figure size 432x288 with 1 Axes>"
      ]
     },
     "metadata": {},
     "output_type": "display_data"
    }
   ],
   "source": [
    "sns.set_theme(style=\"whitegrid\")\n",
    "tips = sns.load_dataset(\"tips\")\n",
    "ax = sns.violinplot(x=band_gap)"
   ]
  },
  {
   "cell_type": "code",
   "execution_count": null,
   "metadata": {},
   "outputs": [],
   "source": []
  },
  {
   "cell_type": "code",
   "execution_count": 6,
   "metadata": {},
   "outputs": [],
   "source": [
    "train_ratio = 0.70\n",
    "validation_ratio = 0.10\n",
    "test_ratio = 0.20\n",
    "\n",
    "# train is now 75% of the entire data set\n",
    "# the _junk suffix means that we drop that variable completely\n",
    "x_train, x_test, y_train, y_test = train_test_split(smiles, band_gap, test_size=1 - train_ratio)\n",
    "\n",
    "# test is now 10% of the initial data set\n",
    "# validation is now 15% of the initial data set\n",
    "x_val, x_test, y_val, y_test = train_test_split(x_test, y_test, test_size=test_ratio/(test_ratio + validation_ratio)) \n"
   ]
  },
  {
   "cell_type": "code",
   "execution_count": 7,
   "metadata": {},
   "outputs": [],
   "source": [
    "# X_train, X_val, y_train, y_val = train_test_split(smiles, band_gap, test_size=0.2)"
   ]
  },
  {
   "cell_type": "code",
   "execution_count": 8,
   "metadata": {},
   "outputs": [],
   "source": [
    "# X_train, X_test, y_train, y_test = train_test_split(X_train, y_train, test_size=0.2)"
   ]
  },
  {
   "cell_type": "code",
   "execution_count": null,
   "metadata": {},
   "outputs": [],
   "source": []
  },
  {
   "cell_type": "code",
   "execution_count": 9,
   "metadata": {},
   "outputs": [],
   "source": [
    "y_train = y_train.to_numpy()\n",
    "y_val = y_val.to_numpy()\n",
    "y_test = y_test.to_numpy()"
   ]
  },
  {
   "cell_type": "code",
   "execution_count": 10,
   "metadata": {},
   "outputs": [
    {
     "name": "stdout",
     "output_type": "stream",
     "text": [
      "11368\n"
     ]
    }
   ],
   "source": [
    "print(len(band_gap))"
   ]
  },
  {
   "cell_type": "markdown",
   "metadata": {},
   "source": [
    "# Train"
   ]
  },
  {
   "cell_type": "code",
   "execution_count": 11,
   "metadata": {},
   "outputs": [
    {
     "data": {
      "application/vnd.jupyter.widget-view+json": {
       "model_id": "0065f03dda2e4ed38f3c8e8b19d9f534",
       "version_major": 2,
       "version_minor": 0
      },
      "text/plain": [
       "HBox(children=(HTML(value=''), FloatProgress(value=1.0, bar_style='info', layout=Layout(width='20px'), max=1.0…"
      ]
     },
     "metadata": {},
     "output_type": "display_data"
    },
    {
     "name": "stdout",
     "output_type": "stream",
     "text": [
      "\n"
     ]
    }
   ],
   "source": [
    "smile_graph = {}\n",
    "band_gap_arr = []\n",
    "smiles_array = []\n",
    "\n",
    "for i,smile in tqdm(enumerate(x_train)):\n",
    "    g = gd.smile_to_graph(smile)\n",
    "    if g != None:\n",
    "        smile_graph[smile] = g\n",
    "        band_gap_arr.append(y_train[i])\n",
    "        smiles_array.append(smile)"
   ]
  },
  {
   "cell_type": "code",
   "execution_count": 12,
   "metadata": {},
   "outputs": [
    {
     "name": "stdout",
     "output_type": "stream",
     "text": [
      "7330\n"
     ]
    }
   ],
   "source": [
    "print(len(band_gap_arr))"
   ]
  },
  {
   "cell_type": "markdown",
   "metadata": {},
   "source": [
    "# Validation"
   ]
  },
  {
   "cell_type": "code",
   "execution_count": 13,
   "metadata": {},
   "outputs": [],
   "source": [
    "smile_graph_val = {}\n",
    "band_gap_arr_val = []\n",
    "smiles_array_val = []\n",
    "for i,smile in enumerate(x_val):\n",
    "    g = gd.smile_to_graph(smile)\n",
    "    if g != None:\n",
    "        smile_graph_val[smile] = g\n",
    "        band_gap_arr_val.append(y_val[i])\n",
    "        smiles_array_val.append(smile)"
   ]
  },
  {
   "cell_type": "markdown",
   "metadata": {},
   "source": [
    "# Test"
   ]
  },
  {
   "cell_type": "code",
   "execution_count": 14,
   "metadata": {},
   "outputs": [],
   "source": [
    "smile_graph_test = {}\n",
    "band_gap_arr_test = []\n",
    "smiles_array_test = []\n",
    "for i,smile in enumerate(x_test):\n",
    "    g = gd.smile_to_graph(smile)\n",
    "    if g != None:\n",
    "        smile_graph_test[smile] = g\n",
    "        band_gap_arr_test.append(y_test[i])\n",
    "        smiles_array_test.append(smile)"
   ]
  },
  {
   "cell_type": "code",
   "execution_count": null,
   "metadata": {},
   "outputs": [],
   "source": []
  },
  {
   "cell_type": "markdown",
   "metadata": {},
   "source": [
    "# Train Graph"
   ]
  },
  {
   "cell_type": "code",
   "execution_count": 15,
   "metadata": {},
   "outputs": [],
   "source": [
    "train_data = Molecule_data(root='data', dataset='train_data_set',y=band_gap_arr,smile_graph=smile_graph,smiles=smiles_array)"
   ]
  },
  {
   "cell_type": "markdown",
   "metadata": {},
   "source": [
    "# Validation Graph"
   ]
  },
  {
   "cell_type": "code",
   "execution_count": 16,
   "metadata": {},
   "outputs": [],
   "source": [
    "val_data = Molecule_data(root='data', dataset='val_data_set',y=band_gap_arr_val,smile_graph=smile_graph_val,smiles=smiles_array_val)"
   ]
  },
  {
   "cell_type": "markdown",
   "metadata": {},
   "source": [
    "# Test Graph"
   ]
  },
  {
   "cell_type": "code",
   "execution_count": 17,
   "metadata": {},
   "outputs": [],
   "source": [
    "test_data = Molecule_data(root='data', dataset='test_data_set',y=band_gap_arr_test,smile_graph=smile_graph_test,smiles=smiles_array_test)"
   ]
  },
  {
   "cell_type": "code",
   "execution_count": 18,
   "metadata": {},
   "outputs": [],
   "source": [
    "TRAIN_BATCH_SIZE = 17"
   ]
  },
  {
   "cell_type": "code",
   "execution_count": 19,
   "metadata": {},
   "outputs": [],
   "source": [
    "train_loder   = DataLoader(train_data,batch_size=TRAIN_BATCH_SIZE,shuffle=True)\n",
    "test_loder  = DataLoader(test_data,batch_size=TRAIN_BATCH_SIZE,shuffle=True)\n",
    "val_loder  = DataLoader(val_data,batch_size=TRAIN_BATCH_SIZE,shuffle=True)"
   ]
  },
  {
   "cell_type": "code",
   "execution_count": 20,
   "metadata": {},
   "outputs": [
    {
     "data": {
      "text/plain": [
       "Batch(x=[414, 114], edge_index=[2, 884], y=[17], c_size=[17], batch=[414], ptr=[18])"
      ]
     },
     "execution_count": 20,
     "metadata": {},
     "output_type": "execute_result"
    }
   ],
   "source": [
    "next(iter(train_loder))"
   ]
  },
  {
   "cell_type": "code",
   "execution_count": 21,
   "metadata": {},
   "outputs": [
    {
     "name": "stdout",
     "output_type": "stream",
     "text": [
      "cuda:6\n"
     ]
    }
   ],
   "source": [
    "if torch.cuda.is_available():  \n",
    "    device = \"cuda:6\"\n",
    "    print(\"cuda:6\")\n",
    "else:  \n",
    "    device = \"cpu\" \n",
    "    print(torch.cuda.is_available())"
   ]
  },
  {
   "cell_type": "code",
   "execution_count": 22,
   "metadata": {},
   "outputs": [],
   "source": [
    "# training function at each epoch\n",
    "def train(model, device, train_loader, optimizer, epoch,loss_fn):\n",
    "    #print('Training on {} samples...'.format(len(train_loader1.dataset)))\n",
    "    model.train()\n",
    "    Loss = []\n",
    "    for data in train_loader:\n",
    "        data = data.to(device)\n",
    "        optimizer.zero_grad()\n",
    "        output = model(data.x.float(), data.edge_index,data.batch)\n",
    "        loss = loss_fn(output, data.y.view(-1, 1).float().to(device))\n",
    "        loss.backward()\n",
    "        optimizer.step()\n",
    "        Loss.append(loss.item())\n",
    "    nploss = np.asarray(Loss)\n",
    "    avg_loss = np.average(nploss)\n",
    "    return avg_loss"
   ]
  },
  {
   "cell_type": "code",
   "execution_count": 23,
   "metadata": {},
   "outputs": [],
   "source": [
    "def predicting(model, device, loader,loss_fn):\n",
    "    model.eval()\n",
    "    total_loss=total_example=0\n",
    "    with torch.no_grad():\n",
    "        for data in loader:\n",
    "            data = data.to(device)\n",
    "            output = model(data.x.float(), data.edge_index,data.batch)\n",
    "            loss = loss_fn(output, data.y.view(-1, 1).float().to(device))\n",
    "            total_loss+=loss\n",
    "            total_example+=1\n",
    "    return total_loss/total_example"
   ]
  },
  {
   "cell_type": "code",
   "execution_count": 24,
   "metadata": {},
   "outputs": [],
   "source": [
    "model = AttentiveFP(in_channels=114, hidden_channels=292, out_channels=1,\n",
    "                    num_layers=3, num_timesteps=1,\n",
    "                    dropout= 0.05115077176824934).to(device)"
   ]
  },
  {
   "cell_type": "code",
   "execution_count": 25,
   "metadata": {},
   "outputs": [
    {
     "name": "stdout",
     "output_type": "stream",
     "text": [
      "AttentiveFP(\n",
      "  (lin1): Linear(in_features=114, out_features=292, bias=True)\n",
      "  (atom_convs): ModuleList(\n",
      "    (0): GATEConv(\n",
      "      (lin1): Linear(in_features=292, out_features=292, bias=False)\n",
      "      (lin2): Linear(in_features=292, out_features=292, bias=False)\n",
      "    )\n",
      "    (1): GATConv(292, 292, heads=1)\n",
      "    (2): GATConv(292, 292, heads=1)\n",
      "  )\n",
      "  (atom_grus): ModuleList(\n",
      "    (0): GRUCell(292, 292)\n",
      "    (1): GRUCell(292, 292)\n",
      "    (2): GRUCell(292, 292)\n",
      "  )\n",
      "  (mol_conv): GATConv(292, 292, heads=1)\n",
      "  (mol_gru): GRUCell(292, 292)\n",
      "  (lin2): Linear(in_features=292, out_features=1, bias=True)\n",
      ")\n"
     ]
    }
   ],
   "source": [
    "print(model)"
   ]
  },
  {
   "cell_type": "code",
   "execution_count": 26,
   "metadata": {},
   "outputs": [],
   "source": [
    "#LR = 0.005\n",
    "LR = 8.28967316828403e-05\n",
    "eps_rate = 1.7687722582665366e-05\n",
    "weight_decay = 1.3459636454913954e-06\n",
    "LOG_INTERVAL = 20\n",
    "NUM_EPOCHS = 3000\n",
    "results = []"
   ]
  },
  {
   "cell_type": "code",
   "execution_count": 27,
   "metadata": {},
   "outputs": [],
   "source": [
    "class RMSELoss(nn.Module):\n",
    "    def __init__(self):\n",
    "        super().__init__()\n",
    "        self.mse = nn.MSELoss()\n",
    "        \n",
    "    def forward(self,yhat,y):\n",
    "        return torch.sqrt(self.mse(yhat,y))"
   ]
  },
  {
   "cell_type": "code",
   "execution_count": 28,
   "metadata": {},
   "outputs": [],
   "source": [
    "#loss_fn = nn.MSELoss()\n",
    "#loss_fn = RMSELoss()\n",
    "loss_fn = nn.L1Loss()\n",
    "model = model.cuda(device)\n",
    "#optimizer = torch.optim.Adam(model.parameters(), lr=LR)\n",
    "optimizer = torch.optim.Adam(model.parameters(),lr=LR,betas=(0.9,0.999),\n",
    "                                 eps=eps_rate,weight_decay=weight_decay,amsgrad=False)"
   ]
  },
  {
   "cell_type": "code",
   "execution_count": 29,
   "metadata": {
    "scrolled": true
   },
   "outputs": [
    {
     "name": "stdout",
     "output_type": "stream",
     "text": [
      "Epoch 0: Train mae: 0.89509\t val mae: 0.72090\t\n",
      "Epoch 1: Train mae: 0.64957\t val mae: 0.61069\t\n",
      "Epoch 2: Train mae: 0.59063\t val mae: 0.58404\t\n",
      "Epoch 3: Train mae: 0.56358\t val mae: 0.60024\t\n",
      "trigger times: 1\n",
      "Epoch 4: Train mae: 0.54563\t val mae: 0.56316\t\n",
      "Epoch 5: Train mae: 0.52325\t val mae: 0.55332\t\n",
      "Epoch 6: Train mae: 0.49525\t val mae: 0.50632\t\n",
      "Epoch 7: Train mae: 0.47205\t val mae: 0.47941\t\n",
      "Epoch 8: Train mae: 0.45812\t val mae: 0.43361\t\n",
      "Epoch 9: Train mae: 0.44190\t val mae: 0.44916\t\n",
      "trigger times: 1\n",
      "Epoch 10: Train mae: 0.43678\t val mae: 0.42502\t\n",
      "Epoch 11: Train mae: 0.43835\t val mae: 0.43679\t\n",
      "trigger times: 1\n",
      "Epoch 12: Train mae: 0.42709\t val mae: 0.40481\t\n",
      "Epoch 13: Train mae: 0.41667\t val mae: 0.40343\t\n",
      "Epoch 14: Train mae: 0.41012\t val mae: 0.40467\t\n",
      "trigger times: 1\n",
      "Epoch 15: Train mae: 0.41066\t val mae: 0.38968\t\n",
      "Epoch 16: Train mae: 0.41066\t val mae: 0.38163\t\n",
      "Epoch 17: Train mae: 0.40358\t val mae: 0.41148\t\n",
      "trigger times: 1\n",
      "Epoch 18: Train mae: 0.40077\t val mae: 0.37935\t\n",
      "Epoch 19: Train mae: 0.39479\t val mae: 0.37640\t\n",
      "Epoch 20: Train mae: 0.39404\t val mae: 0.37469\t\n",
      "Epoch 21: Train mae: 0.38824\t val mae: 0.36477\t\n",
      "Epoch 22: Train mae: 0.38521\t val mae: 0.37350\t\n",
      "trigger times: 1\n",
      "Epoch 23: Train mae: 0.38034\t val mae: 0.36471\t\n",
      "Epoch 24: Train mae: 0.37831\t val mae: 0.37487\t\n",
      "trigger times: 1\n",
      "Epoch 25: Train mae: 0.37004\t val mae: 0.36675\t\n",
      "trigger times: 2\n",
      "Epoch 26: Train mae: 0.36978\t val mae: 0.35593\t\n",
      "Epoch 27: Train mae: 0.37070\t val mae: 0.39232\t\n",
      "trigger times: 1\n",
      "Epoch 28: Train mae: 0.36370\t val mae: 0.35094\t\n",
      "Epoch 29: Train mae: 0.35984\t val mae: 0.34064\t\n",
      "Epoch 30: Train mae: 0.36281\t val mae: 0.34328\t\n",
      "trigger times: 1\n",
      "Epoch 31: Train mae: 0.35072\t val mae: 0.34125\t\n",
      "trigger times: 2\n",
      "Epoch 32: Train mae: 0.35371\t val mae: 0.33534\t\n",
      "Epoch 33: Train mae: 0.34994\t val mae: 0.33163\t\n",
      "Epoch 34: Train mae: 0.34555\t val mae: 0.33618\t\n",
      "trigger times: 1\n",
      "Epoch 35: Train mae: 0.34703\t val mae: 0.32744\t\n",
      "Epoch 36: Train mae: 0.34026\t val mae: 0.34141\t\n",
      "trigger times: 1\n",
      "Epoch 37: Train mae: 0.34266\t val mae: 0.34913\t\n",
      "trigger times: 2\n",
      "Epoch 38: Train mae: 0.33905\t val mae: 0.41083\t\n",
      "trigger times: 3\n",
      "Epoch 39: Train mae: 0.33792\t val mae: 0.33107\t\n",
      "trigger times: 4\n",
      "Epoch 40: Train mae: 0.33789\t val mae: 0.33429\t\n",
      "trigger times: 5\n",
      "Epoch 41: Train mae: 0.33287\t val mae: 0.33028\t\n",
      "trigger times: 6\n",
      "Epoch 42: Train mae: 0.33603\t val mae: 0.33000\t\n",
      "trigger times: 7\n",
      "Epoch 43: Train mae: 0.33023\t val mae: 0.36455\t\n",
      "trigger times: 8\n",
      "Epoch 44: Train mae: 0.32867\t val mae: 0.32352\t\n",
      "Epoch 45: Train mae: 0.32897\t val mae: 0.33632\t\n",
      "trigger times: 1\n",
      "Epoch 46: Train mae: 0.32908\t val mae: 0.32048\t\n",
      "Epoch 47: Train mae: 0.32649\t val mae: 0.31946\t\n",
      "Epoch 48: Train mae: 0.32664\t val mae: 0.32434\t\n",
      "trigger times: 1\n",
      "Epoch 49: Train mae: 0.32005\t val mae: 0.34986\t\n",
      "trigger times: 2\n",
      "Epoch 50: Train mae: 0.32160\t val mae: 0.32338\t\n",
      "trigger times: 3\n",
      "Epoch 51: Train mae: 0.32435\t val mae: 0.32296\t\n",
      "trigger times: 4\n",
      "Epoch 52: Train mae: 0.31885\t val mae: 0.31954\t\n",
      "trigger times: 5\n",
      "Epoch 53: Train mae: 0.31960\t val mae: 0.33053\t\n",
      "trigger times: 6\n",
      "Epoch 54: Train mae: 0.32016\t val mae: 0.34985\t\n",
      "trigger times: 7\n",
      "Epoch 55: Train mae: 0.31768\t val mae: 0.32417\t\n",
      "trigger times: 8\n",
      "Epoch 56: Train mae: 0.31578\t val mae: 0.31961\t\n",
      "trigger times: 9\n",
      "Epoch 57: Train mae: 0.31357\t val mae: 0.30854\t\n",
      "Epoch 58: Train mae: 0.30962\t val mae: 0.32921\t\n",
      "trigger times: 1\n",
      "Epoch 59: Train mae: 0.31263\t val mae: 0.34063\t\n",
      "trigger times: 2\n",
      "Epoch 60: Train mae: 0.31130\t val mae: 0.31111\t\n",
      "trigger times: 3\n",
      "Epoch 61: Train mae: 0.30793\t val mae: 0.34962\t\n",
      "trigger times: 4\n",
      "Epoch 62: Train mae: 0.30723\t val mae: 0.30467\t\n",
      "Epoch 63: Train mae: 0.30345\t val mae: 0.30544\t\n",
      "trigger times: 1\n",
      "Epoch 64: Train mae: 0.30281\t val mae: 0.32654\t\n",
      "trigger times: 2\n",
      "Epoch 65: Train mae: 0.30461\t val mae: 0.30554\t\n",
      "trigger times: 3\n",
      "Epoch 66: Train mae: 0.30297\t val mae: 0.30778\t\n",
      "trigger times: 4\n",
      "Epoch 67: Train mae: 0.30003\t val mae: 0.30665\t\n",
      "trigger times: 5\n",
      "Epoch 68: Train mae: 0.30221\t val mae: 0.30684\t\n",
      "trigger times: 6\n",
      "Epoch 69: Train mae: 0.29551\t val mae: 0.30929\t\n",
      "trigger times: 7\n",
      "Epoch 70: Train mae: 0.29976\t val mae: 0.30014\t\n",
      "Epoch 71: Train mae: 0.29431\t val mae: 0.29698\t\n",
      "Epoch 72: Train mae: 0.29267\t val mae: 0.29703\t\n",
      "trigger times: 1\n",
      "Epoch 73: Train mae: 0.29315\t val mae: 0.29029\t\n",
      "Epoch 74: Train mae: 0.29226\t val mae: 0.28929\t\n",
      "Epoch 75: Train mae: 0.28731\t val mae: 0.30371\t\n",
      "trigger times: 1\n",
      "Epoch 76: Train mae: 0.29247\t val mae: 0.29508\t\n",
      "trigger times: 2\n",
      "Epoch 77: Train mae: 0.29008\t val mae: 0.29362\t\n",
      "trigger times: 3\n",
      "Epoch 78: Train mae: 0.28501\t val mae: 0.29264\t\n",
      "trigger times: 4\n",
      "Epoch 79: Train mae: 0.28708\t val mae: 0.29392\t\n",
      "trigger times: 5\n",
      "Epoch 80: Train mae: 0.28393\t val mae: 0.29576\t\n",
      "trigger times: 6\n",
      "Epoch 81: Train mae: 0.28481\t val mae: 0.29719\t\n",
      "trigger times: 7\n",
      "Epoch 82: Train mae: 0.28478\t val mae: 0.29681\t\n",
      "trigger times: 8\n",
      "Epoch 83: Train mae: 0.28236\t val mae: 0.28837\t\n",
      "Epoch 84: Train mae: 0.28162\t val mae: 0.30026\t\n",
      "trigger times: 1\n",
      "Epoch 85: Train mae: 0.28088\t val mae: 0.28542\t\n",
      "Epoch 86: Train mae: 0.28273\t val mae: 0.28506\t\n",
      "Epoch 87: Train mae: 0.28046\t val mae: 0.29967\t\n",
      "trigger times: 1\n",
      "Epoch 88: Train mae: 0.28000\t val mae: 0.28855\t\n",
      "trigger times: 2\n",
      "Epoch 89: Train mae: 0.27603\t val mae: 0.28059\t\n",
      "Epoch 90: Train mae: 0.27885\t val mae: 0.28652\t\n",
      "trigger times: 1\n",
      "Epoch 91: Train mae: 0.27739\t val mae: 0.28465\t\n",
      "trigger times: 2\n",
      "Epoch 92: Train mae: 0.27270\t val mae: 0.34030\t\n",
      "trigger times: 3\n",
      "Epoch 93: Train mae: 0.27541\t val mae: 0.29563\t\n",
      "trigger times: 4\n",
      "Epoch 94: Train mae: 0.27364\t val mae: 0.27973\t\n",
      "Epoch 95: Train mae: 0.27143\t val mae: 0.28249\t\n",
      "trigger times: 1\n",
      "Epoch 96: Train mae: 0.27067\t val mae: 0.29139\t\n",
      "trigger times: 2\n",
      "Epoch 97: Train mae: 0.27175\t val mae: 0.28925\t\n",
      "trigger times: 3\n",
      "Epoch 98: Train mae: 0.27385\t val mae: 0.27624\t\n",
      "Epoch 99: Train mae: 0.26826\t val mae: 0.28032\t\n",
      "trigger times: 1\n",
      "Epoch 100: Train mae: 0.26660\t val mae: 0.27498\t\n",
      "Epoch 101: Train mae: 0.26668\t val mae: 0.27365\t\n",
      "Epoch 102: Train mae: 0.26634\t val mae: 0.29749\t\n",
      "trigger times: 1\n",
      "Epoch 103: Train mae: 0.26344\t val mae: 0.27629\t\n",
      "trigger times: 2\n",
      "Epoch 104: Train mae: 0.26507\t val mae: 0.27626\t\n",
      "trigger times: 3\n",
      "Epoch 105: Train mae: 0.26380\t val mae: 0.27902\t\n",
      "trigger times: 4\n",
      "Epoch 106: Train mae: 0.26181\t val mae: 0.27895\t\n",
      "trigger times: 5\n",
      "Epoch 107: Train mae: 0.26322\t val mae: 0.27562\t\n",
      "trigger times: 6\n",
      "Epoch 108: Train mae: 0.26255\t val mae: 0.27378\t\n",
      "trigger times: 7\n",
      "Epoch 109: Train mae: 0.26025\t val mae: 0.27807\t\n",
      "trigger times: 8\n",
      "Epoch 110: Train mae: 0.26139\t val mae: 0.27472\t\n",
      "trigger times: 9\n",
      "Epoch 111: Train mae: 0.25598\t val mae: 0.27588\t\n",
      "trigger times: 10\n",
      "Epoch 112: Train mae: 0.25836\t val mae: 0.27085\t\n",
      "Epoch 113: Train mae: 0.25448\t val mae: 0.27533\t\n",
      "trigger times: 1\n",
      "Epoch 114: Train mae: 0.25590\t val mae: 0.27818\t\n",
      "trigger times: 2\n",
      "Epoch 115: Train mae: 0.25596\t val mae: 0.27593\t\n",
      "trigger times: 3\n",
      "Epoch 116: Train mae: 0.25767\t val mae: 0.27208\t\n",
      "trigger times: 4\n",
      "Epoch 117: Train mae: 0.25627\t val mae: 0.28001\t\n",
      "trigger times: 5\n",
      "Epoch 118: Train mae: 0.25039\t val mae: 0.27385\t\n",
      "trigger times: 6\n",
      "Epoch 119: Train mae: 0.25264\t val mae: 0.28591\t\n",
      "trigger times: 7\n",
      "Epoch 120: Train mae: 0.24813\t val mae: 0.26996\t\n",
      "Epoch 121: Train mae: 0.25027\t val mae: 0.27932\t\n",
      "trigger times: 1\n",
      "Epoch 122: Train mae: 0.24599\t val mae: 0.26499\t\n",
      "Epoch 123: Train mae: 0.24960\t val mae: 0.27418\t\n",
      "trigger times: 1\n",
      "Epoch 124: Train mae: 0.24743\t val mae: 0.27525\t\n",
      "trigger times: 2\n",
      "Epoch 125: Train mae: 0.24581\t val mae: 0.27301\t\n",
      "trigger times: 3\n",
      "Epoch 126: Train mae: 0.24642\t val mae: 0.27298\t\n",
      "trigger times: 4\n",
      "Epoch 127: Train mae: 0.24612\t val mae: 0.28121\t\n",
      "trigger times: 5\n",
      "Epoch 128: Train mae: 0.24414\t val mae: 0.27088\t\n",
      "trigger times: 6\n",
      "Epoch 129: Train mae: 0.24526\t val mae: 0.26859\t\n",
      "trigger times: 7\n",
      "Epoch 130: Train mae: 0.24471\t val mae: 0.27069\t\n",
      "trigger times: 8\n",
      "Epoch 131: Train mae: 0.24261\t val mae: 0.27385\t\n",
      "trigger times: 9\n",
      "Epoch 132: Train mae: 0.24268\t val mae: 0.25921\t\n",
      "Epoch 133: Train mae: 0.23921\t val mae: 0.26564\t\n",
      "trigger times: 1\n",
      "Epoch 134: Train mae: 0.23980\t val mae: 0.30096\t\n",
      "trigger times: 2\n",
      "Epoch 135: Train mae: 0.24315\t val mae: 0.26821\t\n",
      "trigger times: 3\n",
      "Epoch 136: Train mae: 0.24126\t val mae: 0.26083\t\n",
      "trigger times: 4\n",
      "Epoch 137: Train mae: 0.23733\t val mae: 0.25991\t\n",
      "trigger times: 5\n"
     ]
    },
    {
     "name": "stdout",
     "output_type": "stream",
     "text": [
      "Epoch 138: Train mae: 0.24392\t val mae: 0.27966\t\n",
      "trigger times: 6\n",
      "Epoch 139: Train mae: 0.23829\t val mae: 0.26438\t\n",
      "trigger times: 7\n",
      "Epoch 140: Train mae: 0.23607\t val mae: 0.25903\t\n",
      "Epoch 141: Train mae: 0.23681\t val mae: 0.26542\t\n",
      "trigger times: 1\n",
      "Epoch 142: Train mae: 0.23475\t val mae: 0.26653\t\n",
      "trigger times: 2\n",
      "Epoch 143: Train mae: 0.23528\t val mae: 0.26561\t\n",
      "trigger times: 3\n",
      "Epoch 144: Train mae: 0.23082\t val mae: 0.26409\t\n",
      "trigger times: 4\n",
      "Epoch 145: Train mae: 0.23271\t val mae: 0.26635\t\n",
      "trigger times: 5\n",
      "Epoch 146: Train mae: 0.23153\t val mae: 0.26272\t\n",
      "trigger times: 6\n",
      "Epoch 147: Train mae: 0.23060\t val mae: 0.27103\t\n",
      "trigger times: 7\n",
      "Epoch 148: Train mae: 0.23249\t val mae: 0.26034\t\n",
      "trigger times: 8\n",
      "Epoch 149: Train mae: 0.22799\t val mae: 0.27255\t\n",
      "trigger times: 9\n",
      "Epoch 150: Train mae: 0.23046\t val mae: 0.26175\t\n",
      "trigger times: 10\n",
      "Epoch 151: Train mae: 0.22786\t val mae: 0.27090\t\n",
      "trigger times: 11\n",
      "Epoch 152: Train mae: 0.23093\t val mae: 0.26081\t\n",
      "trigger times: 12\n",
      "Epoch 153: Train mae: 0.22925\t val mae: 0.25721\t\n",
      "Epoch 154: Train mae: 0.22659\t val mae: 0.26198\t\n",
      "trigger times: 1\n",
      "Epoch 155: Train mae: 0.22884\t val mae: 0.26562\t\n",
      "trigger times: 2\n",
      "Epoch 156: Train mae: 0.22336\t val mae: 0.26296\t\n",
      "trigger times: 3\n",
      "Epoch 157: Train mae: 0.22521\t val mae: 0.26522\t\n",
      "trigger times: 4\n",
      "Epoch 158: Train mae: 0.22201\t val mae: 0.26238\t\n",
      "trigger times: 5\n",
      "Epoch 159: Train mae: 0.22313\t val mae: 0.26640\t\n",
      "trigger times: 6\n",
      "Epoch 160: Train mae: 0.22441\t val mae: 0.27341\t\n",
      "trigger times: 7\n",
      "Epoch 161: Train mae: 0.22308\t val mae: 0.26651\t\n",
      "trigger times: 8\n",
      "Epoch 162: Train mae: 0.21964\t val mae: 0.26043\t\n",
      "trigger times: 9\n",
      "Epoch 163: Train mae: 0.22357\t val mae: 0.25935\t\n",
      "trigger times: 10\n",
      "Epoch 164: Train mae: 0.21997\t val mae: 0.27100\t\n",
      "trigger times: 11\n",
      "Epoch 165: Train mae: 0.21919\t val mae: 0.26107\t\n",
      "trigger times: 12\n",
      "Epoch 166: Train mae: 0.21994\t val mae: 0.26500\t\n",
      "trigger times: 13\n",
      "Epoch 167: Train mae: 0.21700\t val mae: 0.26060\t\n",
      "trigger times: 14\n",
      "Epoch 168: Train mae: 0.21650\t val mae: 0.26856\t\n",
      "trigger times: 15\n",
      "Epoch 169: Train mae: 0.21586\t val mae: 0.28767\t\n",
      "trigger times: 16\n",
      "Epoch 170: Train mae: 0.21670\t val mae: 0.26368\t\n",
      "trigger times: 17\n",
      "Epoch 171: Train mae: 0.21564\t val mae: 0.26862\t\n",
      "trigger times: 18\n",
      "Epoch 172: Train mae: 0.21465\t val mae: 0.26258\t\n",
      "trigger times: 19\n",
      "Epoch 173: Train mae: 0.21293\t val mae: 0.26577\t\n",
      "trigger times: 20\n",
      "Epoch 174: Train mae: 0.21638\t val mae: 0.26053\t\n",
      "trigger times: 21\n",
      "Epoch 175: Train mae: 0.21019\t val mae: 0.26207\t\n",
      "trigger times: 22\n",
      "Epoch 176: Train mae: 0.21485\t val mae: 0.25352\t\n",
      "Epoch 177: Train mae: 0.21163\t val mae: 0.26554\t\n",
      "trigger times: 1\n",
      "Epoch 178: Train mae: 0.21116\t val mae: 0.26063\t\n",
      "trigger times: 2\n",
      "Epoch 179: Train mae: 0.21176\t val mae: 0.25739\t\n",
      "trigger times: 3\n",
      "Epoch 180: Train mae: 0.21176\t val mae: 0.25231\t\n",
      "Epoch 181: Train mae: 0.20780\t val mae: 0.26360\t\n",
      "trigger times: 1\n",
      "Epoch 182: Train mae: 0.20936\t val mae: 0.24926\t\n",
      "Epoch 183: Train mae: 0.20877\t val mae: 0.26058\t\n",
      "trigger times: 1\n",
      "Epoch 184: Train mae: 0.20941\t val mae: 0.25324\t\n",
      "trigger times: 2\n",
      "Epoch 185: Train mae: 0.20917\t val mae: 0.25890\t\n",
      "trigger times: 3\n",
      "Epoch 186: Train mae: 0.20612\t val mae: 0.25869\t\n",
      "trigger times: 4\n",
      "Epoch 187: Train mae: 0.20871\t val mae: 0.25319\t\n",
      "trigger times: 5\n",
      "Epoch 188: Train mae: 0.20666\t val mae: 0.25465\t\n",
      "trigger times: 6\n",
      "Epoch 189: Train mae: 0.20733\t val mae: 0.26579\t\n",
      "trigger times: 7\n",
      "Epoch 190: Train mae: 0.20623\t val mae: 0.25827\t\n",
      "trigger times: 8\n",
      "Epoch 191: Train mae: 0.20538\t val mae: 0.25730\t\n",
      "trigger times: 9\n",
      "Epoch 192: Train mae: 0.20279\t val mae: 0.25448\t\n",
      "trigger times: 10\n",
      "Epoch 193: Train mae: 0.20632\t val mae: 0.25645\t\n",
      "trigger times: 11\n",
      "Epoch 194: Train mae: 0.20519\t val mae: 0.25924\t\n",
      "trigger times: 12\n",
      "Epoch 195: Train mae: 0.20273\t val mae: 0.25357\t\n",
      "trigger times: 13\n",
      "Epoch 196: Train mae: 0.20247\t val mae: 0.25806\t\n",
      "trigger times: 14\n",
      "Epoch 197: Train mae: 0.19951\t val mae: 0.25696\t\n",
      "trigger times: 15\n",
      "Epoch 198: Train mae: 0.19857\t val mae: 0.25874\t\n",
      "trigger times: 16\n",
      "Epoch 199: Train mae: 0.20109\t val mae: 0.25507\t\n",
      "trigger times: 17\n",
      "Epoch 200: Train mae: 0.19741\t val mae: 0.25768\t\n",
      "trigger times: 18\n",
      "Epoch 201: Train mae: 0.20212\t val mae: 0.24873\t\n",
      "Epoch 202: Train mae: 0.19995\t val mae: 0.25084\t\n",
      "trigger times: 1\n",
      "Epoch 203: Train mae: 0.19567\t val mae: 0.25332\t\n",
      "trigger times: 2\n",
      "Epoch 204: Train mae: 0.19482\t val mae: 0.26521\t\n",
      "trigger times: 3\n",
      "Epoch 205: Train mae: 0.19340\t val mae: 0.25261\t\n",
      "trigger times: 4\n",
      "Epoch 206: Train mae: 0.19482\t val mae: 0.26294\t\n",
      "trigger times: 5\n",
      "Epoch 207: Train mae: 0.19812\t val mae: 0.25100\t\n",
      "trigger times: 6\n",
      "Epoch 208: Train mae: 0.19339\t val mae: 0.25376\t\n",
      "trigger times: 7\n",
      "Epoch 209: Train mae: 0.19266\t val mae: 0.25745\t\n",
      "trigger times: 8\n",
      "Epoch 210: Train mae: 0.19421\t val mae: 0.25424\t\n",
      "trigger times: 9\n",
      "Epoch 211: Train mae: 0.19529\t val mae: 0.25441\t\n",
      "trigger times: 10\n",
      "Epoch 212: Train mae: 0.19208\t val mae: 0.26015\t\n",
      "trigger times: 11\n",
      "Epoch 213: Train mae: 0.19166\t val mae: 0.25631\t\n",
      "trigger times: 12\n",
      "Epoch 214: Train mae: 0.19141\t val mae: 0.25582\t\n",
      "trigger times: 13\n",
      "Epoch 215: Train mae: 0.19086\t val mae: 0.26779\t\n",
      "trigger times: 14\n",
      "Epoch 216: Train mae: 0.19305\t val mae: 0.25157\t\n",
      "trigger times: 15\n",
      "Epoch 217: Train mae: 0.19109\t val mae: 0.25250\t\n",
      "trigger times: 16\n",
      "Epoch 218: Train mae: 0.19112\t val mae: 0.25420\t\n",
      "trigger times: 17\n",
      "Epoch 219: Train mae: 0.18929\t val mae: 0.25833\t\n",
      "trigger times: 18\n",
      "Epoch 220: Train mae: 0.19027\t val mae: 0.25491\t\n",
      "trigger times: 19\n",
      "Epoch 221: Train mae: 0.18766\t val mae: 0.24843\t\n",
      "Epoch 222: Train mae: 0.19013\t val mae: 0.25313\t\n",
      "trigger times: 1\n",
      "Epoch 223: Train mae: 0.18901\t val mae: 0.24755\t\n",
      "Epoch 224: Train mae: 0.18665\t val mae: 0.25510\t\n",
      "trigger times: 1\n",
      "Epoch 225: Train mae: 0.18802\t val mae: 0.24612\t\n",
      "Epoch 226: Train mae: 0.18576\t val mae: 0.25115\t\n",
      "trigger times: 1\n",
      "Epoch 227: Train mae: 0.18868\t val mae: 0.24808\t\n",
      "trigger times: 2\n",
      "Epoch 228: Train mae: 0.18687\t val mae: 0.25775\t\n",
      "trigger times: 3\n",
      "Epoch 229: Train mae: 0.18780\t val mae: 0.25249\t\n",
      "trigger times: 4\n",
      "Epoch 230: Train mae: 0.18330\t val mae: 0.25252\t\n",
      "trigger times: 5\n",
      "Epoch 231: Train mae: 0.18599\t val mae: 0.24968\t\n",
      "trigger times: 6\n",
      "Epoch 232: Train mae: 0.18412\t val mae: 0.25384\t\n",
      "trigger times: 7\n",
      "Epoch 233: Train mae: 0.18370\t val mae: 0.25372\t\n",
      "trigger times: 8\n",
      "Epoch 234: Train mae: 0.18154\t val mae: 0.25524\t\n",
      "trigger times: 9\n",
      "Epoch 235: Train mae: 0.18340\t val mae: 0.24910\t\n",
      "trigger times: 10\n",
      "Epoch 236: Train mae: 0.17995\t val mae: 0.24949\t\n",
      "trigger times: 11\n",
      "Epoch 237: Train mae: 0.18047\t val mae: 0.24650\t\n",
      "trigger times: 12\n",
      "Epoch 238: Train mae: 0.18142\t val mae: 0.25116\t\n",
      "trigger times: 13\n",
      "Epoch 239: Train mae: 0.18367\t val mae: 0.25402\t\n",
      "trigger times: 14\n",
      "Epoch 240: Train mae: 0.18065\t val mae: 0.24595\t\n",
      "Epoch 241: Train mae: 0.17725\t val mae: 0.25135\t\n",
      "trigger times: 1\n",
      "Epoch 242: Train mae: 0.17930\t val mae: 0.25268\t\n",
      "trigger times: 2\n",
      "Epoch 243: Train mae: 0.17674\t val mae: 0.24748\t\n",
      "trigger times: 3\n",
      "Epoch 244: Train mae: 0.17933\t val mae: 0.25358\t\n",
      "trigger times: 4\n",
      "Epoch 245: Train mae: 0.17984\t val mae: 0.25548\t\n",
      "trigger times: 5\n",
      "Epoch 246: Train mae: 0.17607\t val mae: 0.24714\t\n",
      "trigger times: 6\n",
      "Epoch 247: Train mae: 0.17648\t val mae: 0.25199\t\n",
      "trigger times: 7\n",
      "Epoch 248: Train mae: 0.17725\t val mae: 0.25333\t\n",
      "trigger times: 8\n",
      "Epoch 249: Train mae: 0.17860\t val mae: 0.25126\t\n",
      "trigger times: 9\n",
      "Epoch 250: Train mae: 0.17532\t val mae: 0.25011\t\n",
      "trigger times: 10\n",
      "Epoch 251: Train mae: 0.17579\t val mae: 0.24830\t\n",
      "trigger times: 11\n",
      "Epoch 252: Train mae: 0.17514\t val mae: 0.25412\t\n",
      "trigger times: 12\n",
      "Epoch 253: Train mae: 0.17402\t val mae: 0.25812\t\n",
      "trigger times: 13\n",
      "Epoch 254: Train mae: 0.17511\t val mae: 0.24983\t\n",
      "trigger times: 14\n",
      "Epoch 255: Train mae: 0.17336\t val mae: 0.25277\t\n",
      "trigger times: 15\n",
      "Epoch 256: Train mae: 0.17182\t val mae: 0.26269\t\n",
      "trigger times: 16\n",
      "Epoch 257: Train mae: 0.17550\t val mae: 0.24606\t\n",
      "trigger times: 17\n",
      "Epoch 258: Train mae: 0.17040\t val mae: 0.25821\t\n",
      "trigger times: 18\n",
      "Epoch 259: Train mae: 0.17309\t val mae: 0.24838\t\n",
      "trigger times: 19\n",
      "Epoch 260: Train mae: 0.17317\t val mae: 0.24827\t\n",
      "trigger times: 20\n",
      "Epoch 261: Train mae: 0.17106\t val mae: 0.26000\t\n",
      "trigger times: 21\n",
      "Epoch 262: Train mae: 0.17325\t val mae: 0.24845\t\n",
      "trigger times: 22\n",
      "Epoch 263: Train mae: 0.16980\t val mae: 0.25562\t\n",
      "trigger times: 23\n"
     ]
    },
    {
     "name": "stdout",
     "output_type": "stream",
     "text": [
      "Epoch 264: Train mae: 0.16904\t val mae: 0.25438\t\n",
      "trigger times: 24\n",
      "Epoch 265: Train mae: 0.17087\t val mae: 0.25323\t\n",
      "trigger times: 25\n",
      "Epoch 266: Train mae: 0.17022\t val mae: 0.25106\t\n",
      "trigger times: 26\n",
      "Early stopping!\n",
      "Start to test process.\n"
     ]
    }
   ],
   "source": [
    "best_ret = []\n",
    "best_mse = 0.80\n",
    "best_ci = 0\n",
    "patience=0\n",
    "best_epoch = -1\n",
    "model_st = \"GCNNet\"\n",
    "model_file_name = 'model_New' + model_st  +  '.model'\n",
    "result_file_name = 'result_' + model_st +  '.csv'\n",
    "\n",
    "val_losses = []\n",
    "train_losses = []\n",
    "\n",
    "the_last_loss = 100\n",
    "patience = 26\n",
    "trigger_times = 0\n",
    "count_loss_difference = 0\n",
    "\n",
    "for epoch in range(NUM_EPOCHS):\n",
    "    train_loss=train(model, device, train_loder, optimizer, epoch+1,loss_fn)\n",
    "    test_loss = predicting(model, device, val_loder,loss_fn)\n",
    "#     test_loss = predicting(model, device, test_loder,loss_fn)\n",
    "#     print('Epoch% d: Train mae: %2.5f\\t val mae: %2.5f\\t test mae: %2.5f\\t'\n",
    "#           %(epoch, train_loss, val_loss.item(),test_loss.item()))\n",
    "\n",
    "    print('Epoch% d: Train mae: %2.5f\\t val mae: %2.5f\\t'\n",
    "          %(epoch, train_loss,test_loss.item()))\n",
    "    ret = [epoch,train_loss,test_loss.item()]\n",
    "    \n",
    "    train_losses.append(train_loss)\n",
    "    val_losses.append(test_loss.item())\n",
    "    # Early stopping\n",
    "    the_current_loss = test_loss.item()\n",
    "    \n",
    "    if the_current_loss > the_last_loss:\n",
    "        trigger_times += 1\n",
    "        print('trigger times:', trigger_times)\n",
    "\n",
    "        if trigger_times >= patience:\n",
    "            print('Early stopping!\\nStart to test process.')\n",
    "            break\n",
    "    else:\n",
    "        \n",
    "        trigger_times = 0\n",
    "        the_last_loss = the_current_loss\n",
    "        torch.save(model.state_dict(), 'Graph_attention_best_12.model')\n",
    "\n",
    "\n",
    "    with open(result_file_name,'w') as f:\n",
    "        f.write(','.join(map(str,ret)))\n"
   ]
  },
  {
   "cell_type": "markdown",
   "metadata": {},
   "source": [
    "# visualization"
   ]
  },
  {
   "cell_type": "code",
   "execution_count": 30,
   "metadata": {},
   "outputs": [
    {
     "data": {
      "text/plain": [
       "267"
      ]
     },
     "execution_count": 30,
     "metadata": {},
     "output_type": "execute_result"
    }
   ],
   "source": [
    "len(train_losses)"
   ]
  },
  {
   "cell_type": "code",
   "execution_count": 31,
   "metadata": {},
   "outputs": [
    {
     "data": {
      "image/png": "[encoded data removed]",
      "text/plain": [
       "<Figure size 720x360 with 1 Axes>"
      ]
     },
     "metadata": {},
     "output_type": "display_data"
    }
   ],
   "source": [
    "plt.figure(figsize=(10,5))\n",
    "plt.title(\"Attention FP Training and Validation Loss\")\n",
    "plt.plot(val_losses,label=\"val\")\n",
    "plt.plot(train_losses,label=\"train\")\n",
    "plt.xlabel(\"iterations\")\n",
    "plt.ylabel(\"Loss\")\n",
    "plt.legend()\n",
    "plt.ylim(0, 4)\n",
    "plt.savefig('AttentionTrainAndValidation.png', dpi=400,transparent=True)\n",
    "plt.show()"
   ]
  },
  {
   "cell_type": "code",
   "execution_count": 32,
   "metadata": {},
   "outputs": [
    {
     "data": {
      "text/plain": [
       "<matplotlib.legend.Legend at 0x7f00602b5588>"
      ]
     },
     "execution_count": 32,
     "metadata": {},
     "output_type": "execute_result"
    },
    {
     "data": {
      "image/png": "[encoded data removed]",
      "text/plain": [
       "<Figure size 432x288 with 1 Axes>"
      ]
     },
     "metadata": {},
     "output_type": "display_data"
    }
   ],
   "source": [
    "ax = plt.subplot(1,1,1)\n",
    "ax.plot([e for e in range(1,len(train_losses) + 1)], train_losses, label=\"train_loss\")\n",
    "ax.plot([e for e in range(1,len(val_losses) + 1)], val_losses, label=\"val_loss\")\n",
    "plt.xlabel(\"epoch\")\n",
    "plt.title('Attention FP')\n",
    "plt.grid(True)\n",
    "plt.savefig('Attention FP Train.png', dpi=400,transparent=True)\n",
    "ax.legend()"
   ]
  },
  {
   "cell_type": "code",
   "execution_count": 33,
   "metadata": {},
   "outputs": [],
   "source": [
    "y_pred_arr = []\n",
    "target_array = []\n",
    "for data in test_loder:\n",
    "    data = data.to(device)\n",
    "    y_pred = model(data.x.float(), data.edge_index,data.batch)\n",
    "    y_pred_arr.append(y_pred)\n",
    "    target_array.append(data.y.float())"
   ]
  },
  {
   "cell_type": "code",
   "execution_count": 34,
   "metadata": {},
   "outputs": [],
   "source": [
    "y_ped=torch.cat(y_pred_arr).view(-1).cpu().detach().numpy()\n",
    "y_true=torch.cat(target_array).cpu().detach().numpy()"
   ]
  },
  {
   "cell_type": "code",
   "execution_count": 35,
   "metadata": {},
   "outputs": [],
   "source": [
    "from sklearn.metrics import r2_score,mean_absolute_error,mean_squared_error\n",
    "import math"
   ]
  },
  {
   "cell_type": "code",
   "execution_count": 36,
   "metadata": {},
   "outputs": [
    {
     "name": "stdout",
     "output_type": "stream",
     "text": [
      "0.12558185\n"
     ]
    }
   ],
   "source": [
    "MSE = mean_squared_error(y_true, y_ped)\n",
    "print(MSE)"
   ]
  },
  {
   "cell_type": "code",
   "execution_count": 37,
   "metadata": {},
   "outputs": [],
   "source": [
    "#r2_score(y_true, y_pred)"
   ]
  },
  {
   "cell_type": "code",
   "execution_count": 38,
   "metadata": {},
   "outputs": [],
   "source": [
    "mae = mean_absolute_error(y_true,y_ped)"
   ]
  },
  {
   "cell_type": "code",
   "execution_count": 39,
   "metadata": {},
   "outputs": [
    {
     "name": "stdout",
     "output_type": "stream",
     "text": [
      "0.24719694\n"
     ]
    }
   ],
   "source": [
    "print(mae)"
   ]
  },
  {
   "cell_type": "code",
   "execution_count": 40,
   "metadata": {},
   "outputs": [
    {
     "name": "stdout",
     "output_type": "stream",
     "text": [
      "Root Mean Square Error:\n",
      "\n",
      "0.3543752892642716\n"
     ]
    }
   ],
   "source": [
    "RMSE = math.sqrt(MSE)\n",
    "print(\"Root Mean Square Error:\\n\")\n",
    "print(RMSE)"
   ]
  },
  {
   "cell_type": "code",
   "execution_count": 41,
   "metadata": {},
   "outputs": [
    {
     "data": {
      "image/png": "[encoded data removed]",
      "text/plain": [
       "<Figure size 432x288 with 1 Axes>"
      ]
     },
     "metadata": {},
     "output_type": "display_data"
    }
   ],
   "source": [
    "# plt.scatter(y_ped,y_true,s=10,marker =\"s\",c=y_true,cmap=plt.get_cmap('plasma'))\n",
    "plt.scatter(y_ped,y_true,s=10,marker =\"s\",c=y_true,cmap=plt.get_cmap('plasma'))\n",
    "plt.plot(y_true,y_true)\n",
    "plt.xlabel('Ground truth \\nd')\n",
    "plt.ylabel('Prediction')\n",
    "plt.title('Attentive FP')\n",
    "plt.grid(False)\n",
    "plt.savefig('Attention FP.png', dpi=400,transparent=True,bbox_inches = \"tight\")\n",
    "plt.show()"
   ]
  },
  {
   "cell_type": "markdown",
   "metadata": {},
   "source": [
    "# Train"
   ]
  },
  {
   "cell_type": "code",
   "execution_count": null,
   "metadata": {},
   "outputs": [],
   "source": []
  },
  {
   "cell_type": "code",
   "execution_count": null,
   "metadata": {},
   "outputs": [],
   "source": []
  },
  {
   "cell_type": "code",
   "execution_count": null,
   "metadata": {},
   "outputs": [],
   "source": []
  },
  {
   "cell_type": "code",
   "execution_count": null,
   "metadata": {},
   "outputs": [],
   "source": []
  },
  {
   "cell_type": "code",
   "execution_count": 42,
   "metadata": {},
   "outputs": [],
   "source": [
    "from rdkit.Chem import Draw\n",
    "from rdkit.Chem.Draw import IPythonConsole"
   ]
  },
  {
   "cell_type": "code",
   "execution_count": 43,
   "metadata": {},
   "outputs": [],
   "source": [
    "smile = \"OC(=O)Cc1c[nH]c2cc(ccc12)CC\""
   ]
  },
  {
   "cell_type": "code",
   "execution_count": 44,
   "metadata": {},
   "outputs": [],
   "source": [
    "smile_graph = {}\n",
    "band_gap_arr = []\n",
    "smiles_array = []\n",
    "\n",
    "g = gd.smile_to_graph(smile)\n",
    "if g != None:\n",
    "    smile_graph[smile] = g\n",
    "    band_gap_arr.append(0.00)\n",
    "    smiles_array.append(smile)"
   ]
  },
  {
   "cell_type": "code",
   "execution_count": 45,
   "metadata": {},
   "outputs": [],
   "source": [
    "one_data = Molecule_data(root='data', dataset='one_data_set',y=band_gap_arr,smile_graph=smile_graph,smiles=smiles_array)"
   ]
  },
  {
   "cell_type": "code",
   "execution_count": 46,
   "metadata": {},
   "outputs": [],
   "source": [
    "one_loder   = DataLoader(one_data,batch_size=TRAIN_BATCH_SIZE,shuffle=True)"
   ]
  },
  {
   "cell_type": "code",
   "execution_count": 47,
   "metadata": {},
   "outputs": [
    {
     "data": {
      "text/plain": [
       "Batch(x=[15, 114], edge_index=[2, 32], y=[1], c_size=[1], batch=[15], ptr=[2])"
      ]
     },
     "execution_count": 47,
     "metadata": {},
     "output_type": "execute_result"
    }
   ],
   "source": [
    "next(iter(one_loder))"
   ]
  },
  {
   "cell_type": "code",
   "execution_count": 48,
   "metadata": {},
   "outputs": [
    {
     "name": "stdout",
     "output_type": "stream",
     "text": [
      "tensor([[3.2338]], device='cuda:6', grad_fn=<AddmmBackward>)\n"
     ]
    }
   ],
   "source": [
    "for data in one_loder:\n",
    "    data = data.to(device)\n",
    "    y_pred = model(data.x.float(), data.edge_index,data.batch)\n",
    "    print(y_pred)"
   ]
  },
  {
   "cell_type": "code",
   "execution_count": 49,
   "metadata": {},
   "outputs": [
    {
     "data": {
      "image/png": "[encoded data removed]",
      "text/plain": [
       "<Figure size 360x288 with 1 Axes>"
      ]
     },
     "metadata": {},
     "output_type": "display_data"
    }
   ],
   "source": [
    "import networkx as nx\n",
    "from torch_geometric import torch_geometric\n",
    "for data in one_loder:\n",
    "    data = data.to(device)\n",
    "    gdata = torch_geometric.data.Data(x=data.x.float(), edge_index=data.edge_index)\n",
    "    g = torch_geometric.utils.to_networkx(gdata, to_undirected=True)\n",
    "    plt.figure(1,figsize=(5,4)) \n",
    "    nx.draw(g, cmap=plt.get_cmap('Set1'),node_size=50,linewidths=6)\n",
    "#     plt.show()\n",
    "#     nx.draw(g)\n",
    "    break"
   ]
  },
  {
   "cell_type": "markdown",
   "metadata": {},
   "source": [
    "#### "
   ]
  },
  {
   "cell_type": "code",
   "execution_count": null,
   "metadata": {},
   "outputs": [],
   "source": []
  }
 ],
 "metadata": {
  "kernelspec": {
   "display_name": "Python 3",
   "language": "python",
   "name": "python3"
  },
  "language_info": {
   "codemirror_mode": {
    "name": "ipython",
    "version": 3
   },
   "file_extension": ".py",
   "mimetype": "text/x-python",
   "name": "python",
   "nbconvert_exporter": "python",
   "pygments_lexer": "ipython3",
   "version": "3.6.13"
  }
 },
 "nbformat": 4,
 "nbformat_minor": 4
}
