{
 "cells": [
  {
   "cell_type": "code",
   "execution_count": 1,
   "metadata": {},
   "outputs": [],
   "source": [
    "import pandas as pd\n",
    "import numpy as np\n",
    "\n",
    "from rdkit import Chem\n",
    "from rdkit.Chem import Draw\n",
    "import networkx as nx\n",
    "from torch_geometric.datasets import MoleculeNet\n",
    "import matplotlib.pyplot as plt\n",
    "\n",
    "import torch\n",
    "import os\n",
    "import pandas as pd\n",
    "import numpy as np\n",
    "import json,pickle\n",
    "from collections import OrderedDict\n",
    "from rdkit import Chem\n",
    "from rdkit.Chem import MolFromSmiles\n",
    "import networkx as nx\n",
    "\n",
    "from torch_geometric.data import InMemoryDataset, Data\n",
    "from torch_geometric.loader import DataLoader\n",
    "\n",
    "from sklearn.model_selection import train_test_split\n",
    "from tqdm.notebook import tqdm\n",
    "import torch\n",
    "import torch.nn as nn\n",
    "\n",
    "import Data_Preprocessing.Graph_Data as gd\n",
    "from Data_Preprocessing.Graph_Data import Molecule_data\n",
    "from models.AttentiveFPModel import AttentiveFP\n",
    "import seaborn as sns\n",
    "\n",
    "from models.gat import GATNet\n",
    "import torch.nn as nn\n",
    "from models.gcn import GCNNet\n",
    "from models.gat_gcn import GAT_GCN\n",
    "from models.ginconv import GINConvNet"
   ]
  },
  {
   "cell_type": "code",
   "execution_count": 2,
   "metadata": {},
   "outputs": [],
   "source": [
    "df = pd.read_csv('Data_Preprocessing/omdb_smile_data_set.csv')"
   ]
  },
  {
   "cell_type": "code",
   "execution_count": 3,
   "metadata": {},
   "outputs": [],
   "source": [
    "smiles = df['SMILE']\n",
    "codIds = df['CODID']\n",
    "band_gap = df['bgs']"
   ]
  },
  {
   "cell_type": "code",
   "execution_count": 4,
   "metadata": {},
   "outputs": [
    {
     "name": "stdout",
     "output_type": "stream",
     "text": [
      "3.0630082776213756\n",
      "0.0\n",
      "8.54\n"
     ]
    }
   ],
   "source": [
    "print(band_gap.mean())\n",
    "print(band_gap.min())\n",
    "print(band_gap.max())"
   ]
  },
  {
   "cell_type": "code",
   "execution_count": 5,
   "metadata": {},
   "outputs": [
    {
     "data": {
      "image/png": "[encoded data removed]",
      "text/plain": [
       "<Figure size 432x288 with 1 Axes>"
      ]
     },
     "metadata": {},
     "output_type": "display_data"
    }
   ],
   "source": [
    "sns.set_theme(style=\"whitegrid\")\n",
    "tips = sns.load_dataset(\"tips\")\n",
    "\n",
    "ax = sns.violinplot(x=band_gap)\n",
    "ax.grid(False)"
   ]
  },
  {
   "cell_type": "code",
   "execution_count": null,
   "metadata": {},
   "outputs": [],
   "source": []
  },
  {
   "cell_type": "code",
   "execution_count": 6,
   "metadata": {},
   "outputs": [],
   "source": [
    "train_ratio = 0.70\n",
    "validation_ratio = 0.10\n",
    "test_ratio = 0.20\n",
    "\n",
    "# train is now 75% of the entire data set\n",
    "# the _junk suffix means that we drop that variable completely\n",
    "x_train, x_test, y_train, y_test = train_test_split(smiles, band_gap, test_size=1 - train_ratio)\n",
    "\n",
    "# test is now 10% of the initial data set\n",
    "# validation is now 15% of the initial data set\n",
    "x_val, x_test, y_val, y_test = train_test_split(x_test, y_test, test_size=test_ratio/(test_ratio + validation_ratio)) \n"
   ]
  },
  {
   "cell_type": "code",
   "execution_count": 7,
   "metadata": {},
   "outputs": [],
   "source": [
    "# X_train, X_val, y_train, y_val = train_test_split(smiles, band_gap, test_size=0.2)"
   ]
  },
  {
   "cell_type": "code",
   "execution_count": 8,
   "metadata": {},
   "outputs": [],
   "source": [
    "# X_train, X_test, y_train, y_test = train_test_split(X_train, y_train, test_size=0.2)"
   ]
  },
  {
   "cell_type": "code",
   "execution_count": null,
   "metadata": {},
   "outputs": [],
   "source": []
  },
  {
   "cell_type": "code",
   "execution_count": 9,
   "metadata": {},
   "outputs": [],
   "source": [
    "y_train = y_train.to_numpy()\n",
    "y_val = y_val.to_numpy()\n",
    "y_test = y_test.to_numpy()"
   ]
  },
  {
   "cell_type": "code",
   "execution_count": 10,
   "metadata": {},
   "outputs": [
    {
     "name": "stdout",
     "output_type": "stream",
     "text": [
      "7957\n"
     ]
    }
   ],
   "source": [
    "print(len(y_train))"
   ]
  },
  {
   "cell_type": "markdown",
   "metadata": {},
   "source": [
    "# Train"
   ]
  },
  {
   "cell_type": "code",
   "execution_count": 11,
   "metadata": {},
   "outputs": [],
   "source": [
    "smile_graph = {}\n",
    "band_gap_arr = []\n",
    "smiles_array = []\n",
    "\n",
    "# for i,smile in tqdm(enumerate(x_train)):\n",
    "#     g = gd.smile_to_graph(smile)\n",
    "#     if g != None:\n",
    "#         smile_graph[smile] = g\n",
    "#         band_gap_arr.append(y_train[i])\n",
    "#         smiles_array.append(smile)"
   ]
  },
  {
   "cell_type": "code",
   "execution_count": 12,
   "metadata": {},
   "outputs": [
    {
     "name": "stdout",
     "output_type": "stream",
     "text": [
      "0\n"
     ]
    }
   ],
   "source": [
    "print(len(band_gap_arr))"
   ]
  },
  {
   "cell_type": "markdown",
   "metadata": {},
   "source": [
    "# Validation"
   ]
  },
  {
   "cell_type": "code",
   "execution_count": 13,
   "metadata": {},
   "outputs": [],
   "source": [
    "smile_graph_val = {}\n",
    "band_gap_arr_val = []\n",
    "smiles_array_val = []\n",
    "for i,smile in enumerate(x_val):\n",
    "    g = gd.smile_to_graph(smile)\n",
    "    if g != None:\n",
    "        smile_graph_val[smile] = g\n",
    "        band_gap_arr_val.append(y_val[i])\n",
    "        smiles_array_val.append(smile)"
   ]
  },
  {
   "cell_type": "markdown",
   "metadata": {},
   "source": [
    "# Test"
   ]
  },
  {
   "cell_type": "code",
   "execution_count": 14,
   "metadata": {},
   "outputs": [],
   "source": [
    "smile_graph_test = {}\n",
    "band_gap_arr_test = []\n",
    "smiles_array_test = []\n",
    "for i,smile in enumerate(x_test):\n",
    "    g = gd.smile_to_graph(smile)\n",
    "    if g != None:\n",
    "        smile_graph_test[smile] = g\n",
    "        band_gap_arr_test.append(y_test[i])\n",
    "        smiles_array_test.append(smile)"
   ]
  },
  {
   "cell_type": "code",
   "execution_count": null,
   "metadata": {},
   "outputs": [],
   "source": []
  },
  {
   "cell_type": "markdown",
   "metadata": {},
   "source": [
    "# Train Graph"
   ]
  },
  {
   "cell_type": "code",
   "execution_count": 15,
   "metadata": {},
   "outputs": [],
   "source": [
    "train_data = Molecule_data(root='data', dataset='train_data_set',y=band_gap_arr,smile_graph=smile_graph,smiles=smiles_array)"
   ]
  },
  {
   "cell_type": "markdown",
   "metadata": {},
   "source": [
    "# Validation Graph"
   ]
  },
  {
   "cell_type": "code",
   "execution_count": 16,
   "metadata": {},
   "outputs": [],
   "source": [
    "val_data = Molecule_data(root='data', dataset='val_data_set',y=band_gap_arr_val,smile_graph=smile_graph_val,smiles=smiles_array_val)"
   ]
  },
  {
   "cell_type": "markdown",
   "metadata": {},
   "source": [
    "# Test Graph"
   ]
  },
  {
   "cell_type": "code",
   "execution_count": 17,
   "metadata": {},
   "outputs": [],
   "source": [
    "test_data = Molecule_data(root='data', dataset='test_data_set',y=band_gap_arr_test,smile_graph=smile_graph_test,smiles=smiles_array_test)"
   ]
  },
  {
   "cell_type": "code",
   "execution_count": 18,
   "metadata": {},
   "outputs": [],
   "source": [
    "TRAIN_BATCH_SIZE = 17"
   ]
  },
  {
   "cell_type": "code",
   "execution_count": 19,
   "metadata": {},
   "outputs": [
    {
     "data": {
      "text/plain": [
       "2101"
      ]
     },
     "execution_count": 19,
     "metadata": {},
     "output_type": "execute_result"
    }
   ],
   "source": [
    "len(test_data)"
   ]
  },
  {
   "cell_type": "code",
   "execution_count": 20,
   "metadata": {},
   "outputs": [
    {
     "data": {
      "text/plain": [
       "2101"
      ]
     },
     "execution_count": 20,
     "metadata": {},
     "output_type": "execute_result"
    }
   ],
   "source": [
    "len(test_data)"
   ]
  },
  {
   "cell_type": "code",
   "execution_count": 21,
   "metadata": {},
   "outputs": [],
   "source": [
    "train_loder   = DataLoader(train_data,batch_size=TRAIN_BATCH_SIZE,shuffle=True)\n",
    "test_loder  = DataLoader(test_data,batch_size=TRAIN_BATCH_SIZE,shuffle=True)\n",
    "val_loder  = DataLoader(val_data,batch_size=TRAIN_BATCH_SIZE,shuffle=True)"
   ]
  },
  {
   "cell_type": "code",
   "execution_count": 22,
   "metadata": {},
   "outputs": [
    {
     "data": {
      "text/plain": [
       "Batch(x=[370, 114], edge_index=[2, 772], y=[17], c_size=[17], batch=[370], ptr=[18])"
      ]
     },
     "execution_count": 22,
     "metadata": {},
     "output_type": "execute_result"
    }
   ],
   "source": [
    "next(iter(train_loder))"
   ]
  },
  {
   "cell_type": "code",
   "execution_count": 23,
   "metadata": {},
   "outputs": [
    {
     "name": "stdout",
     "output_type": "stream",
     "text": [
      "cuda:5\n"
     ]
    }
   ],
   "source": [
    "if torch.cuda.is_available():  \n",
    "    device = \"cuda:5\"\n",
    "    print(\"cuda:5\")\n",
    "else:  \n",
    "    device = \"cpu\" \n",
    "    print(torch.cuda.is_available())"
   ]
  },
  {
   "cell_type": "code",
   "execution_count": 24,
   "metadata": {},
   "outputs": [],
   "source": [
    "# training function at each epoch\n",
    "def train(model, device, train_loader, optimizer, epoch,loss_fn):\n",
    "    #print('Training on {} samples...'.format(len(train_loader1.dataset)))\n",
    "    model.train()\n",
    "    Loss = []\n",
    "    for data in train_loader:\n",
    "        data = data.to(device)\n",
    "        optimizer.zero_grad()\n",
    "        output = model(data)\n",
    "        loss = loss_fn(output, data.y.view(-1, 1).float().to(device))\n",
    "        loss.backward()\n",
    "        optimizer.step()\n",
    "        Loss.append(loss.item())\n",
    "    nploss = np.asarray(Loss)\n",
    "    avg_loss = np.average(nploss)\n",
    "    return avg_loss"
   ]
  },
  {
   "cell_type": "code",
   "execution_count": 25,
   "metadata": {},
   "outputs": [],
   "source": [
    "def predicting(model, device, loader,loss_fn):\n",
    "    model.eval()\n",
    "    total_loss=total_example=0\n",
    "    with torch.no_grad():\n",
    "        for data in loader:\n",
    "            data = data.to(device)\n",
    "            output = model(data)\n",
    "            loss = loss_fn(output, data.y.view(-1, 1).float().to(device))\n",
    "            total_loss+=loss\n",
    "            total_example+=1\n",
    "    return total_loss/total_example"
   ]
  },
  {
   "cell_type": "code",
   "execution_count": 26,
   "metadata": {},
   "outputs": [
    {
     "name": "stdout",
     "output_type": "stream",
     "text": [
      "GINConvNet(\n",
      "  (dropout): Dropout(p=0.2, inplace=False)\n",
      "  (relu): ReLU()\n",
      "  (D1_conv1): GINConv(nn=Sequential(\n",
      "    (0): Linear(in_features=114, out_features=198, bias=True)\n",
      "    (1): ReLU()\n",
      "    (2): Linear(in_features=198, out_features=198, bias=True)\n",
      "  ))\n",
      "  (D1_bn1): BatchNorm1d(198, eps=1e-05, momentum=0.1, affine=True, track_running_stats=True)\n",
      "  (D1_conv2): GINConv(nn=Sequential(\n",
      "    (0): Linear(in_features=198, out_features=64, bias=True)\n",
      "    (1): ReLU()\n",
      "    (2): Linear(in_features=64, out_features=64, bias=True)\n",
      "  ))\n",
      "  (D1_bn2): BatchNorm1d(64, eps=1e-05, momentum=0.1, affine=True, track_running_stats=True)\n",
      "  (D1_conv3): GINConv(nn=Sequential(\n",
      "    (0): Linear(in_features=64, out_features=32, bias=True)\n",
      "    (1): ReLU()\n",
      "    (2): Linear(in_features=32, out_features=32, bias=True)\n",
      "  ))\n",
      "  (D1_bn3): BatchNorm1d(32, eps=1e-05, momentum=0.1, affine=True, track_running_stats=True)\n",
      "  (fc1): Linear(in_features=32, out_features=16, bias=True)\n",
      "  (fc2): Linear(in_features=16, out_features=8, bias=True)\n",
      "  (out): Linear(in_features=8, out_features=1, bias=True)\n",
      ")\n"
     ]
    }
   ],
   "source": [
    "model = GINConvNet().to(device)\n",
    "print(model)"
   ]
  },
  {
   "cell_type": "code",
   "execution_count": 27,
   "metadata": {},
   "outputs": [],
   "source": [
    "#LR = 0.005\n",
    "LR = 8.28967316828403e-05\n",
    "eps_rate = 1.7687722582665366e-05\n",
    "weight_decay = 1.3459636454913954e-06\n",
    "LOG_INTERVAL = 20\n",
    "NUM_EPOCHS = 3000\n",
    "results = []"
   ]
  },
  {
   "cell_type": "code",
   "execution_count": 28,
   "metadata": {},
   "outputs": [],
   "source": [
    "class RMSELoss(nn.Module):\n",
    "    def __init__(self):\n",
    "        super().__init__()\n",
    "        self.mse = nn.MSELoss()\n",
    "        \n",
    "    def forward(self,yhat,y):\n",
    "        return torch.sqrt(self.mse(yhat,y))"
   ]
  },
  {
   "cell_type": "code",
   "execution_count": 29,
   "metadata": {},
   "outputs": [],
   "source": [
    "#loss_fn = nn.MSELoss()\n",
    "#loss_fn = RMSELoss()\n",
    "loss_fn = nn.L1Loss()\n",
    "model = model.cuda(device)\n",
    "#optimizer = torch.optim.Adam(model.parameters(), lr=LR)\n",
    "optimizer = torch.optim.Adam(model.parameters(),lr=LR,betas=(0.9,0.999),\n",
    "                                 eps=eps_rate,weight_decay=weight_decay,amsgrad=False)"
   ]
  },
  {
   "cell_type": "code",
   "execution_count": 30,
   "metadata": {
    "scrolled": true
   },
   "outputs": [
    {
     "name": "stdout",
     "output_type": "stream",
     "text": [
      "Epoch 0: Train mae: 1.96926\t val mae: 1.45811\t\n",
      "Epoch 1: Train mae: 1.54981\t val mae: 1.26964\t\n",
      "Epoch 2: Train mae: 1.43663\t val mae: 1.21345\t\n",
      "Epoch 3: Train mae: 1.39053\t val mae: 1.17085\t\n",
      "Epoch 4: Train mae: 1.32625\t val mae: 1.14364\t\n",
      "Epoch 5: Train mae: 1.27088\t val mae: 1.07611\t\n",
      "Epoch 6: Train mae: 1.24004\t val mae: 1.05131\t\n",
      "Epoch 7: Train mae: 1.20619\t val mae: 1.02377\t\n",
      "Epoch 8: Train mae: 1.19223\t val mae: 1.11842\t\n",
      "trigger times: 1\n",
      "Epoch 9: Train mae: 1.14288\t val mae: 1.07684\t\n",
      "trigger times: 2\n",
      "Epoch 10: Train mae: 1.11250\t val mae: 1.00721\t\n",
      "Epoch 11: Train mae: 1.09261\t val mae: 0.92729\t\n",
      "Epoch 12: Train mae: 1.08182\t val mae: 0.92342\t\n",
      "Epoch 13: Train mae: 1.04761\t val mae: 0.90950\t\n",
      "Epoch 14: Train mae: 1.02369\t val mae: 0.91867\t\n",
      "trigger times: 1\n",
      "Epoch 15: Train mae: 1.01370\t val mae: 0.89648\t\n",
      "Epoch 16: Train mae: 0.97942\t val mae: 0.88195\t\n",
      "Epoch 17: Train mae: 0.96291\t val mae: 0.86597\t\n",
      "Epoch 18: Train mae: 0.93991\t val mae: 0.85228\t\n",
      "Epoch 19: Train mae: 0.92764\t val mae: 0.84662\t\n",
      "Epoch 20: Train mae: 0.91134\t val mae: 0.81066\t\n",
      "Epoch 21: Train mae: 0.88614\t val mae: 0.74810\t\n",
      "Epoch 22: Train mae: 0.86268\t val mae: 0.76738\t\n",
      "trigger times: 1\n",
      "Epoch 23: Train mae: 0.85412\t val mae: 0.78267\t\n",
      "trigger times: 2\n",
      "Epoch 24: Train mae: 0.84476\t val mae: 0.77031\t\n",
      "trigger times: 3\n",
      "Epoch 25: Train mae: 0.83162\t val mae: 0.74676\t\n",
      "Epoch 26: Train mae: 0.81015\t val mae: 0.73825\t\n",
      "Epoch 27: Train mae: 0.79614\t val mae: 0.71256\t\n",
      "Epoch 28: Train mae: 0.77199\t val mae: 0.69360\t\n",
      "Epoch 29: Train mae: 0.76723\t val mae: 0.68652\t\n",
      "Epoch 30: Train mae: 0.75606\t val mae: 0.69382\t\n",
      "trigger times: 1\n",
      "Epoch 31: Train mae: 0.73221\t val mae: 0.67992\t\n",
      "Epoch 32: Train mae: 0.72626\t val mae: 0.67221\t\n",
      "Epoch 33: Train mae: 0.71331\t val mae: 0.62656\t\n",
      "Epoch 34: Train mae: 0.71136\t val mae: 0.61733\t\n",
      "Epoch 35: Train mae: 0.68574\t val mae: 0.60440\t\n",
      "Epoch 36: Train mae: 0.68255\t val mae: 0.58800\t\n",
      "Epoch 37: Train mae: 0.66726\t val mae: 0.59778\t\n",
      "trigger times: 1\n",
      "Epoch 38: Train mae: 0.66122\t val mae: 0.57706\t\n",
      "Epoch 39: Train mae: 0.65876\t val mae: 0.59429\t\n",
      "trigger times: 1\n",
      "Epoch 40: Train mae: 0.65669\t val mae: 0.57445\t\n",
      "Epoch 41: Train mae: 0.63438\t val mae: 0.53576\t\n",
      "Epoch 42: Train mae: 0.63407\t val mae: 0.52763\t\n",
      "Epoch 43: Train mae: 0.62232\t val mae: 0.52803\t\n",
      "trigger times: 1\n",
      "Epoch 44: Train mae: 0.62001\t val mae: 0.51544\t\n",
      "Epoch 45: Train mae: 0.61909\t val mae: 0.53038\t\n",
      "trigger times: 1\n",
      "Epoch 46: Train mae: 0.60864\t val mae: 0.54170\t\n",
      "trigger times: 2\n",
      "Epoch 47: Train mae: 0.59788\t val mae: 0.52437\t\n",
      "trigger times: 3\n",
      "Epoch 48: Train mae: 0.60215\t val mae: 0.50621\t\n",
      "Epoch 49: Train mae: 0.58725\t val mae: 0.48128\t\n",
      "Epoch 50: Train mae: 0.59167\t val mae: 0.47452\t\n",
      "Epoch 51: Train mae: 0.58782\t val mae: 0.50144\t\n",
      "trigger times: 1\n",
      "Epoch 52: Train mae: 0.57213\t val mae: 0.50221\t\n",
      "trigger times: 2\n",
      "Epoch 53: Train mae: 0.57828\t val mae: 0.49782\t\n",
      "trigger times: 3\n",
      "Epoch 54: Train mae: 0.56454\t val mae: 0.50422\t\n",
      "trigger times: 4\n",
      "Epoch 55: Train mae: 0.56920\t val mae: 0.48273\t\n",
      "trigger times: 5\n",
      "Epoch 56: Train mae: 0.55598\t val mae: 0.53210\t\n",
      "trigger times: 6\n",
      "Epoch 57: Train mae: 0.55876\t val mae: 0.45521\t\n",
      "Epoch 58: Train mae: 0.54443\t val mae: 0.49498\t\n",
      "trigger times: 1\n",
      "Epoch 59: Train mae: 0.55243\t val mae: 0.47269\t\n",
      "trigger times: 2\n",
      "Epoch 60: Train mae: 0.55087\t val mae: 0.47164\t\n",
      "trigger times: 3\n",
      "Epoch 61: Train mae: 0.54509\t val mae: 0.45430\t\n",
      "Epoch 62: Train mae: 0.53603\t val mae: 0.44106\t\n",
      "Epoch 63: Train mae: 0.54207\t val mae: 0.45720\t\n",
      "trigger times: 1\n",
      "Epoch 64: Train mae: 0.53119\t val mae: 0.45340\t\n",
      "trigger times: 2\n",
      "Epoch 65: Train mae: 0.54082\t val mae: 0.45144\t\n",
      "trigger times: 3\n",
      "Epoch 66: Train mae: 0.52730\t val mae: 0.43991\t\n",
      "Epoch 67: Train mae: 0.52479\t val mae: 0.44161\t\n",
      "trigger times: 1\n",
      "Epoch 68: Train mae: 0.52613\t val mae: 0.43814\t\n",
      "Epoch 69: Train mae: 0.52295\t val mae: 0.44152\t\n",
      "trigger times: 1\n",
      "Epoch 70: Train mae: 0.52644\t val mae: 0.43550\t\n",
      "Epoch 71: Train mae: 0.52721\t val mae: 0.44498\t\n",
      "trigger times: 1\n",
      "Epoch 72: Train mae: 0.52348\t val mae: 0.43299\t\n",
      "Epoch 73: Train mae: 0.51984\t val mae: 0.43586\t\n",
      "trigger times: 1\n",
      "Epoch 74: Train mae: 0.51774\t val mae: 0.42433\t\n",
      "Epoch 75: Train mae: 0.51283\t val mae: 0.42340\t\n",
      "Epoch 76: Train mae: 0.50535\t val mae: 0.42375\t\n",
      "trigger times: 1\n",
      "Epoch 77: Train mae: 0.50326\t val mae: 0.41069\t\n",
      "Epoch 78: Train mae: 0.50746\t val mae: 0.43112\t\n",
      "trigger times: 1\n",
      "Epoch 79: Train mae: 0.50444\t val mae: 0.41186\t\n",
      "trigger times: 2\n",
      "Epoch 80: Train mae: 0.49775\t val mae: 0.42048\t\n",
      "trigger times: 3\n",
      "Epoch 81: Train mae: 0.50969\t val mae: 0.40453\t\n",
      "Epoch 82: Train mae: 0.50057\t val mae: 0.42441\t\n",
      "trigger times: 1\n",
      "Epoch 83: Train mae: 0.50250\t val mae: 0.41827\t\n",
      "trigger times: 2\n",
      "Epoch 84: Train mae: 0.50180\t val mae: 0.41278\t\n",
      "trigger times: 3\n",
      "Epoch 85: Train mae: 0.49547\t val mae: 0.40400\t\n",
      "Epoch 86: Train mae: 0.49247\t val mae: 0.41977\t\n",
      "trigger times: 1\n",
      "Epoch 87: Train mae: 0.48988\t val mae: 0.40025\t\n",
      "Epoch 88: Train mae: 0.48476\t val mae: 0.41255\t\n",
      "trigger times: 1\n",
      "Epoch 89: Train mae: 0.49127\t val mae: 0.41085\t\n",
      "trigger times: 2\n",
      "Epoch 90: Train mae: 0.48775\t val mae: 0.40986\t\n",
      "trigger times: 3\n",
      "Epoch 91: Train mae: 0.48830\t val mae: 0.40105\t\n",
      "trigger times: 4\n",
      "Epoch 92: Train mae: 0.48471\t val mae: 0.39461\t\n",
      "Epoch 93: Train mae: 0.47416\t val mae: 0.40765\t\n",
      "trigger times: 1\n",
      "Epoch 94: Train mae: 0.47363\t val mae: 0.40739\t\n",
      "trigger times: 2\n",
      "Epoch 95: Train mae: 0.47894\t val mae: 0.39877\t\n",
      "trigger times: 3\n",
      "Epoch 96: Train mae: 0.47675\t val mae: 0.40688\t\n",
      "trigger times: 4\n",
      "Epoch 97: Train mae: 0.46820\t val mae: 0.39868\t\n",
      "trigger times: 5\n",
      "Epoch 98: Train mae: 0.47594\t val mae: 0.41342\t\n",
      "trigger times: 6\n",
      "Epoch 99: Train mae: 0.48034\t val mae: 0.39325\t\n",
      "Epoch 100: Train mae: 0.45918\t val mae: 0.40277\t\n",
      "trigger times: 1\n",
      "Epoch 101: Train mae: 0.47458\t val mae: 0.40659\t\n",
      "trigger times: 2\n",
      "Epoch 102: Train mae: 0.46391\t val mae: 0.40527\t\n",
      "trigger times: 3\n",
      "Epoch 103: Train mae: 0.47275\t val mae: 0.40232\t\n",
      "trigger times: 4\n",
      "Epoch 104: Train mae: 0.46443\t val mae: 0.40933\t\n",
      "trigger times: 5\n",
      "Epoch 105: Train mae: 0.46603\t val mae: 0.38441\t\n",
      "Epoch 106: Train mae: 0.46586\t val mae: 0.37583\t\n",
      "Epoch 107: Train mae: 0.46913\t val mae: 0.37965\t\n",
      "trigger times: 1\n",
      "Epoch 108: Train mae: 0.46610\t val mae: 0.38514\t\n",
      "trigger times: 2\n",
      "Epoch 109: Train mae: 0.46211\t val mae: 0.38330\t\n",
      "trigger times: 3\n",
      "Epoch 110: Train mae: 0.45549\t val mae: 0.37878\t\n",
      "trigger times: 4\n",
      "Epoch 111: Train mae: 0.45833\t val mae: 0.38034\t\n",
      "trigger times: 5\n",
      "Epoch 112: Train mae: 0.45671\t val mae: 0.38192\t\n",
      "trigger times: 6\n",
      "Epoch 113: Train mae: 0.45520\t val mae: 0.39595\t\n",
      "trigger times: 7\n",
      "Epoch 114: Train mae: 0.45799\t val mae: 0.36577\t\n",
      "Epoch 115: Train mae: 0.45538\t val mae: 0.36975\t\n",
      "trigger times: 1\n",
      "Epoch 116: Train mae: 0.45153\t val mae: 0.38581\t\n",
      "trigger times: 2\n",
      "Epoch 117: Train mae: 0.44700\t val mae: 0.39580\t\n",
      "trigger times: 3\n",
      "Epoch 118: Train mae: 0.44744\t val mae: 0.37455\t\n",
      "trigger times: 4\n",
      "Epoch 119: Train mae: 0.45340\t val mae: 0.38278\t\n",
      "trigger times: 5\n",
      "Epoch 120: Train mae: 0.45093\t val mae: 0.38711\t\n",
      "trigger times: 6\n",
      "Epoch 121: Train mae: 0.44848\t val mae: 0.36408\t\n",
      "Epoch 122: Train mae: 0.44463\t val mae: 0.37513\t\n",
      "trigger times: 1\n",
      "Epoch 123: Train mae: 0.45008\t val mae: 0.36456\t\n",
      "trigger times: 2\n",
      "Epoch 124: Train mae: 0.44537\t val mae: 0.38342\t\n",
      "trigger times: 3\n",
      "Epoch 125: Train mae: 0.44924\t val mae: 0.36940\t\n",
      "trigger times: 4\n",
      "Epoch 126: Train mae: 0.44311\t val mae: 0.37286\t\n",
      "trigger times: 5\n",
      "Epoch 127: Train mae: 0.43751\t val mae: 0.37723\t\n",
      "trigger times: 6\n",
      "Epoch 128: Train mae: 0.44573\t val mae: 0.37926\t\n",
      "trigger times: 7\n",
      "Epoch 129: Train mae: 0.44261\t val mae: 0.38590\t\n",
      "trigger times: 8\n",
      "Epoch 130: Train mae: 0.44078\t val mae: 0.39650\t\n",
      "trigger times: 9\n",
      "Epoch 131: Train mae: 0.44256\t val mae: 0.38515\t\n",
      "trigger times: 10\n",
      "Epoch 132: Train mae: 0.44078\t val mae: 0.37107\t\n",
      "trigger times: 11\n",
      "Epoch 133: Train mae: 0.43552\t val mae: 0.37312\t\n",
      "trigger times: 12\n",
      "Epoch 134: Train mae: 0.43618\t val mae: 0.37235\t\n",
      "trigger times: 13\n",
      "Epoch 135: Train mae: 0.43633\t val mae: 0.38192\t\n",
      "trigger times: 14\n",
      "Epoch 136: Train mae: 0.42780\t val mae: 0.36992\t\n",
      "trigger times: 15\n",
      "Epoch 137: Train mae: 0.44407\t val mae: 0.36621\t\n",
      "trigger times: 16\n",
      "Epoch 138: Train mae: 0.43408\t val mae: 0.36889\t\n",
      "trigger times: 17\n",
      "Epoch 139: Train mae: 0.43442\t val mae: 0.36576\t\n",
      "trigger times: 18\n",
      "Epoch 140: Train mae: 0.43039\t val mae: 0.38129\t\n",
      "trigger times: 19\n"
     ]
    },
    {
     "name": "stdout",
     "output_type": "stream",
     "text": [
      "Epoch 141: Train mae: 0.42960\t val mae: 0.36111\t\n",
      "Epoch 142: Train mae: 0.43359\t val mae: 0.36124\t\n",
      "trigger times: 1\n",
      "Epoch 143: Train mae: 0.42484\t val mae: 0.38034\t\n",
      "trigger times: 2\n",
      "Epoch 144: Train mae: 0.42530\t val mae: 0.36123\t\n",
      "trigger times: 3\n",
      "Epoch 145: Train mae: 0.42457\t val mae: 0.37040\t\n",
      "trigger times: 4\n",
      "Epoch 146: Train mae: 0.42938\t val mae: 0.36017\t\n",
      "Epoch 147: Train mae: 0.41911\t val mae: 0.35987\t\n",
      "Epoch 148: Train mae: 0.43434\t val mae: 0.34474\t\n",
      "Epoch 149: Train mae: 0.42618\t val mae: 0.35581\t\n",
      "trigger times: 1\n",
      "Epoch 150: Train mae: 0.41973\t val mae: 0.35390\t\n",
      "trigger times: 2\n",
      "Epoch 151: Train mae: 0.42092\t val mae: 0.36969\t\n",
      "trigger times: 3\n",
      "Epoch 152: Train mae: 0.42830\t val mae: 0.36828\t\n",
      "trigger times: 4\n",
      "Epoch 153: Train mae: 0.42543\t val mae: 0.34565\t\n",
      "trigger times: 5\n",
      "Epoch 154: Train mae: 0.41906\t val mae: 0.35141\t\n",
      "trigger times: 6\n",
      "Epoch 155: Train mae: 0.42045\t val mae: 0.37136\t\n",
      "trigger times: 7\n",
      "Epoch 156: Train mae: 0.42035\t val mae: 0.36434\t\n",
      "trigger times: 8\n",
      "Epoch 157: Train mae: 0.41956\t val mae: 0.34923\t\n",
      "trigger times: 9\n",
      "Epoch 158: Train mae: 0.41798\t val mae: 0.34609\t\n",
      "trigger times: 10\n",
      "Epoch 159: Train mae: 0.42796\t val mae: 0.36182\t\n",
      "trigger times: 11\n",
      "Epoch 160: Train mae: 0.41924\t val mae: 0.36757\t\n",
      "trigger times: 12\n",
      "Epoch 161: Train mae: 0.41279\t val mae: 0.35639\t\n",
      "trigger times: 13\n",
      "Epoch 162: Train mae: 0.40562\t val mae: 0.35255\t\n",
      "trigger times: 14\n",
      "Epoch 163: Train mae: 0.41659\t val mae: 0.34424\t\n",
      "Epoch 164: Train mae: 0.41580\t val mae: 0.35379\t\n",
      "trigger times: 1\n",
      "Epoch 165: Train mae: 0.41546\t val mae: 0.37869\t\n",
      "trigger times: 2\n",
      "Epoch 166: Train mae: 0.41575\t val mae: 0.34289\t\n",
      "Epoch 167: Train mae: 0.42115\t val mae: 0.36461\t\n",
      "trigger times: 1\n",
      "Epoch 168: Train mae: 0.41042\t val mae: 0.35840\t\n",
      "trigger times: 2\n",
      "Epoch 169: Train mae: 0.41034\t val mae: 0.34764\t\n",
      "trigger times: 3\n",
      "Epoch 170: Train mae: 0.40715\t val mae: 0.35431\t\n",
      "trigger times: 4\n",
      "Epoch 171: Train mae: 0.40995\t val mae: 0.35845\t\n",
      "trigger times: 5\n",
      "Epoch 172: Train mae: 0.41558\t val mae: 0.35292\t\n",
      "trigger times: 6\n",
      "Epoch 173: Train mae: 0.41643\t val mae: 0.34897\t\n",
      "trigger times: 7\n",
      "Epoch 174: Train mae: 0.40620\t val mae: 0.35764\t\n",
      "trigger times: 8\n",
      "Epoch 175: Train mae: 0.40286\t val mae: 0.34947\t\n",
      "trigger times: 9\n",
      "Epoch 176: Train mae: 0.40894\t val mae: 0.34216\t\n",
      "Epoch 177: Train mae: 0.40557\t val mae: 0.36194\t\n",
      "trigger times: 1\n",
      "Epoch 178: Train mae: 0.41327\t val mae: 0.34452\t\n",
      "trigger times: 2\n",
      "Epoch 179: Train mae: 0.40172\t val mae: 0.35720\t\n",
      "trigger times: 3\n",
      "Epoch 180: Train mae: 0.40320\t val mae: 0.35023\t\n",
      "trigger times: 4\n",
      "Epoch 181: Train mae: 0.40157\t val mae: 0.33634\t\n",
      "Epoch 182: Train mae: 0.40449\t val mae: 0.33701\t\n",
      "trigger times: 1\n",
      "Epoch 183: Train mae: 0.40658\t val mae: 0.35516\t\n",
      "trigger times: 2\n",
      "Epoch 184: Train mae: 0.40063\t val mae: 0.33189\t\n",
      "Epoch 185: Train mae: 0.40097\t val mae: 0.34053\t\n",
      "trigger times: 1\n",
      "Epoch 186: Train mae: 0.39755\t val mae: 0.34166\t\n",
      "trigger times: 2\n",
      "Epoch 187: Train mae: 0.40383\t val mae: 0.35872\t\n",
      "trigger times: 3\n",
      "Epoch 188: Train mae: 0.39526\t val mae: 0.34762\t\n",
      "trigger times: 4\n",
      "Epoch 189: Train mae: 0.39761\t val mae: 0.33453\t\n",
      "trigger times: 5\n",
      "Epoch 190: Train mae: 0.39706\t val mae: 0.34451\t\n",
      "trigger times: 6\n",
      "Epoch 191: Train mae: 0.39243\t val mae: 0.33317\t\n",
      "trigger times: 7\n",
      "Epoch 192: Train mae: 0.40081\t val mae: 0.34715\t\n",
      "trigger times: 8\n",
      "Epoch 193: Train mae: 0.40321\t val mae: 0.34658\t\n",
      "trigger times: 9\n",
      "Epoch 194: Train mae: 0.40330\t val mae: 0.34946\t\n",
      "trigger times: 10\n",
      "Epoch 195: Train mae: 0.39424\t val mae: 0.34140\t\n",
      "trigger times: 11\n",
      "Epoch 196: Train mae: 0.40120\t val mae: 0.34806\t\n",
      "trigger times: 12\n",
      "Epoch 197: Train mae: 0.39779\t val mae: 0.33983\t\n",
      "trigger times: 13\n",
      "Epoch 198: Train mae: 0.39088\t val mae: 0.34020\t\n",
      "trigger times: 14\n",
      "Epoch 199: Train mae: 0.39069\t val mae: 0.34544\t\n",
      "trigger times: 15\n",
      "Epoch 200: Train mae: 0.39752\t val mae: 0.33369\t\n",
      "trigger times: 16\n",
      "Epoch 201: Train mae: 0.39661\t val mae: 0.33231\t\n",
      "trigger times: 17\n",
      "Epoch 202: Train mae: 0.40072\t val mae: 0.36261\t\n",
      "trigger times: 18\n",
      "Epoch 203: Train mae: 0.39608\t val mae: 0.33190\t\n",
      "trigger times: 19\n",
      "Epoch 204: Train mae: 0.39342\t val mae: 0.34207\t\n",
      "trigger times: 20\n",
      "Epoch 205: Train mae: 0.40124\t val mae: 0.34153\t\n",
      "trigger times: 21\n",
      "Epoch 206: Train mae: 0.38753\t val mae: 0.32777\t\n",
      "Epoch 207: Train mae: 0.39206\t val mae: 0.32621\t\n",
      "Epoch 208: Train mae: 0.38736\t val mae: 0.34542\t\n",
      "trigger times: 1\n",
      "Epoch 209: Train mae: 0.38889\t val mae: 0.32271\t\n",
      "Epoch 210: Train mae: 0.40135\t val mae: 0.32982\t\n",
      "trigger times: 1\n",
      "Epoch 211: Train mae: 0.38916\t val mae: 0.32933\t\n",
      "trigger times: 2\n",
      "Epoch 212: Train mae: 0.38634\t val mae: 0.33539\t\n",
      "trigger times: 3\n",
      "Epoch 213: Train mae: 0.38999\t val mae: 0.33129\t\n",
      "trigger times: 4\n",
      "Epoch 214: Train mae: 0.38224\t val mae: 0.33187\t\n",
      "trigger times: 5\n",
      "Epoch 215: Train mae: 0.38559\t val mae: 0.35621\t\n",
      "trigger times: 6\n",
      "Epoch 216: Train mae: 0.39380\t val mae: 0.33442\t\n",
      "trigger times: 7\n",
      "Epoch 217: Train mae: 0.38701\t val mae: 0.32828\t\n",
      "trigger times: 8\n",
      "Epoch 218: Train mae: 0.38975\t val mae: 0.33122\t\n",
      "trigger times: 9\n",
      "Epoch 219: Train mae: 0.38868\t val mae: 0.34381\t\n",
      "trigger times: 10\n",
      "Epoch 220: Train mae: 0.38435\t val mae: 0.35158\t\n",
      "trigger times: 11\n",
      "Epoch 221: Train mae: 0.38293\t val mae: 0.33689\t\n",
      "trigger times: 12\n",
      "Epoch 222: Train mae: 0.39034\t val mae: 0.33612\t\n",
      "trigger times: 13\n",
      "Epoch 223: Train mae: 0.38341\t val mae: 0.32996\t\n",
      "trigger times: 14\n",
      "Epoch 224: Train mae: 0.38482\t val mae: 0.33754\t\n",
      "trigger times: 15\n",
      "Epoch 225: Train mae: 0.38910\t val mae: 0.34616\t\n",
      "trigger times: 16\n",
      "Epoch 226: Train mae: 0.38461\t val mae: 0.32637\t\n",
      "trigger times: 17\n",
      "Epoch 227: Train mae: 0.38173\t val mae: 0.32897\t\n",
      "trigger times: 18\n",
      "Epoch 228: Train mae: 0.38528\t val mae: 0.33042\t\n",
      "trigger times: 19\n",
      "Epoch 229: Train mae: 0.38930\t val mae: 0.33637\t\n",
      "trigger times: 20\n",
      "Epoch 230: Train mae: 0.38210\t val mae: 0.34005\t\n",
      "trigger times: 21\n",
      "Epoch 231: Train mae: 0.38461\t val mae: 0.33650\t\n",
      "trigger times: 22\n",
      "Epoch 232: Train mae: 0.38047\t val mae: 0.32243\t\n",
      "Epoch 233: Train mae: 0.38282\t val mae: 0.33114\t\n",
      "trigger times: 1\n",
      "Epoch 234: Train mae: 0.38378\t val mae: 0.32882\t\n",
      "trigger times: 2\n",
      "Epoch 235: Train mae: 0.38314\t val mae: 0.32981\t\n",
      "trigger times: 3\n",
      "Epoch 236: Train mae: 0.37952\t val mae: 0.32799\t\n",
      "trigger times: 4\n",
      "Epoch 237: Train mae: 0.37563\t val mae: 0.32758\t\n",
      "trigger times: 5\n",
      "Epoch 238: Train mae: 0.38135\t val mae: 0.32495\t\n",
      "trigger times: 6\n",
      "Epoch 239: Train mae: 0.38497\t val mae: 0.33630\t\n",
      "trigger times: 7\n",
      "Epoch 240: Train mae: 0.38212\t val mae: 0.32321\t\n",
      "trigger times: 8\n",
      "Epoch 241: Train mae: 0.37635\t val mae: 0.32959\t\n",
      "trigger times: 9\n",
      "Epoch 242: Train mae: 0.37618\t val mae: 0.34118\t\n",
      "trigger times: 10\n",
      "Epoch 243: Train mae: 0.37500\t val mae: 0.34443\t\n",
      "trigger times: 11\n",
      "Epoch 244: Train mae: 0.37914\t val mae: 0.31854\t\n",
      "Epoch 245: Train mae: 0.37882\t val mae: 0.33958\t\n",
      "trigger times: 1\n",
      "Epoch 246: Train mae: 0.37556\t val mae: 0.32197\t\n",
      "trigger times: 2\n",
      "Epoch 247: Train mae: 0.37941\t val mae: 0.32904\t\n",
      "trigger times: 3\n",
      "Epoch 248: Train mae: 0.37897\t val mae: 0.33194\t\n",
      "trigger times: 4\n",
      "Epoch 249: Train mae: 0.36931\t val mae: 0.33362\t\n",
      "trigger times: 5\n",
      "Epoch 250: Train mae: 0.37106\t val mae: 0.32472\t\n",
      "trigger times: 6\n",
      "Epoch 251: Train mae: 0.37431\t val mae: 0.32648\t\n",
      "trigger times: 7\n",
      "Epoch 252: Train mae: 0.37375\t val mae: 0.32109\t\n",
      "trigger times: 8\n",
      "Epoch 253: Train mae: 0.37628\t val mae: 0.33289\t\n",
      "trigger times: 9\n",
      "Epoch 254: Train mae: 0.38101\t val mae: 0.32662\t\n",
      "trigger times: 10\n",
      "Epoch 255: Train mae: 0.37249\t val mae: 0.31385\t\n",
      "Epoch 256: Train mae: 0.37256\t val mae: 0.33327\t\n",
      "trigger times: 1\n",
      "Epoch 257: Train mae: 0.37333\t val mae: 0.33529\t\n",
      "trigger times: 2\n",
      "Epoch 258: Train mae: 0.37280\t val mae: 0.32234\t\n",
      "trigger times: 3\n",
      "Epoch 259: Train mae: 0.37330\t val mae: 0.32151\t\n",
      "trigger times: 4\n",
      "Epoch 260: Train mae: 0.37270\t val mae: 0.31622\t\n",
      "trigger times: 5\n",
      "Epoch 261: Train mae: 0.37409\t val mae: 0.32883\t\n",
      "trigger times: 6\n",
      "Epoch 262: Train mae: 0.37274\t val mae: 0.33134\t\n",
      "trigger times: 7\n",
      "Epoch 263: Train mae: 0.37083\t val mae: 0.33301\t\n",
      "trigger times: 8\n",
      "Epoch 264: Train mae: 0.36995\t val mae: 0.31462\t\n",
      "trigger times: 9\n",
      "Epoch 265: Train mae: 0.37124\t val mae: 0.31874\t\n",
      "trigger times: 10\n",
      "Epoch 266: Train mae: 0.37041\t val mae: 0.31905\t\n",
      "trigger times: 11\n",
      "Epoch 267: Train mae: 0.36478\t val mae: 0.31486\t\n",
      "trigger times: 12\n",
      "Epoch 268: Train mae: 0.37307\t val mae: 0.32274\t\n",
      "trigger times: 13\n"
     ]
    },
    {
     "name": "stdout",
     "output_type": "stream",
     "text": [
      "Epoch 269: Train mae: 0.37624\t val mae: 0.33723\t\n",
      "trigger times: 14\n",
      "Epoch 270: Train mae: 0.36854\t val mae: 0.32313\t\n",
      "trigger times: 15\n",
      "Epoch 271: Train mae: 0.37268\t val mae: 0.32727\t\n",
      "trigger times: 16\n",
      "Epoch 272: Train mae: 0.37041\t val mae: 0.32810\t\n",
      "trigger times: 17\n",
      "Epoch 273: Train mae: 0.36128\t val mae: 0.33262\t\n",
      "trigger times: 18\n",
      "Epoch 274: Train mae: 0.36637\t val mae: 0.33039\t\n",
      "trigger times: 19\n",
      "Epoch 275: Train mae: 0.37169\t val mae: 0.33088\t\n",
      "trigger times: 20\n",
      "Epoch 276: Train mae: 0.36892\t val mae: 0.31494\t\n",
      "trigger times: 21\n",
      "Epoch 277: Train mae: 0.36711\t val mae: 0.32277\t\n",
      "trigger times: 22\n",
      "Epoch 278: Train mae: 0.36924\t val mae: 0.32101\t\n",
      "trigger times: 23\n",
      "Epoch 279: Train mae: 0.36610\t val mae: 0.33646\t\n",
      "trigger times: 24\n",
      "Epoch 280: Train mae: 0.36817\t val mae: 0.31798\t\n",
      "trigger times: 25\n",
      "Epoch 281: Train mae: 0.36836\t val mae: 0.32063\t\n",
      "trigger times: 26\n",
      "Early stopping!\n",
      "Start to test process.\n"
     ]
    }
   ],
   "source": [
    "best_ret = []\n",
    "best_mse = 0.80\n",
    "best_ci = 0\n",
    "patience=0\n",
    "best_epoch = -1\n",
    "model_st = \"GINConvNet\"\n",
    "model_file_name = 'GINConvNet' + model_st  +  '.model'\n",
    "result_file_name = 'result_' + model_st +  '.csv'\n",
    "\n",
    "val_losses = []\n",
    "train_losses = []\n",
    "\n",
    "the_last_loss = 100\n",
    "patience = 26\n",
    "trigger_times = 0\n",
    "count_loss_difference = 0\n",
    "\n",
    "for epoch in range(NUM_EPOCHS):\n",
    "    train_loss=train(model, device, train_loder, optimizer, epoch+1,loss_fn)\n",
    "    test_loss = predicting(model, device, val_loder,loss_fn)\n",
    "#     test_loss = predicting(model, device, test_loder,loss_fn)\n",
    "#     print('Epoch% d: Train mae: %2.5f\\t val mae: %2.5f\\t test mae: %2.5f\\t'\n",
    "#           %(epoch, train_loss, val_loss.item(),test_loss.item()))\n",
    "\n",
    "    print('Epoch% d: Train mae: %2.5f\\t val mae: %2.5f\\t'\n",
    "          %(epoch, train_loss,test_loss.item()))\n",
    "    ret = [epoch,train_loss,test_loss.item()]\n",
    "    \n",
    "    train_losses.append(train_loss)\n",
    "    val_losses.append(test_loss.item())\n",
    "    # Early stopping\n",
    "    the_current_loss = test_loss.item()\n",
    "    \n",
    "    if the_current_loss > the_last_loss:\n",
    "        trigger_times += 1\n",
    "        print('trigger times:', trigger_times)\n",
    "\n",
    "        if trigger_times >= patience:\n",
    "            print('Early stopping!\\nStart to test process.')\n",
    "            break\n",
    "    else:\n",
    "        \n",
    "        trigger_times = 0\n",
    "        the_last_loss = the_current_loss\n",
    "        torch.save(model.state_dict(), 'GINConvNet.model')\n",
    "\n",
    "\n",
    "    with open(result_file_name,'w') as f:\n",
    "        f.write(','.join(map(str,ret)))\n"
   ]
  },
  {
   "cell_type": "markdown",
   "metadata": {},
   "source": [
    "# visualization"
   ]
  },
  {
   "cell_type": "code",
   "execution_count": 31,
   "metadata": {},
   "outputs": [
    {
     "data": {
      "text/plain": [
       "282"
      ]
     },
     "execution_count": 31,
     "metadata": {},
     "output_type": "execute_result"
    }
   ],
   "source": [
    "len(train_losses)"
   ]
  },
  {
   "cell_type": "code",
   "execution_count": 32,
   "metadata": {},
   "outputs": [
    {
     "data": {
      "image/png": "[encoded data removed]",
      "text/plain": [
       "<Figure size 720x360 with 1 Axes>"
      ]
     },
     "metadata": {},
     "output_type": "display_data"
    }
   ],
   "source": [
    "plt.figure(figsize=(10,5))\n",
    "plt.title(\"GINConvNet Training and Validation Loss\")\n",
    "plt.plot(val_losses,label=\"val\")\n",
    "plt.plot(train_losses,label=\"train\")\n",
    "plt.xlabel(\"iterations\")\n",
    "plt.ylabel(\"Loss\")\n",
    "plt.legend()\n",
    "plt.ylim(0, 4)\n",
    "plt.grid(True)\n",
    "plt.savefig('GINConvNetTrainAndValidation.png', dpi=400,transparent=True)\n",
    "plt.show()"
   ]
  },
  {
   "cell_type": "code",
   "execution_count": 33,
   "metadata": {},
   "outputs": [
    {
     "data": {
      "text/plain": [
       "<matplotlib.legend.Legend at 0x7f2bbc115748>"
      ]
     },
     "execution_count": 33,
     "metadata": {},
     "output_type": "execute_result"
    },
    {
     "data": {
      "image/png": "[encoded data removed]",
      "text/plain": [
       "<Figure size 432x288 with 1 Axes>"
      ]
     },
     "metadata": {},
     "output_type": "display_data"
    }
   ],
   "source": [
    "ax = plt.subplot(1,1,1)\n",
    "ax.plot([e for e in range(1,len(train_losses) + 1)], train_losses, label=\"train_loss\")\n",
    "ax.plot([e for e in range(1,len(val_losses) + 1)], val_losses, label=\"val_loss\")\n",
    "plt.xlabel(\"epoch\")\n",
    "plt.title('GINConvNet')\n",
    "plt.grid(True)\n",
    "plt.savefig('GINConvNetTrain.png', dpi=400,transparent=True)\n",
    "ax.legend()"
   ]
  },
  {
   "cell_type": "code",
   "execution_count": 34,
   "metadata": {},
   "outputs": [],
   "source": [
    "y_pred_arr = []\n",
    "target_array = []\n",
    "for data in test_loder:\n",
    "    data = data.to(device)\n",
    "    y_pred = model(data)\n",
    "    #y_pred = model(data.x.float(), data.edge_index,data.batch)\n",
    "    y_pred_arr.append(y_pred)\n",
    "    target_array.append(data.y.float())"
   ]
  },
  {
   "cell_type": "code",
   "execution_count": 35,
   "metadata": {},
   "outputs": [
    {
     "data": {
      "text/plain": [
       "124"
      ]
     },
     "execution_count": 35,
     "metadata": {},
     "output_type": "execute_result"
    }
   ],
   "source": [
    "len(test_loder)"
   ]
  },
  {
   "cell_type": "code",
   "execution_count": 36,
   "metadata": {},
   "outputs": [],
   "source": [
    "y_ped=torch.cat(y_pred_arr).view(-1).cpu().detach().numpy()\n",
    "y_true=torch.cat(target_array).cpu().detach().numpy()"
   ]
  },
  {
   "cell_type": "code",
   "execution_count": 37,
   "metadata": {},
   "outputs": [
    {
     "data": {
      "image/png": "[encoded data removed]",
      "text/plain": [
       "<Figure size 432x288 with 1 Axes>"
      ]
     },
     "metadata": {},
     "output_type": "display_data"
    }
   ],
   "source": [
    "# plt.scatter(y_ped,y_true,s=10,marker =\"s\",c=y_true,cmap=plt.get_cmap('plasma'))\n",
    "plt.scatter(y_ped,y_true,s=10,marker =\"s\",c=y_true,cmap=plt.get_cmap('plasma'))\n",
    "plt.plot(y_true,y_true)\n",
    "plt.xlabel('Ground truth \\nc')\n",
    "plt.ylabel('Prediction')\n",
    "plt.title('GINConv')\n",
    "plt.grid(False)\n",
    "plt.savefig('GINConvNet.png', dpi=400,transparent=True,bbox_inches = \"tight\")\n",
    "plt.show()"
   ]
  },
  {
   "cell_type": "code",
   "execution_count": 38,
   "metadata": {},
   "outputs": [
    {
     "data": {
      "text/plain": [
       "<Figure size 432x288 with 0 Axes>"
      ]
     },
     "metadata": {},
     "output_type": "display_data"
    }
   ],
   "source": [
    "plt.draw()\n"
   ]
  },
  {
   "cell_type": "code",
   "execution_count": 39,
   "metadata": {},
   "outputs": [
    {
     "data": {
      "text/plain": [
       "<Figure size 432x288 with 0 Axes>"
      ]
     },
     "metadata": {},
     "output_type": "display_data"
    }
   ],
   "source": [
    "plt.savefig(\"Save Plot as PDF file using savefig.pdf\")"
   ]
  },
  {
   "cell_type": "code",
   "execution_count": 40,
   "metadata": {},
   "outputs": [],
   "source": [
    "from sklearn.metrics import r2_score,mean_absolute_error,mean_squared_error\n",
    "import math"
   ]
  },
  {
   "cell_type": "code",
   "execution_count": 41,
   "metadata": {},
   "outputs": [
    {
     "name": "stdout",
     "output_type": "stream",
     "text": [
      "0.2016694\n"
     ]
    }
   ],
   "source": [
    "MSE = mean_squared_error(y_true, y_ped)\n",
    "print(MSE)"
   ]
  },
  {
   "cell_type": "code",
   "execution_count": 42,
   "metadata": {},
   "outputs": [],
   "source": [
    "#r2_score(y_true, y_pred)"
   ]
  },
  {
   "cell_type": "code",
   "execution_count": 43,
   "metadata": {},
   "outputs": [
    {
     "name": "stdout",
     "output_type": "stream",
     "text": [
      "0.32531825\n"
     ]
    }
   ],
   "source": [
    "print(mean_absolute_error(y_true,y_ped))"
   ]
  },
  {
   "cell_type": "code",
   "execution_count": 44,
   "metadata": {},
   "outputs": [
    {
     "name": "stdout",
     "output_type": "stream",
     "text": [
      "Root Mean Square Error:\n",
      "\n",
      "0.4490761572049224\n"
     ]
    }
   ],
   "source": [
    "RMSE = math.sqrt(MSE)\n",
    "print(\"Root Mean Square Error:\\n\")\n",
    "print(RMSE)"
   ]
  },
  {
   "cell_type": "markdown",
   "metadata": {},
   "source": [
    "# Train"
   ]
  },
  {
   "cell_type": "code",
   "execution_count": null,
   "metadata": {},
   "outputs": [],
   "source": []
  },
  {
   "cell_type": "code",
   "execution_count": null,
   "metadata": {},
   "outputs": [],
   "source": []
  },
  {
   "cell_type": "code",
   "execution_count": null,
   "metadata": {},
   "outputs": [],
   "source": []
  },
  {
   "cell_type": "code",
   "execution_count": null,
   "metadata": {},
   "outputs": [],
   "source": []
  },
  {
   "cell_type": "code",
   "execution_count": 45,
   "metadata": {},
   "outputs": [],
   "source": [
    "from rdkit.Chem import Draw\n",
    "from rdkit.Chem.Draw import IPythonConsole"
   ]
  },
  {
   "cell_type": "code",
   "execution_count": 46,
   "metadata": {},
   "outputs": [],
   "source": [
    "smile = \"OC(=O)Cc1c[nH]c2cc(ccc12)CC\""
   ]
  },
  {
   "cell_type": "code",
   "execution_count": 47,
   "metadata": {},
   "outputs": [],
   "source": [
    "smile_graph = {}\n",
    "band_gap_arr = []\n",
    "smiles_array = []\n",
    "\n",
    "g = gd.smile_to_graph(smile)\n",
    "if g != None:\n",
    "    smile_graph[smile] = g\n",
    "    band_gap_arr.append(0.00)\n",
    "    smiles_array.append(smile)"
   ]
  },
  {
   "cell_type": "code",
   "execution_count": 48,
   "metadata": {},
   "outputs": [],
   "source": [
    "one_data = Molecule_data(root='data', dataset='one_data_set',y=band_gap_arr,smile_graph=smile_graph,smiles=smiles_array)"
   ]
  },
  {
   "cell_type": "code",
   "execution_count": 49,
   "metadata": {},
   "outputs": [],
   "source": [
    "one_loder   = DataLoader(one_data,batch_size=TRAIN_BATCH_SIZE,shuffle=True)"
   ]
  },
  {
   "cell_type": "code",
   "execution_count": 50,
   "metadata": {},
   "outputs": [
    {
     "data": {
      "text/plain": [
       "Batch(x=[15, 114], edge_index=[2, 32], y=[1], c_size=[1], batch=[15], ptr=[2])"
      ]
     },
     "execution_count": 50,
     "metadata": {},
     "output_type": "execute_result"
    }
   ],
   "source": [
    "next(iter(one_loder))"
   ]
  },
  {
   "cell_type": "code",
   "execution_count": 51,
   "metadata": {},
   "outputs": [
    {
     "name": "stdout",
     "output_type": "stream",
     "text": [
      "tensor([[3.2432]], device='cuda:5', grad_fn=<AddmmBackward>)\n"
     ]
    }
   ],
   "source": [
    "for data in one_loder:\n",
    "    data = data.to(device)\n",
    "    y_pred = model(data)\n",
    "    print(y_pred)"
   ]
  },
  {
   "cell_type": "code",
   "execution_count": 52,
   "metadata": {},
   "outputs": [
    {
     "data": {
      "image/png": "[encoded data removed]",
      "text/plain": [
       "<Figure size 360x288 with 1 Axes>"
      ]
     },
     "metadata": {},
     "output_type": "display_data"
    }
   ],
   "source": [
    "import networkx as nx\n",
    "from torch_geometric import torch_geometric\n",
    "for data in one_loder:\n",
    "    data = data.to(device)\n",
    "    gdata = torch_geometric.data.Data(x=data.x.float(), edge_index=data.edge_index)\n",
    "    g = torch_geometric.utils.to_networkx(gdata, to_undirected=True)\n",
    "    plt.figure(1,figsize=(5,4)) \n",
    "    nx.draw(g, cmap=plt.get_cmap('Set1'),node_size=50,linewidths=6)\n",
    "#     plt.show()\n",
    "#     nx.draw(g)\n",
    "    break"
   ]
  },
  {
   "cell_type": "markdown",
   "metadata": {},
   "source": [
    "#### "
   ]
  },
  {
   "cell_type": "code",
   "execution_count": null,
   "metadata": {},
   "outputs": [],
   "source": []
  }
 ],
 "metadata": {
  "kernelspec": {
   "display_name": "Python 3",
   "language": "python",
   "name": "python3"
  },
  "language_info": {
   "codemirror_mode": {
    "name": "ipython",
    "version": 3
   },
   "file_extension": ".py",
   "mimetype": "text/x-python",
   "name": "python",
   "nbconvert_exporter": "python",
   "pygments_lexer": "ipython3",
   "version": "3.6.13"
  }
 },
 "nbformat": 4,
 "nbformat_minor": 4
}
