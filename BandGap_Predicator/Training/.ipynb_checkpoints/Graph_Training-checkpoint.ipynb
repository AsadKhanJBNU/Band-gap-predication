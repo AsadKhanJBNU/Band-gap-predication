{
 "cells": [
  {
   "cell_type": "code",
   "execution_count": 1,
   "metadata": {},
   "outputs": [],
   "source": [
    "import pandas as pd\n",
    "import numpy as np\n",
    "\n",
    "from rdkit import Chem\n",
    "from rdkit.Chem import Draw\n",
    "import networkx as nx\n",
    "from torch_geometric.datasets import MoleculeNet\n",
    "import matplotlib.pyplot as plt\n",
    "\n",
    "import torch\n",
    "import os\n",
    "import pandas as pd\n",
    "import numpy as np\n",
    "import json,pickle\n",
    "from collections import OrderedDict\n",
    "from rdkit import Chem\n",
    "from rdkit.Chem import MolFromSmiles\n",
    "import networkx as nx\n",
    "\n",
    "from torch_geometric.data import InMemoryDataset, Data\n",
    "from torch_geometric.loader import DataLoader\n",
    "\n",
    "from sklearn.model_selection import train_test_split\n",
    "from tqdm.notebook import tqdm\n",
    "import torch\n",
    "import torch.nn as nn\n",
    "\n",
    "import Data_Preprocessing.Graph_Data as gd\n",
    "from Data_Preprocessing.Graph_Data import Molecule_data\n",
    "from models.AttentiveFPModel import AttentiveFP\n",
    "import seaborn as sns\n",
    "\n",
    "from models.gat import GATNet\n",
    "import torch.nn as nn\n",
    "from models.gcn import GCNNet\n",
    "from models.gat_gcn import GAT_GCN\n",
    "from models.ginconv import GINConvNet"
   ]
  },
  {
   "cell_type": "code",
   "execution_count": 2,
   "metadata": {},
   "outputs": [],
   "source": [
    "df = pd.read_csv('Data_Preprocessing/omdb_smile_data_set.csv')"
   ]
  },
  {
   "cell_type": "code",
   "execution_count": 3,
   "metadata": {},
   "outputs": [],
   "source": [
    "smiles = df['SMILE']\n",
    "codIds = df['CODID']\n",
    "band_gap = df['bgs']"
   ]
  },
  {
   "cell_type": "code",
   "execution_count": 4,
   "metadata": {},
   "outputs": [
    {
     "name": "stdout",
     "output_type": "stream",
     "text": [
      "3.0630082776213756\n",
      "0.0\n",
      "8.54\n"
     ]
    }
   ],
   "source": [
    "print(band_gap.mean())\n",
    "print(band_gap.min())\n",
    "print(band_gap.max())"
   ]
  },
  {
   "cell_type": "code",
   "execution_count": 5,
   "metadata": {},
   "outputs": [
    {
     "data": {
      "image/png": "[encoded data removed]",
      "text/plain": [
       "<Figure size 432x288 with 1 Axes>"
      ]
     },
     "metadata": {},
     "output_type": "display_data"
    }
   ],
   "source": [
    "sns.set_theme(style=\"whitegrid\")\n",
    "tips = sns.load_dataset(\"tips\")\n",
    "\n",
    "ax = sns.violinplot(x=band_gap)\n",
    "ax.grid(False)"
   ]
  },
  {
   "cell_type": "code",
   "execution_count": null,
   "metadata": {},
   "outputs": [],
   "source": []
  },
  {
   "cell_type": "code",
   "execution_count": 6,
   "metadata": {},
   "outputs": [],
   "source": [
    "train_ratio = 0.70\n",
    "validation_ratio = 0.10\n",
    "test_ratio = 0.20\n",
    "\n",
    "# train is now 75% of the entire data set\n",
    "# the _junk suffix means that we drop that variable completely\n",
    "x_train, x_test, y_train, y_test = train_test_split(smiles, band_gap, test_size=1 - train_ratio)\n",
    "\n",
    "# test is now 10% of the initial data set\n",
    "# validation is now 15% of the initial data set\n",
    "x_val, x_test, y_val, y_test = train_test_split(x_test, y_test, test_size=test_ratio/(test_ratio + validation_ratio)) \n"
   ]
  },
  {
   "cell_type": "code",
   "execution_count": 7,
   "metadata": {},
   "outputs": [],
   "source": [
    "# X_train, X_val, y_train, y_val = train_test_split(smiles, band_gap, test_size=0.2)"
   ]
  },
  {
   "cell_type": "code",
   "execution_count": 8,
   "metadata": {},
   "outputs": [],
   "source": [
    "# X_train, X_test, y_train, y_test = train_test_split(X_train, y_train, test_size=0.2)"
   ]
  },
  {
   "cell_type": "code",
   "execution_count": null,
   "metadata": {},
   "outputs": [],
   "source": []
  },
  {
   "cell_type": "code",
   "execution_count": 9,
   "metadata": {},
   "outputs": [],
   "source": [
    "y_train = y_train.to_numpy()\n",
    "y_val = y_val.to_numpy()\n",
    "y_test = y_test.to_numpy()"
   ]
  },
  {
   "cell_type": "code",
   "execution_count": 10,
   "metadata": {},
   "outputs": [
    {
     "name": "stdout",
     "output_type": "stream",
     "text": [
      "11368\n"
     ]
    }
   ],
   "source": [
    "print(len(band_gap))"
   ]
  },
  {
   "cell_type": "markdown",
   "metadata": {},
   "source": [
    "# Train"
   ]
  },
  {
   "cell_type": "code",
   "execution_count": 11,
   "metadata": {},
   "outputs": [],
   "source": [
    "smile_graph = {}\n",
    "band_gap_arr = []\n",
    "smiles_array = []\n",
    "\n",
    "# for i,smile in tqdm(enumerate(x_train)):\n",
    "#     g = gd.smile_to_graph(smile)\n",
    "#     if g != None:\n",
    "#         smile_graph[smile] = g\n",
    "#         band_gap_arr.append(y_train[i])\n",
    "#         smiles_array.append(smile)"
   ]
  },
  {
   "cell_type": "code",
   "execution_count": 12,
   "metadata": {},
   "outputs": [
    {
     "name": "stdout",
     "output_type": "stream",
     "text": [
      "0\n"
     ]
    }
   ],
   "source": [
    "print(len(band_gap_arr))"
   ]
  },
  {
   "cell_type": "markdown",
   "metadata": {},
   "source": [
    "# Validation"
   ]
  },
  {
   "cell_type": "code",
   "execution_count": 13,
   "metadata": {},
   "outputs": [],
   "source": [
    "smile_graph_val = {}\n",
    "band_gap_arr_val = []\n",
    "smiles_array_val = []\n",
    "for i,smile in enumerate(x_val):\n",
    "    g = gd.smile_to_graph(smile)\n",
    "    if g != None:\n",
    "        smile_graph_val[smile] = g\n",
    "        band_gap_arr_val.append(y_val[i])\n",
    "        smiles_array_val.append(smile)"
   ]
  },
  {
   "cell_type": "markdown",
   "metadata": {},
   "source": [
    "# Test"
   ]
  },
  {
   "cell_type": "code",
   "execution_count": 14,
   "metadata": {},
   "outputs": [],
   "source": [
    "smile_graph_test = {}\n",
    "band_gap_arr_test = []\n",
    "smiles_array_test = []\n",
    "for i,smile in enumerate(x_test):\n",
    "    g = gd.smile_to_graph(smile)\n",
    "    if g != None:\n",
    "        smile_graph_test[smile] = g\n",
    "        band_gap_arr_test.append(y_test[i])\n",
    "        smiles_array_test.append(smile)"
   ]
  },
  {
   "cell_type": "code",
   "execution_count": null,
   "metadata": {},
   "outputs": [],
   "source": []
  },
  {
   "cell_type": "markdown",
   "metadata": {},
   "source": [
    "# Train Graph"
   ]
  },
  {
   "cell_type": "code",
   "execution_count": 15,
   "metadata": {},
   "outputs": [],
   "source": [
    "train_data = Molecule_data(root='data', dataset='train_data_set',y=band_gap_arr,smile_graph=smile_graph,smiles=smiles_array)"
   ]
  },
  {
   "cell_type": "markdown",
   "metadata": {},
   "source": [
    "# Validation Graph"
   ]
  },
  {
   "cell_type": "code",
   "execution_count": 16,
   "metadata": {},
   "outputs": [],
   "source": [
    "val_data = Molecule_data(root='data', dataset='val_data_set',y=band_gap_arr_val,smile_graph=smile_graph_val,smiles=smiles_array_val)"
   ]
  },
  {
   "cell_type": "markdown",
   "metadata": {},
   "source": [
    "# Test Graph"
   ]
  },
  {
   "cell_type": "code",
   "execution_count": 17,
   "metadata": {},
   "outputs": [],
   "source": [
    "test_data = Molecule_data(root='data', dataset='test_data_set',y=band_gap_arr_test,smile_graph=smile_graph_test,smiles=smiles_array_test)"
   ]
  },
  {
   "cell_type": "code",
   "execution_count": 18,
   "metadata": {},
   "outputs": [],
   "source": [
    "TRAIN_BATCH_SIZE = 17"
   ]
  },
  {
   "cell_type": "code",
   "execution_count": 19,
   "metadata": {},
   "outputs": [
    {
     "data": {
      "text/plain": [
       "2101"
      ]
     },
     "execution_count": 19,
     "metadata": {},
     "output_type": "execute_result"
    }
   ],
   "source": [
    "len(test_data)"
   ]
  },
  {
   "cell_type": "code",
   "execution_count": 20,
   "metadata": {},
   "outputs": [],
   "source": [
    "train_loder   = DataLoader(train_data,batch_size=TRAIN_BATCH_SIZE,shuffle=True)\n",
    "test_loder  = DataLoader(test_data,batch_size=TRAIN_BATCH_SIZE,shuffle=True)\n",
    "val_loder  = DataLoader(val_data,batch_size=TRAIN_BATCH_SIZE,shuffle=True)"
   ]
  },
  {
   "cell_type": "code",
   "execution_count": 21,
   "metadata": {},
   "outputs": [
    {
     "data": {
      "text/plain": [
       "Batch(x=[361, 114], edge_index=[2, 760], y=[17], c_size=[17], batch=[361], ptr=[18])"
      ]
     },
     "execution_count": 21,
     "metadata": {},
     "output_type": "execute_result"
    }
   ],
   "source": [
    "next(iter(train_loder))"
   ]
  },
  {
   "cell_type": "code",
   "execution_count": 22,
   "metadata": {},
   "outputs": [
    {
     "name": "stdout",
     "output_type": "stream",
     "text": [
      "cuda:5\n"
     ]
    }
   ],
   "source": [
    "if torch.cuda.is_available():  \n",
    "    device = \"cuda:5\"\n",
    "    print(\"cuda:5\")\n",
    "else:  \n",
    "    device = \"cpu\" \n",
    "    print(torch.cuda.is_available())"
   ]
  },
  {
   "cell_type": "code",
   "execution_count": 23,
   "metadata": {},
   "outputs": [],
   "source": [
    "# training function at each epoch\n",
    "def train(model, device, train_loader, optimizer, epoch,loss_fn):\n",
    "    #print('Training on {} samples...'.format(len(train_loader1.dataset)))\n",
    "    model.train()\n",
    "    Loss = []\n",
    "    for data in train_loader:\n",
    "        data = data.to(device)\n",
    "        optimizer.zero_grad()\n",
    "        output = model(data)\n",
    "        loss = loss_fn(output, data.y.view(-1, 1).float().to(device))\n",
    "        loss.backward()\n",
    "        optimizer.step()\n",
    "        Loss.append(loss.item())\n",
    "    nploss = np.asarray(Loss)\n",
    "    avg_loss = np.average(nploss)\n",
    "    return avg_loss"
   ]
  },
  {
   "cell_type": "code",
   "execution_count": 24,
   "metadata": {},
   "outputs": [],
   "source": [
    "def predicting(model, device, loader,loss_fn):\n",
    "    model.eval()\n",
    "    total_loss=total_example=0\n",
    "    with torch.no_grad():\n",
    "        for data in loader:\n",
    "            data = data.to(device)\n",
    "            output = model(data)\n",
    "            loss = loss_fn(output, data.y.view(-1, 1).float().to(device))\n",
    "            total_loss+=loss\n",
    "            total_example+=1\n",
    "    return total_loss/total_example"
   ]
  },
  {
   "cell_type": "code",
   "execution_count": 25,
   "metadata": {},
   "outputs": [
    {
     "name": "stdout",
     "output_type": "stream",
     "text": [
      "GINConvNet(\n",
      "  (dropout): Dropout(p=0.2, inplace=False)\n",
      "  (relu): ReLU()\n",
      "  (D1_conv1): GINConv(nn=Sequential(\n",
      "    (0): Linear(in_features=114, out_features=198, bias=True)\n",
      "    (1): ReLU()\n",
      "    (2): Linear(in_features=198, out_features=198, bias=True)\n",
      "  ))\n",
      "  (D1_bn1): BatchNorm1d(198, eps=1e-05, momentum=0.1, affine=True, track_running_stats=True)\n",
      "  (D1_conv2): GINConv(nn=Sequential(\n",
      "    (0): Linear(in_features=198, out_features=64, bias=True)\n",
      "    (1): ReLU()\n",
      "    (2): Linear(in_features=64, out_features=64, bias=True)\n",
      "  ))\n",
      "  (D1_bn2): BatchNorm1d(64, eps=1e-05, momentum=0.1, affine=True, track_running_stats=True)\n",
      "  (D1_conv3): GINConv(nn=Sequential(\n",
      "    (0): Linear(in_features=64, out_features=32, bias=True)\n",
      "    (1): ReLU()\n",
      "    (2): Linear(in_features=32, out_features=32, bias=True)\n",
      "  ))\n",
      "  (D1_bn3): BatchNorm1d(32, eps=1e-05, momentum=0.1, affine=True, track_running_stats=True)\n",
      "  (fc1): Linear(in_features=32, out_features=16, bias=True)\n",
      "  (fc2): Linear(in_features=16, out_features=8, bias=True)\n",
      "  (out): Linear(in_features=8, out_features=1, bias=True)\n",
      ")\n"
     ]
    }
   ],
   "source": [
    "model = GINConvNet().to(device)\n",
    "print(model)"
   ]
  },
  {
   "cell_type": "code",
   "execution_count": 26,
   "metadata": {},
   "outputs": [],
   "source": [
    "#LR = 0.005\n",
    "LR = 8.28967316828403e-05\n",
    "eps_rate = 1.7687722582665366e-05\n",
    "weight_decay = 1.3459636454913954e-06\n",
    "LOG_INTERVAL = 20\n",
    "NUM_EPOCHS = 3000\n",
    "results = []"
   ]
  },
  {
   "cell_type": "code",
   "execution_count": 27,
   "metadata": {},
   "outputs": [],
   "source": [
    "class RMSELoss(nn.Module):\n",
    "    def __init__(self):\n",
    "        super().__init__()\n",
    "        self.mse = nn.MSELoss()\n",
    "        \n",
    "    def forward(self,yhat,y):\n",
    "        return torch.sqrt(self.mse(yhat,y))"
   ]
  },
  {
   "cell_type": "code",
   "execution_count": 28,
   "metadata": {},
   "outputs": [],
   "source": [
    "#loss_fn = nn.MSELoss()\n",
    "#loss_fn = RMSELoss()\n",
    "loss_fn = nn.L1Loss()\n",
    "model = model.cuda(device)\n",
    "#optimizer = torch.optim.Adam(model.parameters(), lr=LR)\n",
    "optimizer = torch.optim.Adam(model.parameters(),lr=LR,betas=(0.9,0.999),\n",
    "                                 eps=eps_rate,weight_decay=weight_decay,amsgrad=False)"
   ]
  },
  {
   "cell_type": "code",
   "execution_count": 29,
   "metadata": {
    "scrolled": true
   },
   "outputs": [
    {
     "name": "stdout",
     "output_type": "stream",
     "text": [
      "Epoch 0: Train mae: 3.85772\t val mae: 3.00991\t\n",
      "Epoch 1: Train mae: 2.87314\t val mae: 2.26493\t\n",
      "Epoch 2: Train mae: 2.34321\t val mae: 1.79340\t\n",
      "Epoch 3: Train mae: 1.98281\t val mae: 1.33036\t\n",
      "Epoch 4: Train mae: 1.84774\t val mae: 1.44313\t\n",
      "trigger times: 1\n",
      "Epoch 5: Train mae: 1.74574\t val mae: 1.46314\t\n",
      "trigger times: 2\n",
      "Epoch 6: Train mae: 1.72542\t val mae: 1.32839\t\n",
      "Epoch 7: Train mae: 1.63635\t val mae: 1.28278\t\n",
      "Epoch 8: Train mae: 1.60101\t val mae: 1.21092\t\n",
      "Epoch 9: Train mae: 1.58090\t val mae: 1.24321\t\n",
      "trigger times: 1\n",
      "Epoch 10: Train mae: 1.56591\t val mae: 1.19757\t\n",
      "Epoch 11: Train mae: 1.53312\t val mae: 1.32370\t\n",
      "trigger times: 1\n",
      "Epoch 12: Train mae: 1.50045\t val mae: 1.17318\t\n",
      "Epoch 13: Train mae: 1.47659\t val mae: 1.17753\t\n",
      "trigger times: 1\n",
      "Epoch 14: Train mae: 1.43512\t val mae: 1.07325\t\n",
      "Epoch 15: Train mae: 1.44324\t val mae: 1.03125\t\n",
      "Epoch 16: Train mae: 1.38854\t val mae: 1.10118\t\n",
      "trigger times: 1\n",
      "Epoch 17: Train mae: 1.35759\t val mae: 1.07903\t\n",
      "trigger times: 2\n",
      "Epoch 18: Train mae: 1.33770\t val mae: 1.12263\t\n",
      "trigger times: 3\n",
      "Epoch 19: Train mae: 1.32626\t val mae: 1.04088\t\n",
      "trigger times: 4\n",
      "Epoch 20: Train mae: 1.31139\t val mae: 1.05274\t\n",
      "trigger times: 5\n",
      "Epoch 21: Train mae: 1.28950\t val mae: 0.97641\t\n",
      "Epoch 22: Train mae: 1.28118\t val mae: 0.93873\t\n",
      "Epoch 23: Train mae: 1.24440\t val mae: 0.93526\t\n",
      "Epoch 24: Train mae: 1.24375\t val mae: 0.94635\t\n",
      "trigger times: 1\n",
      "Epoch 25: Train mae: 1.20151\t val mae: 0.91036\t\n",
      "Epoch 26: Train mae: 1.19487\t val mae: 0.94612\t\n",
      "trigger times: 1\n",
      "Epoch 27: Train mae: 1.18667\t val mae: 0.96497\t\n",
      "trigger times: 2\n",
      "Epoch 28: Train mae: 1.17360\t val mae: 0.89815\t\n",
      "Epoch 29: Train mae: 1.15952\t val mae: 0.89245\t\n",
      "Epoch 30: Train mae: 1.14529\t val mae: 0.89535\t\n",
      "trigger times: 1\n",
      "Epoch 31: Train mae: 1.11290\t val mae: 0.91767\t\n",
      "trigger times: 2\n",
      "Epoch 32: Train mae: 1.09787\t val mae: 0.89419\t\n",
      "trigger times: 3\n",
      "Epoch 33: Train mae: 1.09713\t val mae: 0.88405\t\n",
      "Epoch 34: Train mae: 1.06779\t val mae: 0.83842\t\n",
      "Epoch 35: Train mae: 1.04657\t val mae: 0.84728\t\n",
      "trigger times: 1\n",
      "Epoch 36: Train mae: 1.04016\t val mae: 0.79410\t\n",
      "Epoch 37: Train mae: 1.02307\t val mae: 0.85220\t\n",
      "trigger times: 1\n",
      "Epoch 38: Train mae: 1.01683\t val mae: 0.82119\t\n",
      "trigger times: 2\n",
      "Epoch 39: Train mae: 0.99129\t val mae: 0.79412\t\n",
      "trigger times: 3\n",
      "Epoch 40: Train mae: 0.97646\t val mae: 0.75145\t\n",
      "Epoch 41: Train mae: 0.96423\t val mae: 0.82636\t\n",
      "trigger times: 1\n",
      "Epoch 42: Train mae: 0.94569\t val mae: 0.72217\t\n",
      "Epoch 43: Train mae: 0.94045\t val mae: 0.74486\t\n",
      "trigger times: 1\n",
      "Epoch 44: Train mae: 0.93170\t val mae: 0.73174\t\n",
      "trigger times: 2\n",
      "Epoch 45: Train mae: 0.91021\t val mae: 0.69386\t\n",
      "Epoch 46: Train mae: 0.89313\t val mae: 0.66357\t\n",
      "Epoch 47: Train mae: 0.90388\t val mae: 0.67601\t\n",
      "trigger times: 1\n",
      "Epoch 48: Train mae: 0.86716\t val mae: 0.71470\t\n",
      "trigger times: 2\n",
      "Epoch 49: Train mae: 0.84913\t val mae: 0.76836\t\n",
      "trigger times: 3\n",
      "Epoch 50: Train mae: 0.85838\t val mae: 0.74925\t\n",
      "trigger times: 4\n",
      "Epoch 51: Train mae: 0.83281\t val mae: 0.66519\t\n",
      "trigger times: 5\n",
      "Epoch 52: Train mae: 0.83009\t val mae: 0.69189\t\n",
      "trigger times: 6\n",
      "Epoch 53: Train mae: 0.80722\t val mae: 0.65846\t\n",
      "Epoch 54: Train mae: 0.81188\t val mae: 0.62478\t\n",
      "Epoch 55: Train mae: 0.78715\t val mae: 0.61319\t\n",
      "Epoch 56: Train mae: 0.78850\t val mae: 0.61973\t\n",
      "trigger times: 1\n",
      "Epoch 57: Train mae: 0.77896\t val mae: 0.61669\t\n",
      "trigger times: 2\n",
      "Epoch 58: Train mae: 0.75012\t val mae: 0.62348\t\n",
      "trigger times: 3\n",
      "Epoch 59: Train mae: 0.74769\t val mae: 0.58863\t\n",
      "Epoch 60: Train mae: 0.74805\t val mae: 0.57518\t\n",
      "Epoch 61: Train mae: 0.73268\t val mae: 0.58269\t\n",
      "trigger times: 1\n",
      "Epoch 62: Train mae: 0.71049\t val mae: 0.55951\t\n",
      "Epoch 63: Train mae: 0.71473\t val mae: 0.57462\t\n",
      "trigger times: 1\n",
      "Epoch 64: Train mae: 0.69610\t val mae: 0.54474\t\n",
      "Epoch 65: Train mae: 0.66832\t val mae: 0.53191\t\n",
      "Epoch 66: Train mae: 0.66516\t val mae: 0.52513\t\n",
      "Epoch 67: Train mae: 0.66798\t val mae: 0.53648\t\n",
      "trigger times: 1\n",
      "Epoch 68: Train mae: 0.65297\t val mae: 0.55700\t\n",
      "trigger times: 2\n",
      "Epoch 69: Train mae: 0.65368\t val mae: 0.58337\t\n",
      "trigger times: 3\n",
      "Epoch 70: Train mae: 0.64354\t val mae: 0.52245\t\n",
      "Epoch 71: Train mae: 0.63926\t val mae: 0.66621\t\n",
      "trigger times: 1\n",
      "Epoch 72: Train mae: 0.62913\t val mae: 0.53292\t\n",
      "trigger times: 2\n",
      "Epoch 73: Train mae: 0.63667\t val mae: 0.48074\t\n",
      "Epoch 74: Train mae: 0.61094\t val mae: 0.48813\t\n",
      "trigger times: 1\n",
      "Epoch 75: Train mae: 0.61336\t val mae: 0.47120\t\n",
      "Epoch 76: Train mae: 0.61911\t val mae: 0.49022\t\n",
      "trigger times: 1\n",
      "Epoch 77: Train mae: 0.60462\t val mae: 0.50135\t\n",
      "trigger times: 2\n",
      "Epoch 78: Train mae: 0.60505\t val mae: 0.49717\t\n",
      "trigger times: 3\n",
      "Epoch 79: Train mae: 0.60685\t val mae: 0.46391\t\n",
      "Epoch 80: Train mae: 0.59815\t val mae: 0.44669\t\n",
      "Epoch 81: Train mae: 0.58519\t val mae: 0.45690\t\n",
      "trigger times: 1\n",
      "Epoch 82: Train mae: 0.57304\t val mae: 0.45571\t\n",
      "trigger times: 2\n",
      "Epoch 83: Train mae: 0.57317\t val mae: 0.46437\t\n",
      "trigger times: 3\n",
      "Epoch 84: Train mae: 0.57113\t val mae: 0.44336\t\n",
      "Epoch 85: Train mae: 0.55917\t val mae: 0.44996\t\n",
      "trigger times: 1\n",
      "Epoch 86: Train mae: 0.56118\t val mae: 0.44412\t\n",
      "trigger times: 2\n",
      "Epoch 87: Train mae: 0.55028\t val mae: 0.43993\t\n",
      "Epoch 88: Train mae: 0.54803\t val mae: 0.44631\t\n",
      "trigger times: 1\n",
      "Epoch 89: Train mae: 0.56086\t val mae: 0.44810\t\n",
      "trigger times: 2\n",
      "Epoch 90: Train mae: 0.54961\t val mae: 0.44518\t\n",
      "trigger times: 3\n",
      "Epoch 91: Train mae: 0.54505\t val mae: 0.43004\t\n",
      "Epoch 92: Train mae: 0.54686\t val mae: 0.43695\t\n",
      "trigger times: 1\n",
      "Epoch 93: Train mae: 0.54157\t val mae: 0.41388\t\n",
      "Epoch 94: Train mae: 0.54055\t val mae: 0.41939\t\n",
      "trigger times: 1\n",
      "Epoch 95: Train mae: 0.52964\t val mae: 0.40945\t\n",
      "Epoch 96: Train mae: 0.52868\t val mae: 0.42204\t\n",
      "trigger times: 1\n",
      "Epoch 97: Train mae: 0.52114\t val mae: 0.41343\t\n",
      "trigger times: 2\n",
      "Epoch 98: Train mae: 0.52738\t val mae: 0.43348\t\n",
      "trigger times: 3\n",
      "Epoch 99: Train mae: 0.51419\t val mae: 0.40301\t\n",
      "Epoch 100: Train mae: 0.50876\t val mae: 0.40101\t\n",
      "Epoch 101: Train mae: 0.50849\t val mae: 0.40094\t\n",
      "Epoch 102: Train mae: 0.50662\t val mae: 0.40420\t\n",
      "trigger times: 1\n",
      "Epoch 103: Train mae: 0.50839\t val mae: 0.40702\t\n",
      "trigger times: 2\n",
      "Epoch 104: Train mae: 0.51423\t val mae: 0.40074\t\n",
      "Epoch 105: Train mae: 0.51030\t val mae: 0.39555\t\n",
      "Epoch 106: Train mae: 0.49904\t val mae: 0.42002\t\n",
      "trigger times: 1\n",
      "Epoch 107: Train mae: 0.50090\t val mae: 0.41825\t\n",
      "trigger times: 2\n",
      "Epoch 108: Train mae: 0.49211\t val mae: 0.40201\t\n",
      "trigger times: 3\n",
      "Epoch 109: Train mae: 0.49537\t val mae: 0.37460\t\n",
      "Epoch 110: Train mae: 0.48912\t val mae: 0.40102\t\n",
      "trigger times: 1\n",
      "Epoch 111: Train mae: 0.48950\t val mae: 0.38546\t\n",
      "trigger times: 2\n",
      "Epoch 112: Train mae: 0.47774\t val mae: 0.39108\t\n",
      "trigger times: 3\n",
      "Epoch 113: Train mae: 0.48132\t val mae: 0.38798\t\n",
      "trigger times: 4\n",
      "Epoch 114: Train mae: 0.48411\t val mae: 0.41962\t\n",
      "trigger times: 5\n",
      "Epoch 115: Train mae: 0.48016\t val mae: 0.40848\t\n",
      "trigger times: 6\n",
      "Epoch 116: Train mae: 0.47865\t val mae: 0.39141\t\n",
      "trigger times: 7\n",
      "Epoch 117: Train mae: 0.47074\t val mae: 0.40875\t\n",
      "trigger times: 8\n",
      "Epoch 118: Train mae: 0.47320\t val mae: 0.38060\t\n",
      "trigger times: 9\n",
      "Epoch 119: Train mae: 0.47262\t val mae: 0.39160\t\n",
      "trigger times: 10\n",
      "Epoch 120: Train mae: 0.47188\t val mae: 0.38250\t\n",
      "trigger times: 11\n",
      "Epoch 121: Train mae: 0.46803\t val mae: 0.38052\t\n",
      "trigger times: 12\n",
      "Epoch 122: Train mae: 0.45726\t val mae: 0.38094\t\n",
      "trigger times: 13\n",
      "Epoch 123: Train mae: 0.46991\t val mae: 0.39492\t\n",
      "trigger times: 14\n",
      "Epoch 124: Train mae: 0.46512\t val mae: 0.39363\t\n",
      "trigger times: 15\n",
      "Epoch 125: Train mae: 0.46110\t val mae: 0.39303\t\n",
      "trigger times: 16\n",
      "Epoch 126: Train mae: 0.46326\t val mae: 0.39089\t\n",
      "trigger times: 17\n",
      "Epoch 127: Train mae: 0.45742\t val mae: 0.37924\t\n",
      "trigger times: 18\n",
      "Epoch 128: Train mae: 0.45165\t val mae: 0.36588\t\n",
      "Epoch 129: Train mae: 0.45924\t val mae: 0.38143\t\n",
      "trigger times: 1\n",
      "Epoch 130: Train mae: 0.45130\t val mae: 0.38616\t\n",
      "trigger times: 2\n",
      "Epoch 131: Train mae: 0.44798\t val mae: 0.37044\t\n",
      "trigger times: 3\n",
      "Epoch 132: Train mae: 0.45332\t val mae: 0.38304\t\n",
      "trigger times: 4\n",
      "Epoch 133: Train mae: 0.45177\t val mae: 0.37643\t\n",
      "trigger times: 5\n",
      "Epoch 134: Train mae: 0.44481\t val mae: 0.36568\t\n",
      "Epoch 135: Train mae: 0.44851\t val mae: 0.37718\t\n",
      "trigger times: 1\n",
      "Epoch 136: Train mae: 0.44715\t val mae: 0.36058\t\n",
      "Epoch 137: Train mae: 0.44805\t val mae: 0.39075\t\n",
      "trigger times: 1\n",
      "Epoch 138: Train mae: 0.44591\t val mae: 0.37468\t\n",
      "trigger times: 2\n",
      "Epoch 139: Train mae: 0.44088\t val mae: 0.39110\t\n",
      "trigger times: 3\n"
     ]
    },
    {
     "name": "stdout",
     "output_type": "stream",
     "text": [
      "Epoch 140: Train mae: 0.44025\t val mae: 0.37068\t\n",
      "trigger times: 4\n",
      "Epoch 141: Train mae: 0.44338\t val mae: 0.36682\t\n",
      "trigger times: 5\n",
      "Epoch 142: Train mae: 0.43342\t val mae: 0.36712\t\n",
      "trigger times: 6\n",
      "Epoch 143: Train mae: 0.43670\t val mae: 0.36071\t\n",
      "trigger times: 7\n",
      "Epoch 144: Train mae: 0.42906\t val mae: 0.37788\t\n",
      "trigger times: 8\n",
      "Epoch 145: Train mae: 0.43196\t val mae: 0.35580\t\n",
      "Epoch 146: Train mae: 0.44203\t val mae: 0.37656\t\n",
      "trigger times: 1\n",
      "Epoch 147: Train mae: 0.43771\t val mae: 0.37531\t\n",
      "trigger times: 2\n",
      "Epoch 148: Train mae: 0.43336\t val mae: 0.37058\t\n",
      "trigger times: 3\n",
      "Epoch 149: Train mae: 0.43083\t val mae: 0.37632\t\n",
      "trigger times: 4\n",
      "Epoch 150: Train mae: 0.42257\t val mae: 0.37429\t\n",
      "trigger times: 5\n",
      "Epoch 151: Train mae: 0.43183\t val mae: 0.38781\t\n",
      "trigger times: 6\n",
      "Epoch 152: Train mae: 0.42252\t val mae: 0.37845\t\n",
      "trigger times: 7\n",
      "Epoch 153: Train mae: 0.42342\t val mae: 0.36119\t\n",
      "trigger times: 8\n",
      "Epoch 154: Train mae: 0.42850\t val mae: 0.37721\t\n",
      "trigger times: 9\n",
      "Epoch 155: Train mae: 0.42242\t val mae: 0.36545\t\n",
      "trigger times: 10\n",
      "Epoch 156: Train mae: 0.42576\t val mae: 0.36953\t\n",
      "trigger times: 11\n",
      "Epoch 157: Train mae: 0.42394\t val mae: 0.36406\t\n",
      "trigger times: 12\n",
      "Epoch 158: Train mae: 0.42277\t val mae: 0.38906\t\n",
      "trigger times: 13\n",
      "Epoch 159: Train mae: 0.42131\t val mae: 0.34895\t\n",
      "Epoch 160: Train mae: 0.42171\t val mae: 0.35668\t\n",
      "trigger times: 1\n",
      "Epoch 161: Train mae: 0.42048\t val mae: 0.37535\t\n",
      "trigger times: 2\n",
      "Epoch 162: Train mae: 0.41857\t val mae: 0.37394\t\n",
      "trigger times: 3\n",
      "Epoch 163: Train mae: 0.42084\t val mae: 0.35257\t\n",
      "trigger times: 4\n",
      "Epoch 164: Train mae: 0.42081\t val mae: 0.35571\t\n",
      "trigger times: 5\n",
      "Epoch 165: Train mae: 0.42096\t val mae: 0.37610\t\n",
      "trigger times: 6\n",
      "Epoch 166: Train mae: 0.41661\t val mae: 0.35243\t\n",
      "trigger times: 7\n",
      "Epoch 167: Train mae: 0.41320\t val mae: 0.36091\t\n",
      "trigger times: 8\n",
      "Epoch 168: Train mae: 0.41316\t val mae: 0.36639\t\n",
      "trigger times: 9\n",
      "Epoch 169: Train mae: 0.40911\t val mae: 0.36307\t\n",
      "trigger times: 10\n",
      "Epoch 170: Train mae: 0.41378\t val mae: 0.36932\t\n",
      "trigger times: 11\n",
      "Epoch 171: Train mae: 0.41652\t val mae: 0.37782\t\n",
      "trigger times: 12\n",
      "Epoch 172: Train mae: 0.41462\t val mae: 0.36489\t\n",
      "trigger times: 13\n",
      "Epoch 173: Train mae: 0.41010\t val mae: 0.36475\t\n",
      "trigger times: 14\n",
      "Epoch 174: Train mae: 0.41327\t val mae: 0.35542\t\n",
      "trigger times: 15\n",
      "Epoch 175: Train mae: 0.40578\t val mae: 0.37139\t\n",
      "trigger times: 16\n",
      "Epoch 176: Train mae: 0.41300\t val mae: 0.37805\t\n",
      "trigger times: 17\n",
      "Epoch 177: Train mae: 0.41047\t val mae: 0.38854\t\n",
      "trigger times: 18\n",
      "Epoch 178: Train mae: 0.40971\t val mae: 0.36935\t\n",
      "trigger times: 19\n",
      "Epoch 179: Train mae: 0.40796\t val mae: 0.36315\t\n",
      "trigger times: 20\n",
      "Epoch 180: Train mae: 0.40928\t val mae: 0.35551\t\n",
      "trigger times: 21\n",
      "Epoch 181: Train mae: 0.40533\t val mae: 0.35406\t\n",
      "trigger times: 22\n",
      "Epoch 182: Train mae: 0.39977\t val mae: 0.34336\t\n",
      "Epoch 183: Train mae: 0.41136\t val mae: 0.37153\t\n",
      "trigger times: 1\n",
      "Epoch 184: Train mae: 0.40528\t val mae: 0.38340\t\n",
      "trigger times: 2\n",
      "Epoch 185: Train mae: 0.40580\t val mae: 0.36603\t\n",
      "trigger times: 3\n",
      "Epoch 186: Train mae: 0.40265\t val mae: 0.36108\t\n",
      "trigger times: 4\n",
      "Epoch 187: Train mae: 0.40489\t val mae: 0.38200\t\n",
      "trigger times: 5\n",
      "Epoch 188: Train mae: 0.40256\t val mae: 0.38234\t\n",
      "trigger times: 6\n",
      "Epoch 189: Train mae: 0.40749\t val mae: 0.35908\t\n",
      "trigger times: 7\n",
      "Epoch 190: Train mae: 0.39129\t val mae: 0.38311\t\n",
      "trigger times: 8\n",
      "Epoch 191: Train mae: 0.40142\t val mae: 0.37112\t\n",
      "trigger times: 9\n",
      "Epoch 192: Train mae: 0.39910\t val mae: 0.36818\t\n",
      "trigger times: 10\n",
      "Epoch 193: Train mae: 0.39639\t val mae: 0.34571\t\n",
      "trigger times: 11\n",
      "Epoch 194: Train mae: 0.39917\t val mae: 0.37596\t\n",
      "trigger times: 12\n",
      "Epoch 195: Train mae: 0.39371\t val mae: 0.37930\t\n",
      "trigger times: 13\n",
      "Epoch 196: Train mae: 0.40653\t val mae: 0.35992\t\n",
      "trigger times: 14\n",
      "Epoch 197: Train mae: 0.38856\t val mae: 0.37582\t\n",
      "trigger times: 15\n",
      "Epoch 198: Train mae: 0.39325\t val mae: 0.34943\t\n",
      "trigger times: 16\n",
      "Epoch 199: Train mae: 0.38313\t val mae: 0.35154\t\n",
      "trigger times: 17\n",
      "Epoch 200: Train mae: 0.39912\t val mae: 0.37678\t\n",
      "trigger times: 18\n",
      "Epoch 201: Train mae: 0.40219\t val mae: 0.36110\t\n",
      "trigger times: 19\n",
      "Epoch 202: Train mae: 0.38915\t val mae: 0.34127\t\n",
      "Epoch 203: Train mae: 0.39186\t val mae: 0.37944\t\n",
      "trigger times: 1\n",
      "Epoch 204: Train mae: 0.39511\t val mae: 0.38339\t\n",
      "trigger times: 2\n",
      "Epoch 205: Train mae: 0.39284\t val mae: 0.36647\t\n",
      "trigger times: 3\n",
      "Epoch 206: Train mae: 0.39431\t val mae: 0.36994\t\n",
      "trigger times: 4\n",
      "Epoch 207: Train mae: 0.38937\t val mae: 0.35273\t\n",
      "trigger times: 5\n",
      "Epoch 208: Train mae: 0.39011\t val mae: 0.35035\t\n",
      "trigger times: 6\n",
      "Epoch 209: Train mae: 0.39303\t val mae: 0.35623\t\n",
      "trigger times: 7\n",
      "Epoch 210: Train mae: 0.38982\t val mae: 0.36945\t\n",
      "trigger times: 8\n",
      "Epoch 211: Train mae: 0.38454\t val mae: 0.35627\t\n",
      "trigger times: 9\n",
      "Epoch 212: Train mae: 0.39004\t val mae: 0.35479\t\n",
      "trigger times: 10\n",
      "Epoch 213: Train mae: 0.38767\t val mae: 0.38014\t\n",
      "trigger times: 11\n",
      "Epoch 214: Train mae: 0.38158\t val mae: 0.35957\t\n",
      "trigger times: 12\n",
      "Epoch 215: Train mae: 0.38318\t val mae: 0.36605\t\n",
      "trigger times: 13\n",
      "Epoch 216: Train mae: 0.38345\t val mae: 0.34645\t\n",
      "trigger times: 14\n",
      "Epoch 217: Train mae: 0.38423\t val mae: 0.34096\t\n",
      "Epoch 218: Train mae: 0.38676\t val mae: 0.37256\t\n",
      "trigger times: 1\n",
      "Epoch 219: Train mae: 0.37974\t val mae: 0.36093\t\n",
      "trigger times: 2\n",
      "Epoch 220: Train mae: 0.38374\t val mae: 0.35161\t\n",
      "trigger times: 3\n",
      "Epoch 221: Train mae: 0.38036\t val mae: 0.34533\t\n",
      "trigger times: 4\n",
      "Epoch 222: Train mae: 0.38532\t val mae: 0.34415\t\n",
      "trigger times: 5\n",
      "Epoch 223: Train mae: 0.38224\t val mae: 0.36137\t\n",
      "trigger times: 6\n",
      "Epoch 224: Train mae: 0.38209\t val mae: 0.36447\t\n",
      "trigger times: 7\n",
      "Epoch 225: Train mae: 0.38172\t val mae: 0.34301\t\n",
      "trigger times: 8\n",
      "Epoch 226: Train mae: 0.38211\t val mae: 0.35511\t\n",
      "trigger times: 9\n",
      "Epoch 227: Train mae: 0.37180\t val mae: 0.36711\t\n",
      "trigger times: 10\n",
      "Epoch 228: Train mae: 0.37894\t val mae: 0.35830\t\n",
      "trigger times: 11\n",
      "Epoch 229: Train mae: 0.38317\t val mae: 0.35305\t\n",
      "trigger times: 12\n",
      "Epoch 230: Train mae: 0.38057\t val mae: 0.35685\t\n",
      "trigger times: 13\n",
      "Epoch 231: Train mae: 0.37874\t val mae: 0.35465\t\n",
      "trigger times: 14\n",
      "Epoch 232: Train mae: 0.37709\t val mae: 0.34527\t\n",
      "trigger times: 15\n",
      "Epoch 233: Train mae: 0.37519\t val mae: 0.35475\t\n",
      "trigger times: 16\n",
      "Epoch 234: Train mae: 0.38223\t val mae: 0.37733\t\n",
      "trigger times: 17\n",
      "Epoch 235: Train mae: 0.37994\t val mae: 0.36347\t\n",
      "trigger times: 18\n",
      "Epoch 236: Train mae: 0.37896\t val mae: 0.34349\t\n",
      "trigger times: 19\n",
      "Epoch 237: Train mae: 0.37277\t val mae: 0.35236\t\n",
      "trigger times: 20\n",
      "Epoch 238: Train mae: 0.37323\t val mae: 0.35211\t\n",
      "trigger times: 21\n",
      "Epoch 239: Train mae: 0.37631\t val mae: 0.36701\t\n",
      "trigger times: 22\n",
      "Epoch 240: Train mae: 0.37586\t val mae: 0.32868\t\n",
      "Epoch 241: Train mae: 0.37352\t val mae: 0.35881\t\n",
      "trigger times: 1\n",
      "Epoch 242: Train mae: 0.37445\t val mae: 0.35480\t\n",
      "trigger times: 2\n",
      "Epoch 243: Train mae: 0.37560\t val mae: 0.34812\t\n",
      "trigger times: 3\n",
      "Epoch 244: Train mae: 0.37156\t val mae: 0.37234\t\n",
      "trigger times: 4\n",
      "Epoch 245: Train mae: 0.37733\t val mae: 0.34840\t\n",
      "trigger times: 5\n",
      "Epoch 246: Train mae: 0.37308\t val mae: 0.34541\t\n",
      "trigger times: 6\n",
      "Epoch 247: Train mae: 0.37459\t val mae: 0.34249\t\n",
      "trigger times: 7\n",
      "Epoch 248: Train mae: 0.37917\t val mae: 0.35840\t\n",
      "trigger times: 8\n",
      "Epoch 249: Train mae: 0.37201\t val mae: 0.34782\t\n",
      "trigger times: 9\n",
      "Epoch 250: Train mae: 0.37023\t val mae: 0.36677\t\n",
      "trigger times: 10\n",
      "Epoch 251: Train mae: 0.36913\t val mae: 0.36617\t\n",
      "trigger times: 11\n",
      "Epoch 252: Train mae: 0.36950\t val mae: 0.34085\t\n",
      "trigger times: 12\n",
      "Epoch 253: Train mae: 0.37308\t val mae: 0.34951\t\n",
      "trigger times: 13\n",
      "Epoch 254: Train mae: 0.36575\t val mae: 0.38255\t\n",
      "trigger times: 14\n",
      "Epoch 255: Train mae: 0.36846\t val mae: 0.35611\t\n",
      "trigger times: 15\n",
      "Epoch 256: Train mae: 0.36685\t val mae: 0.35426\t\n",
      "trigger times: 16\n",
      "Epoch 257: Train mae: 0.37740\t val mae: 0.34047\t\n",
      "trigger times: 17\n",
      "Epoch 258: Train mae: 0.36668\t val mae: 0.34141\t\n",
      "trigger times: 18\n",
      "Epoch 259: Train mae: 0.37241\t val mae: 0.34092\t\n",
      "trigger times: 19\n",
      "Epoch 260: Train mae: 0.36525\t val mae: 0.36045\t\n",
      "trigger times: 20\n",
      "Epoch 261: Train mae: 0.36485\t val mae: 0.34141\t\n",
      "trigger times: 21\n",
      "Epoch 262: Train mae: 0.36706\t val mae: 0.35020\t\n",
      "trigger times: 22\n",
      "Epoch 263: Train mae: 0.35930\t val mae: 0.36046\t\n",
      "trigger times: 23\n",
      "Epoch 264: Train mae: 0.36831\t val mae: 0.36247\t\n",
      "trigger times: 24\n"
     ]
    },
    {
     "name": "stdout",
     "output_type": "stream",
     "text": [
      "Epoch 265: Train mae: 0.36336\t val mae: 0.34118\t\n",
      "trigger times: 25\n",
      "Epoch 266: Train mae: 0.37398\t val mae: 0.34606\t\n",
      "trigger times: 26\n",
      "Early stopping!\n",
      "Start to test process.\n"
     ]
    }
   ],
   "source": [
    "best_ret = []\n",
    "best_mse = 0.80\n",
    "best_ci = 0\n",
    "patience=0\n",
    "best_epoch = -1\n",
    "model_st = \"GINConvNet\"\n",
    "model_file_name = 'GINConvNet' + model_st  +  '.model'\n",
    "result_file_name = 'result_' + model_st +  '.csv'\n",
    "\n",
    "val_losses = []\n",
    "train_losses = []\n",
    "\n",
    "the_last_loss = 100\n",
    "patience = 26\n",
    "trigger_times = 0\n",
    "count_loss_difference = 0\n",
    "\n",
    "for epoch in range(NUM_EPOCHS):\n",
    "    train_loss=train(model, device, train_loder, optimizer, epoch+1,loss_fn)\n",
    "    test_loss = predicting(model, device, val_loder,loss_fn)\n",
    "#     test_loss = predicting(model, device, test_loder,loss_fn)\n",
    "#     print('Epoch% d: Train mae: %2.5f\\t val mae: %2.5f\\t test mae: %2.5f\\t'\n",
    "#           %(epoch, train_loss, val_loss.item(),test_loss.item()))\n",
    "\n",
    "    print('Epoch% d: Train mae: %2.5f\\t val mae: %2.5f\\t'\n",
    "          %(epoch, train_loss,test_loss.item()))\n",
    "    ret = [epoch,train_loss,test_loss.item()]\n",
    "    \n",
    "    train_losses.append(train_loss)\n",
    "    val_losses.append(test_loss.item())\n",
    "    # Early stopping\n",
    "    the_current_loss = test_loss.item()\n",
    "    \n",
    "    if the_current_loss > the_last_loss:\n",
    "        trigger_times += 1\n",
    "        print('trigger times:', trigger_times)\n",
    "\n",
    "        if trigger_times >= patience:\n",
    "            print('Early stopping!\\nStart to test process.')\n",
    "            break\n",
    "    else:\n",
    "        \n",
    "        trigger_times = 0\n",
    "        the_last_loss = the_current_loss\n",
    "        torch.save(model.state_dict(), 'GINConvNet.model')\n",
    "\n",
    "\n",
    "    with open(result_file_name,'w') as f:\n",
    "        f.write(','.join(map(str,ret)))\n"
   ]
  },
  {
   "cell_type": "markdown",
   "metadata": {},
   "source": [
    "# visualization"
   ]
  },
  {
   "cell_type": "code",
   "execution_count": 30,
   "metadata": {},
   "outputs": [
    {
     "data": {
      "text/plain": [
       "267"
      ]
     },
     "execution_count": 30,
     "metadata": {},
     "output_type": "execute_result"
    }
   ],
   "source": [
    "len(train_losses)"
   ]
  },
  {
   "cell_type": "code",
   "execution_count": 31,
   "metadata": {},
   "outputs": [
    {
     "data": {
      "image/png": "[encoded data removed]",
      "text/plain": [
       "<Figure size 720x360 with 1 Axes>"
      ]
     },
     "metadata": {},
     "output_type": "display_data"
    }
   ],
   "source": [
    "plt.figure(figsize=(10,5))\n",
    "plt.title(\"GINConvNet Training and Validation Loss\")\n",
    "plt.plot(val_losses,label=\"val\")\n",
    "plt.plot(train_losses,label=\"train\")\n",
    "plt.xlabel(\"iterations\")\n",
    "plt.ylabel(\"Loss\")\n",
    "plt.legend()\n",
    "plt.ylim(0, 4)\n",
    "plt.grid(True)\n",
    "plt.savefig('GINConvNetTrainAndValidation.png', dpi=400,transparent=True)\n",
    "plt.show()"
   ]
  },
  {
   "cell_type": "code",
   "execution_count": 32,
   "metadata": {},
   "outputs": [
    {
     "data": {
      "text/plain": [
       "<matplotlib.legend.Legend at 0x7fa43c3a1588>"
      ]
     },
     "execution_count": 32,
     "metadata": {},
     "output_type": "execute_result"
    },
    {
     "data": {
      "image/png": "[encoded data removed]",
      "text/plain": [
       "<Figure size 432x288 with 1 Axes>"
      ]
     },
     "metadata": {},
     "output_type": "display_data"
    }
   ],
   "source": [
    "ax = plt.subplot(1,1,1)\n",
    "ax.plot([e for e in range(1,len(train_losses) + 1)], train_losses, label=\"train_loss\")\n",
    "ax.plot([e for e in range(1,len(val_losses) + 1)], val_losses, label=\"val_loss\")\n",
    "plt.xlabel(\"epoch\")\n",
    "plt.title('GINConvNet')\n",
    "plt.grid(True)\n",
    "plt.savefig('GINConvNetTrain.png', dpi=400,transparent=True)\n",
    "ax.legend()"
   ]
  },
  {
   "cell_type": "code",
   "execution_count": 33,
   "metadata": {},
   "outputs": [],
   "source": [
    "y_pred_arr = []\n",
    "target_array = []\n",
    "for data in test_loder:\n",
    "    data = data.to(device)\n",
    "    y_pred = model(data)\n",
    "    #y_pred = model(data.x.float(), data.edge_index,data.batch)\n",
    "    y_pred_arr.append(y_pred)\n",
    "    target_array.append(data.y.float())"
   ]
  },
  {
   "cell_type": "code",
   "execution_count": 34,
   "metadata": {},
   "outputs": [
    {
     "data": {
      "text/plain": [
       "124"
      ]
     },
     "execution_count": 34,
     "metadata": {},
     "output_type": "execute_result"
    }
   ],
   "source": [
    "len(test_loder)"
   ]
  },
  {
   "cell_type": "code",
   "execution_count": 35,
   "metadata": {},
   "outputs": [],
   "source": [
    "y_ped=torch.cat(y_pred_arr).view(-1).cpu().detach().numpy()\n",
    "y_true=torch.cat(target_array).cpu().detach().numpy()"
   ]
  },
  {
   "cell_type": "code",
   "execution_count": 36,
   "metadata": {},
   "outputs": [
    {
     "data": {
      "image/png": "[encoded data removed]",
      "text/plain": [
       "<Figure size 432x288 with 1 Axes>"
      ]
     },
     "metadata": {},
     "output_type": "display_data"
    }
   ],
   "source": [
    "# plt.scatter(y_ped,y_true,s=10,marker =\"s\",c=y_true,cmap=plt.get_cmap('plasma'))\n",
    "plt.scatter(y_ped,y_true,s=10,marker =\"s\",c=y_true,cmap=plt.get_cmap('plasma'))\n",
    "plt.plot(y_true,y_true)\n",
    "plt.xlabel('Ground Truth \\c')\n",
    "plt.ylabel('Predicted')\n",
    "plt.title('GINConvNet')\n",
    "plt.grid(False)\n",
    "plt.savefig('GINConvNet.png', dpi=400,transparent=True)\n",
    "plt.show()"
   ]
  },
  {
   "cell_type": "code",
   "execution_count": 37,
   "metadata": {},
   "outputs": [
    {
     "data": {
      "text/plain": [
       "<Figure size 432x288 with 0 Axes>"
      ]
     },
     "metadata": {},
     "output_type": "display_data"
    }
   ],
   "source": [
    "plt.draw()\n"
   ]
  },
  {
   "cell_type": "code",
   "execution_count": 38,
   "metadata": {},
   "outputs": [
    {
     "data": {
      "text/plain": [
       "<Figure size 432x288 with 0 Axes>"
      ]
     },
     "metadata": {},
     "output_type": "display_data"
    }
   ],
   "source": [
    "plt.savefig(\"Save Plot as PDF file using savefig.pdf\")"
   ]
  },
  {
   "cell_type": "code",
   "execution_count": 39,
   "metadata": {},
   "outputs": [],
   "source": [
    "from sklearn.metrics import r2_score,mean_absolute_error,mean_squared_error\n",
    "import math"
   ]
  },
  {
   "cell_type": "code",
   "execution_count": 40,
   "metadata": {},
   "outputs": [
    {
     "name": "stdout",
     "output_type": "stream",
     "text": [
      "0.22901054\n"
     ]
    }
   ],
   "source": [
    "MSE = mean_squared_error(y_true, y_ped)\n",
    "print(MSE)"
   ]
  },
  {
   "cell_type": "code",
   "execution_count": 41,
   "metadata": {},
   "outputs": [],
   "source": [
    "#r2_score(y_true, y_pred)"
   ]
  },
  {
   "cell_type": "code",
   "execution_count": 42,
   "metadata": {},
   "outputs": [
    {
     "name": "stdout",
     "output_type": "stream",
     "text": [
      "0.34541914\n"
     ]
    }
   ],
   "source": [
    "print(mean_absolute_error(y_true,y_ped))"
   ]
  },
  {
   "cell_type": "code",
   "execution_count": 43,
   "metadata": {},
   "outputs": [
    {
     "name": "stdout",
     "output_type": "stream",
     "text": [
      "Root Mean Square Error:\n",
      "\n",
      "0.4785504542540225\n"
     ]
    }
   ],
   "source": [
    "RMSE = math.sqrt(MSE)\n",
    "print(\"Root Mean Square Error:\\n\")\n",
    "print(RMSE)"
   ]
  },
  {
   "cell_type": "markdown",
   "metadata": {},
   "source": [
    "# Train"
   ]
  },
  {
   "cell_type": "code",
   "execution_count": null,
   "metadata": {},
   "outputs": [],
   "source": []
  },
  {
   "cell_type": "code",
   "execution_count": null,
   "metadata": {},
   "outputs": [],
   "source": []
  },
  {
   "cell_type": "code",
   "execution_count": null,
   "metadata": {},
   "outputs": [],
   "source": []
  },
  {
   "cell_type": "code",
   "execution_count": null,
   "metadata": {},
   "outputs": [],
   "source": []
  },
  {
   "cell_type": "code",
   "execution_count": 44,
   "metadata": {},
   "outputs": [],
   "source": [
    "from rdkit.Chem import Draw\n",
    "from rdkit.Chem.Draw import IPythonConsole"
   ]
  },
  {
   "cell_type": "code",
   "execution_count": 45,
   "metadata": {},
   "outputs": [],
   "source": [
    "smile = \"OC(=O)Cc1c[nH]c2cc(ccc12)CC\""
   ]
  },
  {
   "cell_type": "code",
   "execution_count": 46,
   "metadata": {},
   "outputs": [],
   "source": [
    "smile_graph = {}\n",
    "band_gap_arr = []\n",
    "smiles_array = []\n",
    "\n",
    "g = gd.smile_to_graph(smile)\n",
    "if g != None:\n",
    "    smile_graph[smile] = g\n",
    "    band_gap_arr.append(0.00)\n",
    "    smiles_array.append(smile)"
   ]
  },
  {
   "cell_type": "code",
   "execution_count": 47,
   "metadata": {},
   "outputs": [],
   "source": [
    "one_data = Molecule_data(root='data', dataset='one_data_set',y=band_gap_arr,smile_graph=smile_graph,smiles=smiles_array)"
   ]
  },
  {
   "cell_type": "code",
   "execution_count": 48,
   "metadata": {},
   "outputs": [],
   "source": [
    "one_loder   = DataLoader(one_data,batch_size=TRAIN_BATCH_SIZE,shuffle=True)"
   ]
  },
  {
   "cell_type": "code",
   "execution_count": 49,
   "metadata": {},
   "outputs": [
    {
     "data": {
      "text/plain": [
       "Batch(x=[15, 114], edge_index=[2, 32], y=[1], c_size=[1], batch=[15], ptr=[2])"
      ]
     },
     "execution_count": 49,
     "metadata": {},
     "output_type": "execute_result"
    }
   ],
   "source": [
    "next(iter(one_loder))"
   ]
  },
  {
   "cell_type": "code",
   "execution_count": 50,
   "metadata": {},
   "outputs": [
    {
     "name": "stdout",
     "output_type": "stream",
     "text": [
      "tensor([[3.3492]], device='cuda:5', grad_fn=<AddmmBackward>)\n"
     ]
    }
   ],
   "source": [
    "for data in one_loder:\n",
    "    data = data.to(device)\n",
    "    y_pred = model(data)\n",
    "    print(y_pred)"
   ]
  },
  {
   "cell_type": "code",
   "execution_count": 51,
   "metadata": {},
   "outputs": [
    {
     "data": {
      "image/png": "[encoded data removed]",
      "text/plain": [
       "<Figure size 360x288 with 1 Axes>"
      ]
     },
     "metadata": {},
     "output_type": "display_data"
    }
   ],
   "source": [
    "import networkx as nx\n",
    "from torch_geometric import torch_geometric\n",
    "for data in one_loder:\n",
    "    data = data.to(device)\n",
    "    gdata = torch_geometric.data.Data(x=data.x.float(), edge_index=data.edge_index)\n",
    "    g = torch_geometric.utils.to_networkx(gdata, to_undirected=True)\n",
    "    plt.figure(1,figsize=(5,4)) \n",
    "    nx.draw(g, cmap=plt.get_cmap('Set1'),node_size=50,linewidths=6)\n",
    "#     plt.show()\n",
    "#     nx.draw(g)\n",
    "    break"
   ]
  },
  {
   "cell_type": "markdown",
   "metadata": {},
   "source": [
    "#### "
   ]
  },
  {
   "cell_type": "code",
   "execution_count": null,
   "metadata": {},
   "outputs": [],
   "source": []
  }
 ],
 "metadata": {
  "kernelspec": {
   "display_name": "Python 3",
   "language": "python",
   "name": "python3"
  },
  "language_info": {
   "codemirror_mode": {
    "name": "ipython",
    "version": 3
   },
   "file_extension": ".py",
   "mimetype": "text/x-python",
   "name": "python",
   "nbconvert_exporter": "python",
   "pygments_lexer": "ipython3",
   "version": "3.6.13"
  }
 },
 "nbformat": 4,
 "nbformat_minor": 4
}
