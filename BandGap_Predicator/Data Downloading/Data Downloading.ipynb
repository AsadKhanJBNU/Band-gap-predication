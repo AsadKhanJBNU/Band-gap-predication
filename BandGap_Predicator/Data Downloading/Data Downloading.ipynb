{
 "cells": [
  {
   "cell_type": "code",
   "execution_count": null,
   "metadata": {},
   "outputs": [],
   "source": [
    "import requests\n",
    "import pandas as pd\n",
    "import numpy as np"
   ]
  },
  {
   "cell_type": "code",
   "execution_count": null,
   "metadata": {},
   "outputs": [],
   "source": [
    "smilesArray = []\n",
    "# Creating the first Dataframe using dictionary\n",
    "data = {'CODID': [],\n",
    "        'SMILE': [],\n",
    "       'bgs':[]}\n",
    "df_marks = pd.DataFrame(data)"
   ]
  },
  {
   "cell_type": "markdown",
   "metadata": {},
   "source": [
    "# Read Data From CSV"
   ]
  },
  {
   "cell_type": "code",
   "execution_count": null,
   "metadata": {},
   "outputs": [],
   "source": [
    "df = pd.read_csv('bandgaps.csv',encoding = 'unicode_escape')\n",
    "dfIds = pd.read_csv('CODids.csv',encoding = 'unicode_escape')"
   ]
  },
  {
   "cell_type": "code",
   "execution_count": null,
   "metadata": {},
   "outputs": [],
   "source": [
    "j = 0\n",
    "for x in dfIds['ids']:\n",
    "    id= str(x)\n",
    "    badGap = df['bgs'][j]\n",
    "    j += 1 \n",
    "    url=requests.get('http://www.crystallography.net/cod/'+id+'.html')\n",
    "    htmltext = url.text\n",
    "    matched_lines = [line for line in htmltext.split('\\n')]\n",
    "    i = 0\n",
    "    while i < len(matched_lines):\n",
    "        if matched_lines[i] == \"\t\t<th>SMILES</th>\":\n",
    "            smile = matched_lines[i+1]\n",
    "            smile = smile.replace('<td>','')\n",
    "            smile = smile.replace('</td>','')\n",
    "            smile = smile.replace('\\t\\t','')\n",
    "            print(len(smilesArray))\n",
    "            smilesArray.append(smile)\n",
    "            new_row = {'CODID':id, 'SMILE':smile,'bgs':badGap}\n",
    "            \n",
    "            df_marks = df_marks.append(new_row, ignore_index = True)\n",
    "            break\n",
    "        i += 1\n",
    "    if j == 5:\n",
    "        break"
   ]
  },
  {
   "cell_type": "code",
   "execution_count": null,
   "metadata": {},
   "outputs": [],
   "source": [
    "df_marks.to_csv('omdb_data_set.csv', index=False)"
   ]
  },
  {
   "cell_type": "code",
   "execution_count": null,
   "metadata": {},
   "outputs": [],
   "source": []
  }
 ],
 "metadata": {
  "kernelspec": {
   "display_name": "Python 3",
   "language": "python",
   "name": "python3"
  },
  "language_info": {
   "codemirror_mode": {
    "name": "ipython",
    "version": 3
   },
   "file_extension": ".py",
   "mimetype": "text/x-python",
   "name": "python",
   "nbconvert_exporter": "python",
   "pygments_lexer": "ipython3",
   "version": "3.6.13"
  }
 },
 "nbformat": 4,
 "nbformat_minor": 4
}
