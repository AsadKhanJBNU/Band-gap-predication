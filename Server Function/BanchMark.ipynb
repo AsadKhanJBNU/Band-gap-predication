{
 "cells": [
  {
   "cell_type": "code",
   "execution_count": 1,
   "metadata": {},
   "outputs": [],
   "source": [
    "from ogb.lsc import PCQM4Mv2Dataset\n",
    "\n",
    "import pandas as pd\n",
    "import numpy as np\n",
    "\n",
    "from rdkit import Chem\n",
    "from rdkit.Chem import Draw\n",
    "import networkx as nx\n",
    "from torch_geometric.datasets import MoleculeNet\n",
    "import matplotlib.pyplot as plt\n",
    "\n",
    "import torch\n",
    "import os\n",
    "import pandas as pd\n",
    "import numpy as np\n",
    "import json,pickle\n",
    "from collections import OrderedDict\n",
    "from rdkit import Chem\n",
    "from rdkit.Chem import MolFromSmiles\n",
    "import networkx as nx\n",
    "\n",
    "from torch_geometric.data import InMemoryDataset, Data\n",
    "from torch_geometric.loader import DataLoader\n",
    "\n",
    "from sklearn.model_selection import train_test_split\n",
    "from tqdm.notebook import tqdm\n",
    "import torch\n",
    "import torch.nn as nn\n",
    "\n",
    "import Data_Preprocessing.Graph_Data as gd\n",
    "from Data_Preprocessing.Graph_Data import Molecule_data\n",
    "from models.AttentiveFPModel import AttentiveFP\n",
    "import seaborn as sns"
   ]
  },
  {
   "cell_type": "code",
   "execution_count": 2,
   "metadata": {},
   "outputs": [],
   "source": [
    "dataset = PCQM4Mv2Dataset(root = 'pcqm4m-v2-train.sdf', only_smiles = True)"
   ]
  },
  {
   "cell_type": "code",
   "execution_count": 3,
   "metadata": {},
   "outputs": [],
   "source": [
    "smiles = []\n",
    "band_gap = []"
   ]
  },
  {
   "cell_type": "code",
   "execution_count": 4,
   "metadata": {},
   "outputs": [],
   "source": [
    "for item in dataset:\n",
    "    smiles.append(item[0])\n",
    "    band_gap.append(item[1])"
   ]
  },
  {
   "cell_type": "code",
   "execution_count": 5,
   "metadata": {},
   "outputs": [
    {
     "data": {
      "text/plain": [
       "3746620"
      ]
     },
     "execution_count": 5,
     "metadata": {},
     "output_type": "execute_result"
    }
   ],
   "source": [
    "len(smiles)"
   ]
  },
  {
   "cell_type": "code",
   "execution_count": 6,
   "metadata": {},
   "outputs": [
    {
     "data": {
      "image/png": "[encoded data removed]",
      "text/plain": [
       "<Figure size 432x288 with 1 Axes>"
      ]
     },
     "metadata": {},
     "output_type": "display_data"
    }
   ],
   "source": [
    "sns.set_theme(style=\"whitegrid\")\n",
    "tips = sns.load_dataset(\"tips\")\n",
    "ax = sns.violinplot(x=band_gap)"
   ]
  },
  {
   "cell_type": "code",
   "execution_count": 7,
   "metadata": {},
   "outputs": [],
   "source": [
    "smile_graph = {}\n",
    "band_gap_arr = []\n",
    "smiles_array = []\n",
    "\n",
    "# for i,smile in tqdm(enumerate(smiles)):\n",
    "#     if i > 10000:\n",
    "#         break\n",
    "#     if len(smile) > 1:\n",
    "#         g = gd.smile_to_graph(smile)\n",
    "#         if g != None:\n",
    "#             smile_graph[smile] = g\n",
    "#             band_gap_arr.append(band_gap[i])\n",
    "#             smiles_array.append(smile)\n",
    "    "
   ]
  },
  {
   "cell_type": "code",
   "execution_count": 8,
   "metadata": {},
   "outputs": [],
   "source": [
    "#sm = smiles_array[85975]"
   ]
  },
  {
   "cell_type": "code",
   "execution_count": 9,
   "metadata": {},
   "outputs": [],
   "source": [
    "#sm"
   ]
  },
  {
   "cell_type": "code",
   "execution_count": 10,
   "metadata": {},
   "outputs": [],
   "source": [
    "banch_data = Molecule_data(root='data', dataset='banchmark_data_set',y=band_gap_arr,smile_graph=smile_graph,smiles=smiles_array)"
   ]
  },
  {
   "cell_type": "code",
   "execution_count": 11,
   "metadata": {},
   "outputs": [],
   "source": [
    "TRAIN_BATCH_SIZE = 17\n",
    "banch_loder   = DataLoader(banch_data,batch_size=TRAIN_BATCH_SIZE,shuffle=True)"
   ]
  },
  {
   "cell_type": "code",
   "execution_count": 12,
   "metadata": {},
   "outputs": [
    {
     "name": "stdout",
     "output_type": "stream",
     "text": [
      "cuda:1\n"
     ]
    }
   ],
   "source": [
    "if torch.cuda.is_available():  \n",
    "    device = \"cuda:1\"\n",
    "    print(\"cuda:1\")\n",
    "else:  \n",
    "    device = \"cpu\" \n",
    "    print(torch.cuda.is_available())"
   ]
  },
  {
   "cell_type": "code",
   "execution_count": 13,
   "metadata": {},
   "outputs": [],
   "source": [
    "def predicting(model, device, loader,loss_fn):\n",
    "    model.eval()\n",
    "    total_loss=total_example=0\n",
    "    with torch.no_grad():\n",
    "        for data in loader:\n",
    "            data = data.to(device)\n",
    "            output = model(data.x.float(), data.edge_index,data.batch)\n",
    "            loss = loss_fn(output, data.y.view(-1, 1).float().to(device))\n",
    "            total_loss+=loss\n",
    "            total_example+=1\n",
    "    return total_loss/total_example"
   ]
  },
  {
   "cell_type": "code",
   "execution_count": 14,
   "metadata": {},
   "outputs": [],
   "source": [
    "model = AttentiveFP(in_channels=114, hidden_channels=292, out_channels=1,\n",
    "                    num_layers=3, num_timesteps=1,\n",
    "                    dropout= 0.05115077176824934).to(device)"
   ]
  },
  {
   "cell_type": "code",
   "execution_count": 15,
   "metadata": {},
   "outputs": [
    {
     "data": {
      "text/plain": [
       "<All keys matched successfully>"
      ]
     },
     "execution_count": 15,
     "metadata": {},
     "output_type": "execute_result"
    }
   ],
   "source": [
    "model_file_name = 'Graph_attention_best_12.model'\n",
    "model.load_state_dict(torch.load(model_file_name))"
   ]
  },
  {
   "cell_type": "code",
   "execution_count": 16,
   "metadata": {},
   "outputs": [],
   "source": [
    "y_pred_arr = []\n",
    "target_array = []\n",
    "for data in banch_loder:\n",
    "    data = data.to(device)\n",
    "    y_pred = model(data.x.float(), data.edge_index,data.batch)\n",
    "    #y_pred = model(data)\n",
    "    y_pred_arr.append(y_pred)\n",
    "    target_array.append(data.y.float())"
   ]
  },
  {
   "cell_type": "code",
   "execution_count": 17,
   "metadata": {},
   "outputs": [],
   "source": [
    "y_ped=torch.cat(y_pred_arr).view(-1).cpu().detach().numpy()\n",
    "y_true=torch.cat(target_array).cpu().detach().numpy()"
   ]
  },
  {
   "cell_type": "code",
   "execution_count": 24,
   "metadata": {},
   "outputs": [
    {
     "data": {
      "image/png": "[encoded data removed]",
      "text/plain": [
       "<Figure size 432x288 with 1 Axes>"
      ]
     },
     "metadata": {},
     "output_type": "display_data"
    }
   ],
   "source": [
    "plt.scatter(y_ped,y_true,s=10,marker =\"s\",c=y_true,cmap=plt.get_cmap('plasma'))\n",
    "plt.plot(y_true,y_true)\n",
    "plt.xlabel('Ground Truth \\nd')\n",
    "plt.ylabel('Predicted')\n",
    "plt.title('Graph Attention')\n",
    "plt.grid(False)\n",
    "plt.savefig('Graph_attention_banchmark.png', dpi=400,transparent=True)\n",
    "plt.show()"
   ]
  },
  {
   "cell_type": "code",
   "execution_count": 19,
   "metadata": {},
   "outputs": [],
   "source": [
    "from sklearn.metrics import r2_score,mean_absolute_error,mean_squared_error\n",
    "import math"
   ]
  },
  {
   "cell_type": "code",
   "execution_count": 20,
   "metadata": {},
   "outputs": [
    {
     "name": "stdout",
     "output_type": "stream",
     "text": [
      "4.113469\n"
     ]
    }
   ],
   "source": [
    "MSE = mean_squared_error(y_true, y_ped)\n",
    "print(MSE)"
   ]
  },
  {
   "cell_type": "code",
   "execution_count": 21,
   "metadata": {},
   "outputs": [
    {
     "name": "stdout",
     "output_type": "stream",
     "text": [
      "1.9608629\n"
     ]
    }
   ],
   "source": [
    "print(mean_absolute_error(y_true,y_ped))"
   ]
  },
  {
   "cell_type": "code",
   "execution_count": 22,
   "metadata": {},
   "outputs": [
    {
     "name": "stdout",
     "output_type": "stream",
     "text": [
      "Root Mean Square Error:\n",
      "\n",
      "2.0281689091001103\n"
     ]
    }
   ],
   "source": [
    "RMSE = math.sqrt(MSE)\n",
    "print(\"Root Mean Square Error:\\n\")\n",
    "print(RMSE)"
   ]
  }
 ],
 "metadata": {
  "kernelspec": {
   "display_name": "Python 3",
   "language": "python",
   "name": "python3"
  },
  "language_info": {
   "codemirror_mode": {
    "name": "ipython",
    "version": 3
   },
   "file_extension": ".py",
   "mimetype": "text/x-python",
   "name": "python",
   "nbconvert_exporter": "python",
   "pygments_lexer": "ipython3",
   "version": "3.6.13"
  }
 },
 "nbformat": 4,
 "nbformat_minor": 4
}
